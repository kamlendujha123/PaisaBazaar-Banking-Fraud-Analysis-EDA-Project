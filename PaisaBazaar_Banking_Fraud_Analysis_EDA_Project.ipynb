{
  "nbformat": 4,
  "nbformat_minor": 0,
  "metadata": {
    "colab": {
      "provenance": [],
      "authorship_tag": "ABX9TyPfrUiS5uTKeptYdkzsr2zW",
      "include_colab_link": true
    },
    "kernelspec": {
      "name": "python3",
      "display_name": "Python 3"
    },
    "language_info": {
      "name": "python"
    }
  },
  "cells": [
    {
      "cell_type": "markdown",
      "metadata": {
        "id": "view-in-github",
        "colab_type": "text"
      },
      "source": [
        "<a href=\"https://colab.research.google.com/github/kamlendujha123/PaisaBazaar-Banking-Fraud-Analysis-EDA-Project/blob/main/PaisaBazaar_Banking_Fraud_Analysis_EDA_Project.ipynb\" target=\"_parent\"><img src=\"https://colab.research.google.com/assets/colab-badge.svg\" alt=\"Open In Colab\"/></a>"
      ]
    },
    {
      "cell_type": "markdown",
      "source": [
        "# **Project Name**  : PaisaBazaar Banking Fraud Analysis\n",
        "\n"
      ],
      "metadata": {
        "id": "mVihvo2AZ5QV"
      }
    },
    {
      "cell_type": "markdown",
      "source": [
        "##### **Project Type**    : EDA (Exploratory Data Analysis)\n",
        "##### **Contribution**    : Individual\n",
        "##### **Auther -**        : Kamlendu Jha"
      ],
      "metadata": {
        "id": "befdYCMcZ9b5"
      }
    },
    {
      "cell_type": "markdown",
      "source": [
        "# **Project Summary -**"
      ],
      "metadata": {
        "id": "aYCB_WZZZ-rB"
      }
    },
    {
      "cell_type": "markdown",
      "source": [
        "### The PaisaBazaar Banking Fraud Analysis is my individual initiative."
      ],
      "metadata": {
        "id": "DsDSYzxnaItb"
      }
    },
    {
      "cell_type": "markdown",
      "source": [
        "The objective of this project is to explore and analyze the PaisaBazaar dataset to uncover insights and patterns. PaisaBazaar is a leading financial services company that assists individuals in finding and applying for various banking and credit products. A crucial aspect of their service is understanding how individuals repay their loans and manage their credit balances, which is essential for loan approval and risk management.\n",
        "\n",
        "The focus of this project is to analyze the dataset and predict individuals' credit scores based on various attributes. This predictive analysis can help PaisaBazaar enhance its services and mitigate the risks associated with loan approvals.\n",
        "\n",
        "**Workflow:** The PaisaBazaar dataset consists of 100,000 rows and 28 columns, totaling 2,800,000 data values. The initial steps involve analyzing the dataset to identify and address any issues, including the presence of duplicate rows and missing values. Specifically, we will perform:\n",
        "1. Data Cleaning: Removal of duplicate rows from the dataset. And Identification of missing values and null values in the relevent columns.\n",
        "2. Data Type Correction: we will check the data types of all attributes in the dataset. Converting the incorrectly formatted data types into the appropriate types.\n",
        "\n",
        "By following these steps, we will prepare the dataset for further analysis and modeling, ultimately aiming to the factors how different different attributes influences the Credit Score and How can we Increase the revenue generation.\n"
      ],
      "metadata": {
        "id": "XQU3ZINMaB8k"
      }
    },
    {
      "cell_type": "markdown",
      "source": [
        "# **GitHub Link -**"
      ],
      "metadata": {
        "id": "nuGIQr5naPxP"
      }
    },
    {
      "cell_type": "markdown",
      "source": [
        "https://github.com/kamlendujha123/PaisaBazaar-Banking-Fraud-Analysis-EDA-Project/commits/main/"
      ],
      "metadata": {
        "id": "uzGMB3OHacdy"
      }
    },
    {
      "cell_type": "markdown",
      "source": [
        "# **Problem Statement**\n"
      ],
      "metadata": {
        "id": "NVLADXvmaYLO"
      }
    },
    {
      "cell_type": "markdown",
      "source": [
        "The provided dataset contains all kinds of transactional information about individuals. Our goal is to explore and analyze the dataset and find insights and trends to know the relationship between individuals and their previous transaction history by this we will investigate what factors influence the credit scores. In this analysis, we will look at attributes like SSN(Social Security number), annual income, monthly salary, outstanding balance, number of loans, and many more to learn the pattern. By identifying these key factors we will create a EDA model that will identify how various attributes influence the individual's credit score as (GOOD, Poor, Standard). This model will help paisaBazaar to enhance their decision-making for loan approvals and will reduce the risk of loan defaults and will also improve customer satisfaction.\n",
        "\n",
        "#### Steps to Develop the EDA Model.\n",
        "\n",
        "* 1. Exploratory Data Analysis (EDA):\n",
        "\n",
        "  * Data Cleaning: This step involves addressing issues such as:\n",
        "Replacement or removal of null values.\n",
        "Identification and removal of duplicate records.\n",
        "\n",
        "  * Data Profiling: Understanding the distribution and characteristics of each attribute.\n",
        "\n",
        "* 2. Data Visualization: After cleaning the data, we will create visualizations to illustrate how various attributes impact individuals' credit scores. This will help in identifying patterns and relationships within the data.\n",
        "\n",
        "* 3. Feature Engineering: Based on insights from EDA and visualization, we will create new features or modify existing ones to improve the model's predictive power."
      ],
      "metadata": {
        "id": "6wSqbt57aTtW"
      }
    },
    {
      "cell_type": "markdown",
      "source": [
        "#### **Define Your Business Objective?**"
      ],
      "metadata": {
        "id": "2tkj0I7HS_Bt"
      }
    },
    {
      "cell_type": "markdown",
      "source": [
        "The objective of this project is to conduct an Exploratory Data Analysis (EDA) that will enable PaisaBazaar to enhance its loan approval decision-making process. By identifying key factors influencing credit scores, the analysis aims to reduce loan defaults and provide personalized loan recommendations, ultimately improving customer satisfaction and fostering long-term client relationships."
      ],
      "metadata": {
        "id": "09dIdemdTFRc"
      }
    },
    {
      "cell_type": "markdown",
      "source": [
        "# **General Guidelines** : -  "
      ],
      "metadata": {
        "id": "q0cXyTn7TK3b"
      }
    },
    {
      "cell_type": "markdown",
      "source": [
        "1.   Well-structured, formatted, and commented code is required.\n",
        "2.   Exception Handling, Production Grade Code & Deployment Ready Code will be a plus. Those students will be awarded some additional credits.\n",
        "     \n",
        "     The additional credits will have advantages over other students during Star Student selection.\n",
        "       \n",
        "             [ Note: - Deployment Ready Code is defined as, the whole .ipynb notebook should be executable in one go\n",
        "                       without a single error logged. ]\n",
        "\n",
        "3.   Each and every logic should have proper comments.\n",
        "4. You may add as many number of charts you want. Make Sure for each and every chart the following format should be answered.\n",
        "        \n",
        "\n",
        "```\n",
        "# Chart visualization code\n",
        "```\n",
        "            \n",
        "\n",
        "*   Why did you pick the specific chart?\n",
        "*   What is/are the insight(s) found from the chart?\n",
        "* Will the gained insights help creating a positive business impact?\n",
        "Are there any insights that lead to negative growth? Justify with specific reason.\n",
        "\n",
        "5. You have to create at least 20 logical & meaningful charts having important insights.\n",
        "\n",
        "\n",
        "[ Hints : - Do the Vizualization in  a structured way while following \"UBM\" Rule.\n",
        "\n",
        "U - Univariate Analysis,\n",
        "\n",
        "B - Bivariate Analysis (Numerical - Categorical, Numerical - Numerical, Categorical - Categorical)\n",
        "\n",
        "M - Multivariate Analysis\n",
        " ]\n"
      ],
      "metadata": {
        "id": "7AnD4gxVTMj0"
      }
    },
    {
      "cell_type": "markdown",
      "source": [
        "# ***Let's Begin !***"
      ],
      "metadata": {
        "id": "9WKmA1vpqNjP"
      }
    },
    {
      "cell_type": "markdown",
      "source": [
        "## ***1. Know Your Data***"
      ],
      "metadata": {
        "id": "asjbuJAVqQvo"
      }
    },
    {
      "cell_type": "markdown",
      "source": [
        "### Import Libraries :"
      ],
      "metadata": {
        "id": "4KkNMVTOqVic"
      }
    },
    {
      "cell_type": "code",
      "source": [
        "# Import Libraries\n",
        "import numpy as np\n",
        "import pandas as pd\n",
        "import matplotlib.pyplot as plt\n",
        "import seaborn as sns\n",
        "import warnings\n",
        "warnings.filterwarnings('ignore')\n",
        "from google.colab import drive"
      ],
      "metadata": {
        "id": "uEEHou5GqMfI"
      },
      "execution_count": 35,
      "outputs": []
    },
    {
      "cell_type": "markdown",
      "source": [
        "### Dataset Loading"
      ],
      "metadata": {
        "id": "hrHpjjacqdHh"
      }
    },
    {
      "cell_type": "code",
      "source": [
        "# Load Dataset\n",
        "drive.mount('/content/drive/')\n",
        "path='/content/drive/My Drive/EDA_project by python/PaisaBazaar_Fraud_Analysis/PaisaBazaar.csv'"
      ],
      "metadata": {
        "colab": {
          "base_uri": "https://localhost:8080/"
        },
        "id": "v71AAjc8qgI5",
        "outputId": "6b4e3c19-ff18-4f93-81c3-41033f095d86"
      },
      "execution_count": 36,
      "outputs": [
        {
          "output_type": "stream",
          "name": "stdout",
          "text": [
            "Drive already mounted at /content/drive/; to attempt to forcibly remount, call drive.mount(\"/content/drive/\", force_remount=True).\n"
          ]
        }
      ]
    },
    {
      "cell_type": "markdown",
      "source": [
        "### Dataset First View"
      ],
      "metadata": {
        "id": "cFJQr_Frqd3k"
      }
    },
    {
      "cell_type": "code",
      "source": [
        "data=pd.read_csv(path)\n",
        "data"
      ],
      "metadata": {
        "colab": {
          "base_uri": "https://localhost:8080/",
          "height": 530
        },
        "id": "OjZ0LuGYqlIQ",
        "outputId": "fa2a060b-3313-47c2-932d-a16fca4e65b8"
      },
      "execution_count": 37,
      "outputs": [
        {
          "output_type": "execute_result",
          "data": {
            "text/plain": [
              "           ID  Customer_ID  Month           Name   Age          SSN  \\\n",
              "0        5634         3392      1  Aaron Maashoh  23.0  821000265.0   \n",
              "1        5635         3392      2  Aaron Maashoh  23.0  821000265.0   \n",
              "2        5636         3392      3  Aaron Maashoh  23.0  821000265.0   \n",
              "3        5637         3392      4  Aaron Maashoh  23.0  821000265.0   \n",
              "4        5638         3392      5  Aaron Maashoh  23.0  821000265.0   \n",
              "...       ...          ...    ...            ...   ...          ...   \n",
              "99995  155625        37932      4          Nicks  25.0   78735990.0   \n",
              "99996  155626        37932      5          Nicks  25.0   78735990.0   \n",
              "99997  155627        37932      6          Nicks  25.0   78735990.0   \n",
              "99998  155628        37932      7          Nicks  25.0   78735990.0   \n",
              "99999  155629        37932      8          Nicks  25.0   78735990.0   \n",
              "\n",
              "      Occupation  Annual_Income  Monthly_Inhand_Salary  Num_Bank_Accounts  \\\n",
              "0      Scientist       19114.12            1824.843333                3.0   \n",
              "1      Scientist       19114.12            1824.843333                3.0   \n",
              "2      Scientist       19114.12            1824.843333                3.0   \n",
              "3      Scientist       19114.12            1824.843333                3.0   \n",
              "4      Scientist       19114.12            1824.843333                3.0   \n",
              "...          ...            ...                    ...                ...   \n",
              "99995   Mechanic       39628.99            3359.415833                4.0   \n",
              "99996   Mechanic       39628.99            3359.415833                4.0   \n",
              "99997   Mechanic       39628.99            3359.415833                4.0   \n",
              "99998   Mechanic       39628.99            3359.415833                4.0   \n",
              "99999   Mechanic       39628.99            3359.415833                4.0   \n",
              "\n",
              "       ...  Credit_Mix  Outstanding_Debt  Credit_Utilization_Ratio  \\\n",
              "0      ...        Good            809.98                 26.822620   \n",
              "1      ...        Good            809.98                 31.944960   \n",
              "2      ...        Good            809.98                 28.609352   \n",
              "3      ...        Good            809.98                 31.377862   \n",
              "4      ...        Good            809.98                 24.797347   \n",
              "...    ...         ...               ...                       ...   \n",
              "99995  ...        Good            502.38                 34.663572   \n",
              "99996  ...        Good            502.38                 40.565631   \n",
              "99997  ...        Good            502.38                 41.255522   \n",
              "99998  ...        Good            502.38                 33.638208   \n",
              "99999  ...        Good            502.38                 34.192463   \n",
              "\n",
              "      Credit_History_Age  Payment_of_Min_Amount  Total_EMI_per_month  \\\n",
              "0                  265.0                     No            49.574949   \n",
              "1                  266.0                     No            49.574949   \n",
              "2                  267.0                     No            49.574949   \n",
              "3                  268.0                     No            49.574949   \n",
              "4                  269.0                     No            49.574949   \n",
              "...                  ...                    ...                  ...   \n",
              "99995              378.0                     No            35.104023   \n",
              "99996              379.0                     No            35.104023   \n",
              "99997              380.0                     No            35.104023   \n",
              "99998              381.0                     No            35.104023   \n",
              "99999              382.0                     No            35.104023   \n",
              "\n",
              "       Amount_invested_monthly                 Payment_Behaviour  \\\n",
              "0                    21.465380   High_spent_Small_value_payments   \n",
              "1                    21.465380    Low_spent_Large_value_payments   \n",
              "2                    21.465380   Low_spent_Medium_value_payments   \n",
              "3                    21.465380    Low_spent_Small_value_payments   \n",
              "4                    21.465380  High_spent_Medium_value_payments   \n",
              "...                        ...                               ...   \n",
              "99995                24.028477   High_spent_Large_value_payments   \n",
              "99996                24.028477  High_spent_Medium_value_payments   \n",
              "99997                24.028477   High_spent_Large_value_payments   \n",
              "99998                24.028477    Low_spent_Large_value_payments   \n",
              "99999                24.028477  High_spent_Medium_value_payments   \n",
              "\n",
              "      Monthly_Balance  Credit_Score  \n",
              "0          312.494089          Good  \n",
              "1          284.629162          Good  \n",
              "2          331.209863          Good  \n",
              "3          223.451310          Good  \n",
              "4          341.489231          Good  \n",
              "...               ...           ...  \n",
              "99995      479.866228          Poor  \n",
              "99996      496.651610          Poor  \n",
              "99997      516.809083          Poor  \n",
              "99998      319.164979      Standard  \n",
              "99999      393.673696          Poor  \n",
              "\n",
              "[100000 rows x 28 columns]"
            ],
            "text/html": [
              "\n",
              "  <div id=\"df-54db4a52-8f40-4768-a390-f30d087b277c\" class=\"colab-df-container\">\n",
              "    <div>\n",
              "<style scoped>\n",
              "    .dataframe tbody tr th:only-of-type {\n",
              "        vertical-align: middle;\n",
              "    }\n",
              "\n",
              "    .dataframe tbody tr th {\n",
              "        vertical-align: top;\n",
              "    }\n",
              "\n",
              "    .dataframe thead th {\n",
              "        text-align: right;\n",
              "    }\n",
              "</style>\n",
              "<table border=\"1\" class=\"dataframe\">\n",
              "  <thead>\n",
              "    <tr style=\"text-align: right;\">\n",
              "      <th></th>\n",
              "      <th>ID</th>\n",
              "      <th>Customer_ID</th>\n",
              "      <th>Month</th>\n",
              "      <th>Name</th>\n",
              "      <th>Age</th>\n",
              "      <th>SSN</th>\n",
              "      <th>Occupation</th>\n",
              "      <th>Annual_Income</th>\n",
              "      <th>Monthly_Inhand_Salary</th>\n",
              "      <th>Num_Bank_Accounts</th>\n",
              "      <th>...</th>\n",
              "      <th>Credit_Mix</th>\n",
              "      <th>Outstanding_Debt</th>\n",
              "      <th>Credit_Utilization_Ratio</th>\n",
              "      <th>Credit_History_Age</th>\n",
              "      <th>Payment_of_Min_Amount</th>\n",
              "      <th>Total_EMI_per_month</th>\n",
              "      <th>Amount_invested_monthly</th>\n",
              "      <th>Payment_Behaviour</th>\n",
              "      <th>Monthly_Balance</th>\n",
              "      <th>Credit_Score</th>\n",
              "    </tr>\n",
              "  </thead>\n",
              "  <tbody>\n",
              "    <tr>\n",
              "      <th>0</th>\n",
              "      <td>5634</td>\n",
              "      <td>3392</td>\n",
              "      <td>1</td>\n",
              "      <td>Aaron Maashoh</td>\n",
              "      <td>23.0</td>\n",
              "      <td>821000265.0</td>\n",
              "      <td>Scientist</td>\n",
              "      <td>19114.12</td>\n",
              "      <td>1824.843333</td>\n",
              "      <td>3.0</td>\n",
              "      <td>...</td>\n",
              "      <td>Good</td>\n",
              "      <td>809.98</td>\n",
              "      <td>26.822620</td>\n",
              "      <td>265.0</td>\n",
              "      <td>No</td>\n",
              "      <td>49.574949</td>\n",
              "      <td>21.465380</td>\n",
              "      <td>High_spent_Small_value_payments</td>\n",
              "      <td>312.494089</td>\n",
              "      <td>Good</td>\n",
              "    </tr>\n",
              "    <tr>\n",
              "      <th>1</th>\n",
              "      <td>5635</td>\n",
              "      <td>3392</td>\n",
              "      <td>2</td>\n",
              "      <td>Aaron Maashoh</td>\n",
              "      <td>23.0</td>\n",
              "      <td>821000265.0</td>\n",
              "      <td>Scientist</td>\n",
              "      <td>19114.12</td>\n",
              "      <td>1824.843333</td>\n",
              "      <td>3.0</td>\n",
              "      <td>...</td>\n",
              "      <td>Good</td>\n",
              "      <td>809.98</td>\n",
              "      <td>31.944960</td>\n",
              "      <td>266.0</td>\n",
              "      <td>No</td>\n",
              "      <td>49.574949</td>\n",
              "      <td>21.465380</td>\n",
              "      <td>Low_spent_Large_value_payments</td>\n",
              "      <td>284.629162</td>\n",
              "      <td>Good</td>\n",
              "    </tr>\n",
              "    <tr>\n",
              "      <th>2</th>\n",
              "      <td>5636</td>\n",
              "      <td>3392</td>\n",
              "      <td>3</td>\n",
              "      <td>Aaron Maashoh</td>\n",
              "      <td>23.0</td>\n",
              "      <td>821000265.0</td>\n",
              "      <td>Scientist</td>\n",
              "      <td>19114.12</td>\n",
              "      <td>1824.843333</td>\n",
              "      <td>3.0</td>\n",
              "      <td>...</td>\n",
              "      <td>Good</td>\n",
              "      <td>809.98</td>\n",
              "      <td>28.609352</td>\n",
              "      <td>267.0</td>\n",
              "      <td>No</td>\n",
              "      <td>49.574949</td>\n",
              "      <td>21.465380</td>\n",
              "      <td>Low_spent_Medium_value_payments</td>\n",
              "      <td>331.209863</td>\n",
              "      <td>Good</td>\n",
              "    </tr>\n",
              "    <tr>\n",
              "      <th>3</th>\n",
              "      <td>5637</td>\n",
              "      <td>3392</td>\n",
              "      <td>4</td>\n",
              "      <td>Aaron Maashoh</td>\n",
              "      <td>23.0</td>\n",
              "      <td>821000265.0</td>\n",
              "      <td>Scientist</td>\n",
              "      <td>19114.12</td>\n",
              "      <td>1824.843333</td>\n",
              "      <td>3.0</td>\n",
              "      <td>...</td>\n",
              "      <td>Good</td>\n",
              "      <td>809.98</td>\n",
              "      <td>31.377862</td>\n",
              "      <td>268.0</td>\n",
              "      <td>No</td>\n",
              "      <td>49.574949</td>\n",
              "      <td>21.465380</td>\n",
              "      <td>Low_spent_Small_value_payments</td>\n",
              "      <td>223.451310</td>\n",
              "      <td>Good</td>\n",
              "    </tr>\n",
              "    <tr>\n",
              "      <th>4</th>\n",
              "      <td>5638</td>\n",
              "      <td>3392</td>\n",
              "      <td>5</td>\n",
              "      <td>Aaron Maashoh</td>\n",
              "      <td>23.0</td>\n",
              "      <td>821000265.0</td>\n",
              "      <td>Scientist</td>\n",
              "      <td>19114.12</td>\n",
              "      <td>1824.843333</td>\n",
              "      <td>3.0</td>\n",
              "      <td>...</td>\n",
              "      <td>Good</td>\n",
              "      <td>809.98</td>\n",
              "      <td>24.797347</td>\n",
              "      <td>269.0</td>\n",
              "      <td>No</td>\n",
              "      <td>49.574949</td>\n",
              "      <td>21.465380</td>\n",
              "      <td>High_spent_Medium_value_payments</td>\n",
              "      <td>341.489231</td>\n",
              "      <td>Good</td>\n",
              "    </tr>\n",
              "    <tr>\n",
              "      <th>...</th>\n",
              "      <td>...</td>\n",
              "      <td>...</td>\n",
              "      <td>...</td>\n",
              "      <td>...</td>\n",
              "      <td>...</td>\n",
              "      <td>...</td>\n",
              "      <td>...</td>\n",
              "      <td>...</td>\n",
              "      <td>...</td>\n",
              "      <td>...</td>\n",
              "      <td>...</td>\n",
              "      <td>...</td>\n",
              "      <td>...</td>\n",
              "      <td>...</td>\n",
              "      <td>...</td>\n",
              "      <td>...</td>\n",
              "      <td>...</td>\n",
              "      <td>...</td>\n",
              "      <td>...</td>\n",
              "      <td>...</td>\n",
              "      <td>...</td>\n",
              "    </tr>\n",
              "    <tr>\n",
              "      <th>99995</th>\n",
              "      <td>155625</td>\n",
              "      <td>37932</td>\n",
              "      <td>4</td>\n",
              "      <td>Nicks</td>\n",
              "      <td>25.0</td>\n",
              "      <td>78735990.0</td>\n",
              "      <td>Mechanic</td>\n",
              "      <td>39628.99</td>\n",
              "      <td>3359.415833</td>\n",
              "      <td>4.0</td>\n",
              "      <td>...</td>\n",
              "      <td>Good</td>\n",
              "      <td>502.38</td>\n",
              "      <td>34.663572</td>\n",
              "      <td>378.0</td>\n",
              "      <td>No</td>\n",
              "      <td>35.104023</td>\n",
              "      <td>24.028477</td>\n",
              "      <td>High_spent_Large_value_payments</td>\n",
              "      <td>479.866228</td>\n",
              "      <td>Poor</td>\n",
              "    </tr>\n",
              "    <tr>\n",
              "      <th>99996</th>\n",
              "      <td>155626</td>\n",
              "      <td>37932</td>\n",
              "      <td>5</td>\n",
              "      <td>Nicks</td>\n",
              "      <td>25.0</td>\n",
              "      <td>78735990.0</td>\n",
              "      <td>Mechanic</td>\n",
              "      <td>39628.99</td>\n",
              "      <td>3359.415833</td>\n",
              "      <td>4.0</td>\n",
              "      <td>...</td>\n",
              "      <td>Good</td>\n",
              "      <td>502.38</td>\n",
              "      <td>40.565631</td>\n",
              "      <td>379.0</td>\n",
              "      <td>No</td>\n",
              "      <td>35.104023</td>\n",
              "      <td>24.028477</td>\n",
              "      <td>High_spent_Medium_value_payments</td>\n",
              "      <td>496.651610</td>\n",
              "      <td>Poor</td>\n",
              "    </tr>\n",
              "    <tr>\n",
              "      <th>99997</th>\n",
              "      <td>155627</td>\n",
              "      <td>37932</td>\n",
              "      <td>6</td>\n",
              "      <td>Nicks</td>\n",
              "      <td>25.0</td>\n",
              "      <td>78735990.0</td>\n",
              "      <td>Mechanic</td>\n",
              "      <td>39628.99</td>\n",
              "      <td>3359.415833</td>\n",
              "      <td>4.0</td>\n",
              "      <td>...</td>\n",
              "      <td>Good</td>\n",
              "      <td>502.38</td>\n",
              "      <td>41.255522</td>\n",
              "      <td>380.0</td>\n",
              "      <td>No</td>\n",
              "      <td>35.104023</td>\n",
              "      <td>24.028477</td>\n",
              "      <td>High_spent_Large_value_payments</td>\n",
              "      <td>516.809083</td>\n",
              "      <td>Poor</td>\n",
              "    </tr>\n",
              "    <tr>\n",
              "      <th>99998</th>\n",
              "      <td>155628</td>\n",
              "      <td>37932</td>\n",
              "      <td>7</td>\n",
              "      <td>Nicks</td>\n",
              "      <td>25.0</td>\n",
              "      <td>78735990.0</td>\n",
              "      <td>Mechanic</td>\n",
              "      <td>39628.99</td>\n",
              "      <td>3359.415833</td>\n",
              "      <td>4.0</td>\n",
              "      <td>...</td>\n",
              "      <td>Good</td>\n",
              "      <td>502.38</td>\n",
              "      <td>33.638208</td>\n",
              "      <td>381.0</td>\n",
              "      <td>No</td>\n",
              "      <td>35.104023</td>\n",
              "      <td>24.028477</td>\n",
              "      <td>Low_spent_Large_value_payments</td>\n",
              "      <td>319.164979</td>\n",
              "      <td>Standard</td>\n",
              "    </tr>\n",
              "    <tr>\n",
              "      <th>99999</th>\n",
              "      <td>155629</td>\n",
              "      <td>37932</td>\n",
              "      <td>8</td>\n",
              "      <td>Nicks</td>\n",
              "      <td>25.0</td>\n",
              "      <td>78735990.0</td>\n",
              "      <td>Mechanic</td>\n",
              "      <td>39628.99</td>\n",
              "      <td>3359.415833</td>\n",
              "      <td>4.0</td>\n",
              "      <td>...</td>\n",
              "      <td>Good</td>\n",
              "      <td>502.38</td>\n",
              "      <td>34.192463</td>\n",
              "      <td>382.0</td>\n",
              "      <td>No</td>\n",
              "      <td>35.104023</td>\n",
              "      <td>24.028477</td>\n",
              "      <td>High_spent_Medium_value_payments</td>\n",
              "      <td>393.673696</td>\n",
              "      <td>Poor</td>\n",
              "    </tr>\n",
              "  </tbody>\n",
              "</table>\n",
              "<p>100000 rows × 28 columns</p>\n",
              "</div>\n",
              "    <div class=\"colab-df-buttons\">\n",
              "\n",
              "  <div class=\"colab-df-container\">\n",
              "    <button class=\"colab-df-convert\" onclick=\"convertToInteractive('df-54db4a52-8f40-4768-a390-f30d087b277c')\"\n",
              "            title=\"Convert this dataframe to an interactive table.\"\n",
              "            style=\"display:none;\">\n",
              "\n",
              "  <svg xmlns=\"http://www.w3.org/2000/svg\" height=\"24px\" viewBox=\"0 -960 960 960\">\n",
              "    <path d=\"M120-120v-720h720v720H120Zm60-500h600v-160H180v160Zm220 220h160v-160H400v160Zm0 220h160v-160H400v160ZM180-400h160v-160H180v160Zm440 0h160v-160H620v160ZM180-180h160v-160H180v160Zm440 0h160v-160H620v160Z\"/>\n",
              "  </svg>\n",
              "    </button>\n",
              "\n",
              "  <style>\n",
              "    .colab-df-container {\n",
              "      display:flex;\n",
              "      gap: 12px;\n",
              "    }\n",
              "\n",
              "    .colab-df-convert {\n",
              "      background-color: #E8F0FE;\n",
              "      border: none;\n",
              "      border-radius: 50%;\n",
              "      cursor: pointer;\n",
              "      display: none;\n",
              "      fill: #1967D2;\n",
              "      height: 32px;\n",
              "      padding: 0 0 0 0;\n",
              "      width: 32px;\n",
              "    }\n",
              "\n",
              "    .colab-df-convert:hover {\n",
              "      background-color: #E2EBFA;\n",
              "      box-shadow: 0px 1px 2px rgba(60, 64, 67, 0.3), 0px 1px 3px 1px rgba(60, 64, 67, 0.15);\n",
              "      fill: #174EA6;\n",
              "    }\n",
              "\n",
              "    .colab-df-buttons div {\n",
              "      margin-bottom: 4px;\n",
              "    }\n",
              "\n",
              "    [theme=dark] .colab-df-convert {\n",
              "      background-color: #3B4455;\n",
              "      fill: #D2E3FC;\n",
              "    }\n",
              "\n",
              "    [theme=dark] .colab-df-convert:hover {\n",
              "      background-color: #434B5C;\n",
              "      box-shadow: 0px 1px 3px 1px rgba(0, 0, 0, 0.15);\n",
              "      filter: drop-shadow(0px 1px 2px rgba(0, 0, 0, 0.3));\n",
              "      fill: #FFFFFF;\n",
              "    }\n",
              "  </style>\n",
              "\n",
              "    <script>\n",
              "      const buttonEl =\n",
              "        document.querySelector('#df-54db4a52-8f40-4768-a390-f30d087b277c button.colab-df-convert');\n",
              "      buttonEl.style.display =\n",
              "        google.colab.kernel.accessAllowed ? 'block' : 'none';\n",
              "\n",
              "      async function convertToInteractive(key) {\n",
              "        const element = document.querySelector('#df-54db4a52-8f40-4768-a390-f30d087b277c');\n",
              "        const dataTable =\n",
              "          await google.colab.kernel.invokeFunction('convertToInteractive',\n",
              "                                                    [key], {});\n",
              "        if (!dataTable) return;\n",
              "\n",
              "        const docLinkHtml = 'Like what you see? Visit the ' +\n",
              "          '<a target=\"_blank\" href=https://colab.research.google.com/notebooks/data_table.ipynb>data table notebook</a>'\n",
              "          + ' to learn more about interactive tables.';\n",
              "        element.innerHTML = '';\n",
              "        dataTable['output_type'] = 'display_data';\n",
              "        await google.colab.output.renderOutput(dataTable, element);\n",
              "        const docLink = document.createElement('div');\n",
              "        docLink.innerHTML = docLinkHtml;\n",
              "        element.appendChild(docLink);\n",
              "      }\n",
              "    </script>\n",
              "  </div>\n",
              "\n",
              "\n",
              "<div id=\"df-f6b62578-5faf-49eb-a086-003f380019d5\">\n",
              "  <button class=\"colab-df-quickchart\" onclick=\"quickchart('df-f6b62578-5faf-49eb-a086-003f380019d5')\"\n",
              "            title=\"Suggest charts\"\n",
              "            style=\"display:none;\">\n",
              "\n",
              "<svg xmlns=\"http://www.w3.org/2000/svg\" height=\"24px\"viewBox=\"0 0 24 24\"\n",
              "     width=\"24px\">\n",
              "    <g>\n",
              "        <path d=\"M19 3H5c-1.1 0-2 .9-2 2v14c0 1.1.9 2 2 2h14c1.1 0 2-.9 2-2V5c0-1.1-.9-2-2-2zM9 17H7v-7h2v7zm4 0h-2V7h2v10zm4 0h-2v-4h2v4z\"/>\n",
              "    </g>\n",
              "</svg>\n",
              "  </button>\n",
              "\n",
              "<style>\n",
              "  .colab-df-quickchart {\n",
              "      --bg-color: #E8F0FE;\n",
              "      --fill-color: #1967D2;\n",
              "      --hover-bg-color: #E2EBFA;\n",
              "      --hover-fill-color: #174EA6;\n",
              "      --disabled-fill-color: #AAA;\n",
              "      --disabled-bg-color: #DDD;\n",
              "  }\n",
              "\n",
              "  [theme=dark] .colab-df-quickchart {\n",
              "      --bg-color: #3B4455;\n",
              "      --fill-color: #D2E3FC;\n",
              "      --hover-bg-color: #434B5C;\n",
              "      --hover-fill-color: #FFFFFF;\n",
              "      --disabled-bg-color: #3B4455;\n",
              "      --disabled-fill-color: #666;\n",
              "  }\n",
              "\n",
              "  .colab-df-quickchart {\n",
              "    background-color: var(--bg-color);\n",
              "    border: none;\n",
              "    border-radius: 50%;\n",
              "    cursor: pointer;\n",
              "    display: none;\n",
              "    fill: var(--fill-color);\n",
              "    height: 32px;\n",
              "    padding: 0;\n",
              "    width: 32px;\n",
              "  }\n",
              "\n",
              "  .colab-df-quickchart:hover {\n",
              "    background-color: var(--hover-bg-color);\n",
              "    box-shadow: 0 1px 2px rgba(60, 64, 67, 0.3), 0 1px 3px 1px rgba(60, 64, 67, 0.15);\n",
              "    fill: var(--button-hover-fill-color);\n",
              "  }\n",
              "\n",
              "  .colab-df-quickchart-complete:disabled,\n",
              "  .colab-df-quickchart-complete:disabled:hover {\n",
              "    background-color: var(--disabled-bg-color);\n",
              "    fill: var(--disabled-fill-color);\n",
              "    box-shadow: none;\n",
              "  }\n",
              "\n",
              "  .colab-df-spinner {\n",
              "    border: 2px solid var(--fill-color);\n",
              "    border-color: transparent;\n",
              "    border-bottom-color: var(--fill-color);\n",
              "    animation:\n",
              "      spin 1s steps(1) infinite;\n",
              "  }\n",
              "\n",
              "  @keyframes spin {\n",
              "    0% {\n",
              "      border-color: transparent;\n",
              "      border-bottom-color: var(--fill-color);\n",
              "      border-left-color: var(--fill-color);\n",
              "    }\n",
              "    20% {\n",
              "      border-color: transparent;\n",
              "      border-left-color: var(--fill-color);\n",
              "      border-top-color: var(--fill-color);\n",
              "    }\n",
              "    30% {\n",
              "      border-color: transparent;\n",
              "      border-left-color: var(--fill-color);\n",
              "      border-top-color: var(--fill-color);\n",
              "      border-right-color: var(--fill-color);\n",
              "    }\n",
              "    40% {\n",
              "      border-color: transparent;\n",
              "      border-right-color: var(--fill-color);\n",
              "      border-top-color: var(--fill-color);\n",
              "    }\n",
              "    60% {\n",
              "      border-color: transparent;\n",
              "      border-right-color: var(--fill-color);\n",
              "    }\n",
              "    80% {\n",
              "      border-color: transparent;\n",
              "      border-right-color: var(--fill-color);\n",
              "      border-bottom-color: var(--fill-color);\n",
              "    }\n",
              "    90% {\n",
              "      border-color: transparent;\n",
              "      border-bottom-color: var(--fill-color);\n",
              "    }\n",
              "  }\n",
              "</style>\n",
              "\n",
              "  <script>\n",
              "    async function quickchart(key) {\n",
              "      const quickchartButtonEl =\n",
              "        document.querySelector('#' + key + ' button');\n",
              "      quickchartButtonEl.disabled = true;  // To prevent multiple clicks.\n",
              "      quickchartButtonEl.classList.add('colab-df-spinner');\n",
              "      try {\n",
              "        const charts = await google.colab.kernel.invokeFunction(\n",
              "            'suggestCharts', [key], {});\n",
              "      } catch (error) {\n",
              "        console.error('Error during call to suggestCharts:', error);\n",
              "      }\n",
              "      quickchartButtonEl.classList.remove('colab-df-spinner');\n",
              "      quickchartButtonEl.classList.add('colab-df-quickchart-complete');\n",
              "    }\n",
              "    (() => {\n",
              "      let quickchartButtonEl =\n",
              "        document.querySelector('#df-f6b62578-5faf-49eb-a086-003f380019d5 button');\n",
              "      quickchartButtonEl.style.display =\n",
              "        google.colab.kernel.accessAllowed ? 'block' : 'none';\n",
              "    })();\n",
              "  </script>\n",
              "</div>\n",
              "\n",
              "  <div id=\"id_5baacffc-7c20-402d-8db3-41ba32e525ae\">\n",
              "    <style>\n",
              "      .colab-df-generate {\n",
              "        background-color: #E8F0FE;\n",
              "        border: none;\n",
              "        border-radius: 50%;\n",
              "        cursor: pointer;\n",
              "        display: none;\n",
              "        fill: #1967D2;\n",
              "        height: 32px;\n",
              "        padding: 0 0 0 0;\n",
              "        width: 32px;\n",
              "      }\n",
              "\n",
              "      .colab-df-generate:hover {\n",
              "        background-color: #E2EBFA;\n",
              "        box-shadow: 0px 1px 2px rgba(60, 64, 67, 0.3), 0px 1px 3px 1px rgba(60, 64, 67, 0.15);\n",
              "        fill: #174EA6;\n",
              "      }\n",
              "\n",
              "      [theme=dark] .colab-df-generate {\n",
              "        background-color: #3B4455;\n",
              "        fill: #D2E3FC;\n",
              "      }\n",
              "\n",
              "      [theme=dark] .colab-df-generate:hover {\n",
              "        background-color: #434B5C;\n",
              "        box-shadow: 0px 1px 3px 1px rgba(0, 0, 0, 0.15);\n",
              "        filter: drop-shadow(0px 1px 2px rgba(0, 0, 0, 0.3));\n",
              "        fill: #FFFFFF;\n",
              "      }\n",
              "    </style>\n",
              "    <button class=\"colab-df-generate\" onclick=\"generateWithVariable('data')\"\n",
              "            title=\"Generate code using this dataframe.\"\n",
              "            style=\"display:none;\">\n",
              "\n",
              "  <svg xmlns=\"http://www.w3.org/2000/svg\" height=\"24px\"viewBox=\"0 0 24 24\"\n",
              "       width=\"24px\">\n",
              "    <path d=\"M7,19H8.4L18.45,9,17,7.55,7,17.6ZM5,21V16.75L18.45,3.32a2,2,0,0,1,2.83,0l1.4,1.43a1.91,1.91,0,0,1,.58,1.4,1.91,1.91,0,0,1-.58,1.4L9.25,21ZM18.45,9,17,7.55Zm-12,3A5.31,5.31,0,0,0,4.9,8.1,5.31,5.31,0,0,0,1,6.5,5.31,5.31,0,0,0,4.9,4.9,5.31,5.31,0,0,0,6.5,1,5.31,5.31,0,0,0,8.1,4.9,5.31,5.31,0,0,0,12,6.5,5.46,5.46,0,0,0,6.5,12Z\"/>\n",
              "  </svg>\n",
              "    </button>\n",
              "    <script>\n",
              "      (() => {\n",
              "      const buttonEl =\n",
              "        document.querySelector('#id_5baacffc-7c20-402d-8db3-41ba32e525ae button.colab-df-generate');\n",
              "      buttonEl.style.display =\n",
              "        google.colab.kernel.accessAllowed ? 'block' : 'none';\n",
              "\n",
              "      buttonEl.onclick = () => {\n",
              "        google.colab.notebook.generateWithVariable('data');\n",
              "      }\n",
              "      })();\n",
              "    </script>\n",
              "  </div>\n",
              "\n",
              "    </div>\n",
              "  </div>\n"
            ],
            "application/vnd.google.colaboratory.intrinsic+json": {
              "type": "dataframe",
              "variable_name": "data"
            }
          },
          "metadata": {},
          "execution_count": 37
        }
      ]
    },
    {
      "cell_type": "code",
      "source": [
        "# First five rows of dataset by using .head()function\n",
        "data.head()"
      ],
      "metadata": {
        "colab": {
          "base_uri": "https://localhost:8080/",
          "height": 342
        },
        "id": "_uz_lSGdqntB",
        "outputId": "c4436101-58af-4e93-bbae-87a33ffcd96f"
      },
      "execution_count": 38,
      "outputs": [
        {
          "output_type": "execute_result",
          "data": {
            "text/plain": [
              "     ID  Customer_ID  Month           Name   Age          SSN Occupation  \\\n",
              "0  5634         3392      1  Aaron Maashoh  23.0  821000265.0  Scientist   \n",
              "1  5635         3392      2  Aaron Maashoh  23.0  821000265.0  Scientist   \n",
              "2  5636         3392      3  Aaron Maashoh  23.0  821000265.0  Scientist   \n",
              "3  5637         3392      4  Aaron Maashoh  23.0  821000265.0  Scientist   \n",
              "4  5638         3392      5  Aaron Maashoh  23.0  821000265.0  Scientist   \n",
              "\n",
              "   Annual_Income  Monthly_Inhand_Salary  Num_Bank_Accounts  ...  Credit_Mix  \\\n",
              "0       19114.12            1824.843333                3.0  ...        Good   \n",
              "1       19114.12            1824.843333                3.0  ...        Good   \n",
              "2       19114.12            1824.843333                3.0  ...        Good   \n",
              "3       19114.12            1824.843333                3.0  ...        Good   \n",
              "4       19114.12            1824.843333                3.0  ...        Good   \n",
              "\n",
              "   Outstanding_Debt  Credit_Utilization_Ratio Credit_History_Age  \\\n",
              "0            809.98                 26.822620              265.0   \n",
              "1            809.98                 31.944960              266.0   \n",
              "2            809.98                 28.609352              267.0   \n",
              "3            809.98                 31.377862              268.0   \n",
              "4            809.98                 24.797347              269.0   \n",
              "\n",
              "   Payment_of_Min_Amount  Total_EMI_per_month  Amount_invested_monthly  \\\n",
              "0                     No            49.574949                 21.46538   \n",
              "1                     No            49.574949                 21.46538   \n",
              "2                     No            49.574949                 21.46538   \n",
              "3                     No            49.574949                 21.46538   \n",
              "4                     No            49.574949                 21.46538   \n",
              "\n",
              "                  Payment_Behaviour Monthly_Balance  Credit_Score  \n",
              "0   High_spent_Small_value_payments      312.494089          Good  \n",
              "1    Low_spent_Large_value_payments      284.629162          Good  \n",
              "2   Low_spent_Medium_value_payments      331.209863          Good  \n",
              "3    Low_spent_Small_value_payments      223.451310          Good  \n",
              "4  High_spent_Medium_value_payments      341.489231          Good  \n",
              "\n",
              "[5 rows x 28 columns]"
            ],
            "text/html": [
              "\n",
              "  <div id=\"df-b61e296e-5a8f-4f06-a44a-2a7dd7ea3e0d\" class=\"colab-df-container\">\n",
              "    <div>\n",
              "<style scoped>\n",
              "    .dataframe tbody tr th:only-of-type {\n",
              "        vertical-align: middle;\n",
              "    }\n",
              "\n",
              "    .dataframe tbody tr th {\n",
              "        vertical-align: top;\n",
              "    }\n",
              "\n",
              "    .dataframe thead th {\n",
              "        text-align: right;\n",
              "    }\n",
              "</style>\n",
              "<table border=\"1\" class=\"dataframe\">\n",
              "  <thead>\n",
              "    <tr style=\"text-align: right;\">\n",
              "      <th></th>\n",
              "      <th>ID</th>\n",
              "      <th>Customer_ID</th>\n",
              "      <th>Month</th>\n",
              "      <th>Name</th>\n",
              "      <th>Age</th>\n",
              "      <th>SSN</th>\n",
              "      <th>Occupation</th>\n",
              "      <th>Annual_Income</th>\n",
              "      <th>Monthly_Inhand_Salary</th>\n",
              "      <th>Num_Bank_Accounts</th>\n",
              "      <th>...</th>\n",
              "      <th>Credit_Mix</th>\n",
              "      <th>Outstanding_Debt</th>\n",
              "      <th>Credit_Utilization_Ratio</th>\n",
              "      <th>Credit_History_Age</th>\n",
              "      <th>Payment_of_Min_Amount</th>\n",
              "      <th>Total_EMI_per_month</th>\n",
              "      <th>Amount_invested_monthly</th>\n",
              "      <th>Payment_Behaviour</th>\n",
              "      <th>Monthly_Balance</th>\n",
              "      <th>Credit_Score</th>\n",
              "    </tr>\n",
              "  </thead>\n",
              "  <tbody>\n",
              "    <tr>\n",
              "      <th>0</th>\n",
              "      <td>5634</td>\n",
              "      <td>3392</td>\n",
              "      <td>1</td>\n",
              "      <td>Aaron Maashoh</td>\n",
              "      <td>23.0</td>\n",
              "      <td>821000265.0</td>\n",
              "      <td>Scientist</td>\n",
              "      <td>19114.12</td>\n",
              "      <td>1824.843333</td>\n",
              "      <td>3.0</td>\n",
              "      <td>...</td>\n",
              "      <td>Good</td>\n",
              "      <td>809.98</td>\n",
              "      <td>26.822620</td>\n",
              "      <td>265.0</td>\n",
              "      <td>No</td>\n",
              "      <td>49.574949</td>\n",
              "      <td>21.46538</td>\n",
              "      <td>High_spent_Small_value_payments</td>\n",
              "      <td>312.494089</td>\n",
              "      <td>Good</td>\n",
              "    </tr>\n",
              "    <tr>\n",
              "      <th>1</th>\n",
              "      <td>5635</td>\n",
              "      <td>3392</td>\n",
              "      <td>2</td>\n",
              "      <td>Aaron Maashoh</td>\n",
              "      <td>23.0</td>\n",
              "      <td>821000265.0</td>\n",
              "      <td>Scientist</td>\n",
              "      <td>19114.12</td>\n",
              "      <td>1824.843333</td>\n",
              "      <td>3.0</td>\n",
              "      <td>...</td>\n",
              "      <td>Good</td>\n",
              "      <td>809.98</td>\n",
              "      <td>31.944960</td>\n",
              "      <td>266.0</td>\n",
              "      <td>No</td>\n",
              "      <td>49.574949</td>\n",
              "      <td>21.46538</td>\n",
              "      <td>Low_spent_Large_value_payments</td>\n",
              "      <td>284.629162</td>\n",
              "      <td>Good</td>\n",
              "    </tr>\n",
              "    <tr>\n",
              "      <th>2</th>\n",
              "      <td>5636</td>\n",
              "      <td>3392</td>\n",
              "      <td>3</td>\n",
              "      <td>Aaron Maashoh</td>\n",
              "      <td>23.0</td>\n",
              "      <td>821000265.0</td>\n",
              "      <td>Scientist</td>\n",
              "      <td>19114.12</td>\n",
              "      <td>1824.843333</td>\n",
              "      <td>3.0</td>\n",
              "      <td>...</td>\n",
              "      <td>Good</td>\n",
              "      <td>809.98</td>\n",
              "      <td>28.609352</td>\n",
              "      <td>267.0</td>\n",
              "      <td>No</td>\n",
              "      <td>49.574949</td>\n",
              "      <td>21.46538</td>\n",
              "      <td>Low_spent_Medium_value_payments</td>\n",
              "      <td>331.209863</td>\n",
              "      <td>Good</td>\n",
              "    </tr>\n",
              "    <tr>\n",
              "      <th>3</th>\n",
              "      <td>5637</td>\n",
              "      <td>3392</td>\n",
              "      <td>4</td>\n",
              "      <td>Aaron Maashoh</td>\n",
              "      <td>23.0</td>\n",
              "      <td>821000265.0</td>\n",
              "      <td>Scientist</td>\n",
              "      <td>19114.12</td>\n",
              "      <td>1824.843333</td>\n",
              "      <td>3.0</td>\n",
              "      <td>...</td>\n",
              "      <td>Good</td>\n",
              "      <td>809.98</td>\n",
              "      <td>31.377862</td>\n",
              "      <td>268.0</td>\n",
              "      <td>No</td>\n",
              "      <td>49.574949</td>\n",
              "      <td>21.46538</td>\n",
              "      <td>Low_spent_Small_value_payments</td>\n",
              "      <td>223.451310</td>\n",
              "      <td>Good</td>\n",
              "    </tr>\n",
              "    <tr>\n",
              "      <th>4</th>\n",
              "      <td>5638</td>\n",
              "      <td>3392</td>\n",
              "      <td>5</td>\n",
              "      <td>Aaron Maashoh</td>\n",
              "      <td>23.0</td>\n",
              "      <td>821000265.0</td>\n",
              "      <td>Scientist</td>\n",
              "      <td>19114.12</td>\n",
              "      <td>1824.843333</td>\n",
              "      <td>3.0</td>\n",
              "      <td>...</td>\n",
              "      <td>Good</td>\n",
              "      <td>809.98</td>\n",
              "      <td>24.797347</td>\n",
              "      <td>269.0</td>\n",
              "      <td>No</td>\n",
              "      <td>49.574949</td>\n",
              "      <td>21.46538</td>\n",
              "      <td>High_spent_Medium_value_payments</td>\n",
              "      <td>341.489231</td>\n",
              "      <td>Good</td>\n",
              "    </tr>\n",
              "  </tbody>\n",
              "</table>\n",
              "<p>5 rows × 28 columns</p>\n",
              "</div>\n",
              "    <div class=\"colab-df-buttons\">\n",
              "\n",
              "  <div class=\"colab-df-container\">\n",
              "    <button class=\"colab-df-convert\" onclick=\"convertToInteractive('df-b61e296e-5a8f-4f06-a44a-2a7dd7ea3e0d')\"\n",
              "            title=\"Convert this dataframe to an interactive table.\"\n",
              "            style=\"display:none;\">\n",
              "\n",
              "  <svg xmlns=\"http://www.w3.org/2000/svg\" height=\"24px\" viewBox=\"0 -960 960 960\">\n",
              "    <path d=\"M120-120v-720h720v720H120Zm60-500h600v-160H180v160Zm220 220h160v-160H400v160Zm0 220h160v-160H400v160ZM180-400h160v-160H180v160Zm440 0h160v-160H620v160ZM180-180h160v-160H180v160Zm440 0h160v-160H620v160Z\"/>\n",
              "  </svg>\n",
              "    </button>\n",
              "\n",
              "  <style>\n",
              "    .colab-df-container {\n",
              "      display:flex;\n",
              "      gap: 12px;\n",
              "    }\n",
              "\n",
              "    .colab-df-convert {\n",
              "      background-color: #E8F0FE;\n",
              "      border: none;\n",
              "      border-radius: 50%;\n",
              "      cursor: pointer;\n",
              "      display: none;\n",
              "      fill: #1967D2;\n",
              "      height: 32px;\n",
              "      padding: 0 0 0 0;\n",
              "      width: 32px;\n",
              "    }\n",
              "\n",
              "    .colab-df-convert:hover {\n",
              "      background-color: #E2EBFA;\n",
              "      box-shadow: 0px 1px 2px rgba(60, 64, 67, 0.3), 0px 1px 3px 1px rgba(60, 64, 67, 0.15);\n",
              "      fill: #174EA6;\n",
              "    }\n",
              "\n",
              "    .colab-df-buttons div {\n",
              "      margin-bottom: 4px;\n",
              "    }\n",
              "\n",
              "    [theme=dark] .colab-df-convert {\n",
              "      background-color: #3B4455;\n",
              "      fill: #D2E3FC;\n",
              "    }\n",
              "\n",
              "    [theme=dark] .colab-df-convert:hover {\n",
              "      background-color: #434B5C;\n",
              "      box-shadow: 0px 1px 3px 1px rgba(0, 0, 0, 0.15);\n",
              "      filter: drop-shadow(0px 1px 2px rgba(0, 0, 0, 0.3));\n",
              "      fill: #FFFFFF;\n",
              "    }\n",
              "  </style>\n",
              "\n",
              "    <script>\n",
              "      const buttonEl =\n",
              "        document.querySelector('#df-b61e296e-5a8f-4f06-a44a-2a7dd7ea3e0d button.colab-df-convert');\n",
              "      buttonEl.style.display =\n",
              "        google.colab.kernel.accessAllowed ? 'block' : 'none';\n",
              "\n",
              "      async function convertToInteractive(key) {\n",
              "        const element = document.querySelector('#df-b61e296e-5a8f-4f06-a44a-2a7dd7ea3e0d');\n",
              "        const dataTable =\n",
              "          await google.colab.kernel.invokeFunction('convertToInteractive',\n",
              "                                                    [key], {});\n",
              "        if (!dataTable) return;\n",
              "\n",
              "        const docLinkHtml = 'Like what you see? Visit the ' +\n",
              "          '<a target=\"_blank\" href=https://colab.research.google.com/notebooks/data_table.ipynb>data table notebook</a>'\n",
              "          + ' to learn more about interactive tables.';\n",
              "        element.innerHTML = '';\n",
              "        dataTable['output_type'] = 'display_data';\n",
              "        await google.colab.output.renderOutput(dataTable, element);\n",
              "        const docLink = document.createElement('div');\n",
              "        docLink.innerHTML = docLinkHtml;\n",
              "        element.appendChild(docLink);\n",
              "      }\n",
              "    </script>\n",
              "  </div>\n",
              "\n",
              "\n",
              "<div id=\"df-57ba6a15-9801-4b05-93b2-61ef27ab2f7d\">\n",
              "  <button class=\"colab-df-quickchart\" onclick=\"quickchart('df-57ba6a15-9801-4b05-93b2-61ef27ab2f7d')\"\n",
              "            title=\"Suggest charts\"\n",
              "            style=\"display:none;\">\n",
              "\n",
              "<svg xmlns=\"http://www.w3.org/2000/svg\" height=\"24px\"viewBox=\"0 0 24 24\"\n",
              "     width=\"24px\">\n",
              "    <g>\n",
              "        <path d=\"M19 3H5c-1.1 0-2 .9-2 2v14c0 1.1.9 2 2 2h14c1.1 0 2-.9 2-2V5c0-1.1-.9-2-2-2zM9 17H7v-7h2v7zm4 0h-2V7h2v10zm4 0h-2v-4h2v4z\"/>\n",
              "    </g>\n",
              "</svg>\n",
              "  </button>\n",
              "\n",
              "<style>\n",
              "  .colab-df-quickchart {\n",
              "      --bg-color: #E8F0FE;\n",
              "      --fill-color: #1967D2;\n",
              "      --hover-bg-color: #E2EBFA;\n",
              "      --hover-fill-color: #174EA6;\n",
              "      --disabled-fill-color: #AAA;\n",
              "      --disabled-bg-color: #DDD;\n",
              "  }\n",
              "\n",
              "  [theme=dark] .colab-df-quickchart {\n",
              "      --bg-color: #3B4455;\n",
              "      --fill-color: #D2E3FC;\n",
              "      --hover-bg-color: #434B5C;\n",
              "      --hover-fill-color: #FFFFFF;\n",
              "      --disabled-bg-color: #3B4455;\n",
              "      --disabled-fill-color: #666;\n",
              "  }\n",
              "\n",
              "  .colab-df-quickchart {\n",
              "    background-color: var(--bg-color);\n",
              "    border: none;\n",
              "    border-radius: 50%;\n",
              "    cursor: pointer;\n",
              "    display: none;\n",
              "    fill: var(--fill-color);\n",
              "    height: 32px;\n",
              "    padding: 0;\n",
              "    width: 32px;\n",
              "  }\n",
              "\n",
              "  .colab-df-quickchart:hover {\n",
              "    background-color: var(--hover-bg-color);\n",
              "    box-shadow: 0 1px 2px rgba(60, 64, 67, 0.3), 0 1px 3px 1px rgba(60, 64, 67, 0.15);\n",
              "    fill: var(--button-hover-fill-color);\n",
              "  }\n",
              "\n",
              "  .colab-df-quickchart-complete:disabled,\n",
              "  .colab-df-quickchart-complete:disabled:hover {\n",
              "    background-color: var(--disabled-bg-color);\n",
              "    fill: var(--disabled-fill-color);\n",
              "    box-shadow: none;\n",
              "  }\n",
              "\n",
              "  .colab-df-spinner {\n",
              "    border: 2px solid var(--fill-color);\n",
              "    border-color: transparent;\n",
              "    border-bottom-color: var(--fill-color);\n",
              "    animation:\n",
              "      spin 1s steps(1) infinite;\n",
              "  }\n",
              "\n",
              "  @keyframes spin {\n",
              "    0% {\n",
              "      border-color: transparent;\n",
              "      border-bottom-color: var(--fill-color);\n",
              "      border-left-color: var(--fill-color);\n",
              "    }\n",
              "    20% {\n",
              "      border-color: transparent;\n",
              "      border-left-color: var(--fill-color);\n",
              "      border-top-color: var(--fill-color);\n",
              "    }\n",
              "    30% {\n",
              "      border-color: transparent;\n",
              "      border-left-color: var(--fill-color);\n",
              "      border-top-color: var(--fill-color);\n",
              "      border-right-color: var(--fill-color);\n",
              "    }\n",
              "    40% {\n",
              "      border-color: transparent;\n",
              "      border-right-color: var(--fill-color);\n",
              "      border-top-color: var(--fill-color);\n",
              "    }\n",
              "    60% {\n",
              "      border-color: transparent;\n",
              "      border-right-color: var(--fill-color);\n",
              "    }\n",
              "    80% {\n",
              "      border-color: transparent;\n",
              "      border-right-color: var(--fill-color);\n",
              "      border-bottom-color: var(--fill-color);\n",
              "    }\n",
              "    90% {\n",
              "      border-color: transparent;\n",
              "      border-bottom-color: var(--fill-color);\n",
              "    }\n",
              "  }\n",
              "</style>\n",
              "\n",
              "  <script>\n",
              "    async function quickchart(key) {\n",
              "      const quickchartButtonEl =\n",
              "        document.querySelector('#' + key + ' button');\n",
              "      quickchartButtonEl.disabled = true;  // To prevent multiple clicks.\n",
              "      quickchartButtonEl.classList.add('colab-df-spinner');\n",
              "      try {\n",
              "        const charts = await google.colab.kernel.invokeFunction(\n",
              "            'suggestCharts', [key], {});\n",
              "      } catch (error) {\n",
              "        console.error('Error during call to suggestCharts:', error);\n",
              "      }\n",
              "      quickchartButtonEl.classList.remove('colab-df-spinner');\n",
              "      quickchartButtonEl.classList.add('colab-df-quickchart-complete');\n",
              "    }\n",
              "    (() => {\n",
              "      let quickchartButtonEl =\n",
              "        document.querySelector('#df-57ba6a15-9801-4b05-93b2-61ef27ab2f7d button');\n",
              "      quickchartButtonEl.style.display =\n",
              "        google.colab.kernel.accessAllowed ? 'block' : 'none';\n",
              "    })();\n",
              "  </script>\n",
              "</div>\n",
              "\n",
              "    </div>\n",
              "  </div>\n"
            ],
            "application/vnd.google.colaboratory.intrinsic+json": {
              "type": "dataframe",
              "variable_name": "data"
            }
          },
          "metadata": {},
          "execution_count": 38
        }
      ]
    },
    {
      "cell_type": "code",
      "source": [
        "# First last rows of dataset by using .tail() function.\n",
        "data.tail()"
      ],
      "metadata": {
        "colab": {
          "base_uri": "https://localhost:8080/",
          "height": 256
        },
        "id": "VnDr_XZIqqeQ",
        "outputId": "f5b3f95f-0f57-41d2-c598-802c7f219cd2"
      },
      "execution_count": 39,
      "outputs": [
        {
          "output_type": "execute_result",
          "data": {
            "text/plain": [
              "           ID  Customer_ID  Month   Name   Age         SSN Occupation  \\\n",
              "99995  155625        37932      4  Nicks  25.0  78735990.0   Mechanic   \n",
              "99996  155626        37932      5  Nicks  25.0  78735990.0   Mechanic   \n",
              "99997  155627        37932      6  Nicks  25.0  78735990.0   Mechanic   \n",
              "99998  155628        37932      7  Nicks  25.0  78735990.0   Mechanic   \n",
              "99999  155629        37932      8  Nicks  25.0  78735990.0   Mechanic   \n",
              "\n",
              "       Annual_Income  Monthly_Inhand_Salary  Num_Bank_Accounts  ...  \\\n",
              "99995       39628.99            3359.415833                4.0  ...   \n",
              "99996       39628.99            3359.415833                4.0  ...   \n",
              "99997       39628.99            3359.415833                4.0  ...   \n",
              "99998       39628.99            3359.415833                4.0  ...   \n",
              "99999       39628.99            3359.415833                4.0  ...   \n",
              "\n",
              "       Credit_Mix  Outstanding_Debt  Credit_Utilization_Ratio  \\\n",
              "99995        Good            502.38                 34.663572   \n",
              "99996        Good            502.38                 40.565631   \n",
              "99997        Good            502.38                 41.255522   \n",
              "99998        Good            502.38                 33.638208   \n",
              "99999        Good            502.38                 34.192463   \n",
              "\n",
              "      Credit_History_Age  Payment_of_Min_Amount  Total_EMI_per_month  \\\n",
              "99995              378.0                     No            35.104023   \n",
              "99996              379.0                     No            35.104023   \n",
              "99997              380.0                     No            35.104023   \n",
              "99998              381.0                     No            35.104023   \n",
              "99999              382.0                     No            35.104023   \n",
              "\n",
              "       Amount_invested_monthly                 Payment_Behaviour  \\\n",
              "99995                24.028477   High_spent_Large_value_payments   \n",
              "99996                24.028477  High_spent_Medium_value_payments   \n",
              "99997                24.028477   High_spent_Large_value_payments   \n",
              "99998                24.028477    Low_spent_Large_value_payments   \n",
              "99999                24.028477  High_spent_Medium_value_payments   \n",
              "\n",
              "      Monthly_Balance  Credit_Score  \n",
              "99995      479.866228          Poor  \n",
              "99996      496.651610          Poor  \n",
              "99997      516.809083          Poor  \n",
              "99998      319.164979      Standard  \n",
              "99999      393.673696          Poor  \n",
              "\n",
              "[5 rows x 28 columns]"
            ],
            "text/html": [
              "\n",
              "  <div id=\"df-d041f0e7-caf0-4a69-9d1d-d113ef4c9f8a\" class=\"colab-df-container\">\n",
              "    <div>\n",
              "<style scoped>\n",
              "    .dataframe tbody tr th:only-of-type {\n",
              "        vertical-align: middle;\n",
              "    }\n",
              "\n",
              "    .dataframe tbody tr th {\n",
              "        vertical-align: top;\n",
              "    }\n",
              "\n",
              "    .dataframe thead th {\n",
              "        text-align: right;\n",
              "    }\n",
              "</style>\n",
              "<table border=\"1\" class=\"dataframe\">\n",
              "  <thead>\n",
              "    <tr style=\"text-align: right;\">\n",
              "      <th></th>\n",
              "      <th>ID</th>\n",
              "      <th>Customer_ID</th>\n",
              "      <th>Month</th>\n",
              "      <th>Name</th>\n",
              "      <th>Age</th>\n",
              "      <th>SSN</th>\n",
              "      <th>Occupation</th>\n",
              "      <th>Annual_Income</th>\n",
              "      <th>Monthly_Inhand_Salary</th>\n",
              "      <th>Num_Bank_Accounts</th>\n",
              "      <th>...</th>\n",
              "      <th>Credit_Mix</th>\n",
              "      <th>Outstanding_Debt</th>\n",
              "      <th>Credit_Utilization_Ratio</th>\n",
              "      <th>Credit_History_Age</th>\n",
              "      <th>Payment_of_Min_Amount</th>\n",
              "      <th>Total_EMI_per_month</th>\n",
              "      <th>Amount_invested_monthly</th>\n",
              "      <th>Payment_Behaviour</th>\n",
              "      <th>Monthly_Balance</th>\n",
              "      <th>Credit_Score</th>\n",
              "    </tr>\n",
              "  </thead>\n",
              "  <tbody>\n",
              "    <tr>\n",
              "      <th>99995</th>\n",
              "      <td>155625</td>\n",
              "      <td>37932</td>\n",
              "      <td>4</td>\n",
              "      <td>Nicks</td>\n",
              "      <td>25.0</td>\n",
              "      <td>78735990.0</td>\n",
              "      <td>Mechanic</td>\n",
              "      <td>39628.99</td>\n",
              "      <td>3359.415833</td>\n",
              "      <td>4.0</td>\n",
              "      <td>...</td>\n",
              "      <td>Good</td>\n",
              "      <td>502.38</td>\n",
              "      <td>34.663572</td>\n",
              "      <td>378.0</td>\n",
              "      <td>No</td>\n",
              "      <td>35.104023</td>\n",
              "      <td>24.028477</td>\n",
              "      <td>High_spent_Large_value_payments</td>\n",
              "      <td>479.866228</td>\n",
              "      <td>Poor</td>\n",
              "    </tr>\n",
              "    <tr>\n",
              "      <th>99996</th>\n",
              "      <td>155626</td>\n",
              "      <td>37932</td>\n",
              "      <td>5</td>\n",
              "      <td>Nicks</td>\n",
              "      <td>25.0</td>\n",
              "      <td>78735990.0</td>\n",
              "      <td>Mechanic</td>\n",
              "      <td>39628.99</td>\n",
              "      <td>3359.415833</td>\n",
              "      <td>4.0</td>\n",
              "      <td>...</td>\n",
              "      <td>Good</td>\n",
              "      <td>502.38</td>\n",
              "      <td>40.565631</td>\n",
              "      <td>379.0</td>\n",
              "      <td>No</td>\n",
              "      <td>35.104023</td>\n",
              "      <td>24.028477</td>\n",
              "      <td>High_spent_Medium_value_payments</td>\n",
              "      <td>496.651610</td>\n",
              "      <td>Poor</td>\n",
              "    </tr>\n",
              "    <tr>\n",
              "      <th>99997</th>\n",
              "      <td>155627</td>\n",
              "      <td>37932</td>\n",
              "      <td>6</td>\n",
              "      <td>Nicks</td>\n",
              "      <td>25.0</td>\n",
              "      <td>78735990.0</td>\n",
              "      <td>Mechanic</td>\n",
              "      <td>39628.99</td>\n",
              "      <td>3359.415833</td>\n",
              "      <td>4.0</td>\n",
              "      <td>...</td>\n",
              "      <td>Good</td>\n",
              "      <td>502.38</td>\n",
              "      <td>41.255522</td>\n",
              "      <td>380.0</td>\n",
              "      <td>No</td>\n",
              "      <td>35.104023</td>\n",
              "      <td>24.028477</td>\n",
              "      <td>High_spent_Large_value_payments</td>\n",
              "      <td>516.809083</td>\n",
              "      <td>Poor</td>\n",
              "    </tr>\n",
              "    <tr>\n",
              "      <th>99998</th>\n",
              "      <td>155628</td>\n",
              "      <td>37932</td>\n",
              "      <td>7</td>\n",
              "      <td>Nicks</td>\n",
              "      <td>25.0</td>\n",
              "      <td>78735990.0</td>\n",
              "      <td>Mechanic</td>\n",
              "      <td>39628.99</td>\n",
              "      <td>3359.415833</td>\n",
              "      <td>4.0</td>\n",
              "      <td>...</td>\n",
              "      <td>Good</td>\n",
              "      <td>502.38</td>\n",
              "      <td>33.638208</td>\n",
              "      <td>381.0</td>\n",
              "      <td>No</td>\n",
              "      <td>35.104023</td>\n",
              "      <td>24.028477</td>\n",
              "      <td>Low_spent_Large_value_payments</td>\n",
              "      <td>319.164979</td>\n",
              "      <td>Standard</td>\n",
              "    </tr>\n",
              "    <tr>\n",
              "      <th>99999</th>\n",
              "      <td>155629</td>\n",
              "      <td>37932</td>\n",
              "      <td>8</td>\n",
              "      <td>Nicks</td>\n",
              "      <td>25.0</td>\n",
              "      <td>78735990.0</td>\n",
              "      <td>Mechanic</td>\n",
              "      <td>39628.99</td>\n",
              "      <td>3359.415833</td>\n",
              "      <td>4.0</td>\n",
              "      <td>...</td>\n",
              "      <td>Good</td>\n",
              "      <td>502.38</td>\n",
              "      <td>34.192463</td>\n",
              "      <td>382.0</td>\n",
              "      <td>No</td>\n",
              "      <td>35.104023</td>\n",
              "      <td>24.028477</td>\n",
              "      <td>High_spent_Medium_value_payments</td>\n",
              "      <td>393.673696</td>\n",
              "      <td>Poor</td>\n",
              "    </tr>\n",
              "  </tbody>\n",
              "</table>\n",
              "<p>5 rows × 28 columns</p>\n",
              "</div>\n",
              "    <div class=\"colab-df-buttons\">\n",
              "\n",
              "  <div class=\"colab-df-container\">\n",
              "    <button class=\"colab-df-convert\" onclick=\"convertToInteractive('df-d041f0e7-caf0-4a69-9d1d-d113ef4c9f8a')\"\n",
              "            title=\"Convert this dataframe to an interactive table.\"\n",
              "            style=\"display:none;\">\n",
              "\n",
              "  <svg xmlns=\"http://www.w3.org/2000/svg\" height=\"24px\" viewBox=\"0 -960 960 960\">\n",
              "    <path d=\"M120-120v-720h720v720H120Zm60-500h600v-160H180v160Zm220 220h160v-160H400v160Zm0 220h160v-160H400v160ZM180-400h160v-160H180v160Zm440 0h160v-160H620v160ZM180-180h160v-160H180v160Zm440 0h160v-160H620v160Z\"/>\n",
              "  </svg>\n",
              "    </button>\n",
              "\n",
              "  <style>\n",
              "    .colab-df-container {\n",
              "      display:flex;\n",
              "      gap: 12px;\n",
              "    }\n",
              "\n",
              "    .colab-df-convert {\n",
              "      background-color: #E8F0FE;\n",
              "      border: none;\n",
              "      border-radius: 50%;\n",
              "      cursor: pointer;\n",
              "      display: none;\n",
              "      fill: #1967D2;\n",
              "      height: 32px;\n",
              "      padding: 0 0 0 0;\n",
              "      width: 32px;\n",
              "    }\n",
              "\n",
              "    .colab-df-convert:hover {\n",
              "      background-color: #E2EBFA;\n",
              "      box-shadow: 0px 1px 2px rgba(60, 64, 67, 0.3), 0px 1px 3px 1px rgba(60, 64, 67, 0.15);\n",
              "      fill: #174EA6;\n",
              "    }\n",
              "\n",
              "    .colab-df-buttons div {\n",
              "      margin-bottom: 4px;\n",
              "    }\n",
              "\n",
              "    [theme=dark] .colab-df-convert {\n",
              "      background-color: #3B4455;\n",
              "      fill: #D2E3FC;\n",
              "    }\n",
              "\n",
              "    [theme=dark] .colab-df-convert:hover {\n",
              "      background-color: #434B5C;\n",
              "      box-shadow: 0px 1px 3px 1px rgba(0, 0, 0, 0.15);\n",
              "      filter: drop-shadow(0px 1px 2px rgba(0, 0, 0, 0.3));\n",
              "      fill: #FFFFFF;\n",
              "    }\n",
              "  </style>\n",
              "\n",
              "    <script>\n",
              "      const buttonEl =\n",
              "        document.querySelector('#df-d041f0e7-caf0-4a69-9d1d-d113ef4c9f8a button.colab-df-convert');\n",
              "      buttonEl.style.display =\n",
              "        google.colab.kernel.accessAllowed ? 'block' : 'none';\n",
              "\n",
              "      async function convertToInteractive(key) {\n",
              "        const element = document.querySelector('#df-d041f0e7-caf0-4a69-9d1d-d113ef4c9f8a');\n",
              "        const dataTable =\n",
              "          await google.colab.kernel.invokeFunction('convertToInteractive',\n",
              "                                                    [key], {});\n",
              "        if (!dataTable) return;\n",
              "\n",
              "        const docLinkHtml = 'Like what you see? Visit the ' +\n",
              "          '<a target=\"_blank\" href=https://colab.research.google.com/notebooks/data_table.ipynb>data table notebook</a>'\n",
              "          + ' to learn more about interactive tables.';\n",
              "        element.innerHTML = '';\n",
              "        dataTable['output_type'] = 'display_data';\n",
              "        await google.colab.output.renderOutput(dataTable, element);\n",
              "        const docLink = document.createElement('div');\n",
              "        docLink.innerHTML = docLinkHtml;\n",
              "        element.appendChild(docLink);\n",
              "      }\n",
              "    </script>\n",
              "  </div>\n",
              "\n",
              "\n",
              "<div id=\"df-9b820a67-9559-4f1c-96a1-c6fa31c1c75e\">\n",
              "  <button class=\"colab-df-quickchart\" onclick=\"quickchart('df-9b820a67-9559-4f1c-96a1-c6fa31c1c75e')\"\n",
              "            title=\"Suggest charts\"\n",
              "            style=\"display:none;\">\n",
              "\n",
              "<svg xmlns=\"http://www.w3.org/2000/svg\" height=\"24px\"viewBox=\"0 0 24 24\"\n",
              "     width=\"24px\">\n",
              "    <g>\n",
              "        <path d=\"M19 3H5c-1.1 0-2 .9-2 2v14c0 1.1.9 2 2 2h14c1.1 0 2-.9 2-2V5c0-1.1-.9-2-2-2zM9 17H7v-7h2v7zm4 0h-2V7h2v10zm4 0h-2v-4h2v4z\"/>\n",
              "    </g>\n",
              "</svg>\n",
              "  </button>\n",
              "\n",
              "<style>\n",
              "  .colab-df-quickchart {\n",
              "      --bg-color: #E8F0FE;\n",
              "      --fill-color: #1967D2;\n",
              "      --hover-bg-color: #E2EBFA;\n",
              "      --hover-fill-color: #174EA6;\n",
              "      --disabled-fill-color: #AAA;\n",
              "      --disabled-bg-color: #DDD;\n",
              "  }\n",
              "\n",
              "  [theme=dark] .colab-df-quickchart {\n",
              "      --bg-color: #3B4455;\n",
              "      --fill-color: #D2E3FC;\n",
              "      --hover-bg-color: #434B5C;\n",
              "      --hover-fill-color: #FFFFFF;\n",
              "      --disabled-bg-color: #3B4455;\n",
              "      --disabled-fill-color: #666;\n",
              "  }\n",
              "\n",
              "  .colab-df-quickchart {\n",
              "    background-color: var(--bg-color);\n",
              "    border: none;\n",
              "    border-radius: 50%;\n",
              "    cursor: pointer;\n",
              "    display: none;\n",
              "    fill: var(--fill-color);\n",
              "    height: 32px;\n",
              "    padding: 0;\n",
              "    width: 32px;\n",
              "  }\n",
              "\n",
              "  .colab-df-quickchart:hover {\n",
              "    background-color: var(--hover-bg-color);\n",
              "    box-shadow: 0 1px 2px rgba(60, 64, 67, 0.3), 0 1px 3px 1px rgba(60, 64, 67, 0.15);\n",
              "    fill: var(--button-hover-fill-color);\n",
              "  }\n",
              "\n",
              "  .colab-df-quickchart-complete:disabled,\n",
              "  .colab-df-quickchart-complete:disabled:hover {\n",
              "    background-color: var(--disabled-bg-color);\n",
              "    fill: var(--disabled-fill-color);\n",
              "    box-shadow: none;\n",
              "  }\n",
              "\n",
              "  .colab-df-spinner {\n",
              "    border: 2px solid var(--fill-color);\n",
              "    border-color: transparent;\n",
              "    border-bottom-color: var(--fill-color);\n",
              "    animation:\n",
              "      spin 1s steps(1) infinite;\n",
              "  }\n",
              "\n",
              "  @keyframes spin {\n",
              "    0% {\n",
              "      border-color: transparent;\n",
              "      border-bottom-color: var(--fill-color);\n",
              "      border-left-color: var(--fill-color);\n",
              "    }\n",
              "    20% {\n",
              "      border-color: transparent;\n",
              "      border-left-color: var(--fill-color);\n",
              "      border-top-color: var(--fill-color);\n",
              "    }\n",
              "    30% {\n",
              "      border-color: transparent;\n",
              "      border-left-color: var(--fill-color);\n",
              "      border-top-color: var(--fill-color);\n",
              "      border-right-color: var(--fill-color);\n",
              "    }\n",
              "    40% {\n",
              "      border-color: transparent;\n",
              "      border-right-color: var(--fill-color);\n",
              "      border-top-color: var(--fill-color);\n",
              "    }\n",
              "    60% {\n",
              "      border-color: transparent;\n",
              "      border-right-color: var(--fill-color);\n",
              "    }\n",
              "    80% {\n",
              "      border-color: transparent;\n",
              "      border-right-color: var(--fill-color);\n",
              "      border-bottom-color: var(--fill-color);\n",
              "    }\n",
              "    90% {\n",
              "      border-color: transparent;\n",
              "      border-bottom-color: var(--fill-color);\n",
              "    }\n",
              "  }\n",
              "</style>\n",
              "\n",
              "  <script>\n",
              "    async function quickchart(key) {\n",
              "      const quickchartButtonEl =\n",
              "        document.querySelector('#' + key + ' button');\n",
              "      quickchartButtonEl.disabled = true;  // To prevent multiple clicks.\n",
              "      quickchartButtonEl.classList.add('colab-df-spinner');\n",
              "      try {\n",
              "        const charts = await google.colab.kernel.invokeFunction(\n",
              "            'suggestCharts', [key], {});\n",
              "      } catch (error) {\n",
              "        console.error('Error during call to suggestCharts:', error);\n",
              "      }\n",
              "      quickchartButtonEl.classList.remove('colab-df-spinner');\n",
              "      quickchartButtonEl.classList.add('colab-df-quickchart-complete');\n",
              "    }\n",
              "    (() => {\n",
              "      let quickchartButtonEl =\n",
              "        document.querySelector('#df-9b820a67-9559-4f1c-96a1-c6fa31c1c75e button');\n",
              "      quickchartButtonEl.style.display =\n",
              "        google.colab.kernel.accessAllowed ? 'block' : 'none';\n",
              "    })();\n",
              "  </script>\n",
              "</div>\n",
              "\n",
              "    </div>\n",
              "  </div>\n"
            ],
            "application/vnd.google.colaboratory.intrinsic+json": {
              "type": "dataframe"
            }
          },
          "metadata": {},
          "execution_count": 39
        }
      ]
    },
    {
      "cell_type": "markdown",
      "source": [
        "### Dataset Rows & Columns count"
      ],
      "metadata": {
        "id": "VjB1Ut9_q0D2"
      }
    },
    {
      "cell_type": "code",
      "source": [
        "# By using .shape meythod we can print count of rows and coulumns.\n",
        "rows,columns=data.shape\n",
        "print(f\"The total numbers of rows are {rows} and columns are {columns} in the given dataset.\")"
      ],
      "metadata": {
        "colab": {
          "base_uri": "https://localhost:8080/"
        },
        "id": "eVFYL5exq0xT",
        "outputId": "b1359c9a-460a-4d40-edb7-5b760fc82a3c"
      },
      "execution_count": 40,
      "outputs": [
        {
          "output_type": "stream",
          "name": "stdout",
          "text": [
            "The total numbers of rows are 100000 and columns are 28 in the given dataset.\n"
          ]
        }
      ]
    },
    {
      "cell_type": "code",
      "source": [
        "# By using the .size method we can print the size of our dataset.\n",
        "print(f\" The total size of the datset is {data.size} .\")"
      ],
      "metadata": {
        "colab": {
          "base_uri": "https://localhost:8080/"
        },
        "id": "d1KOtkftq4hy",
        "outputId": "e1e6f608-d04a-46de-d14a-90955aa88cb9"
      },
      "execution_count": 41,
      "outputs": [
        {
          "output_type": "stream",
          "name": "stdout",
          "text": [
            " The total size of the datset is 2800000 .\n"
          ]
        }
      ]
    },
    {
      "cell_type": "markdown",
      "source": [
        "### Dataset Information"
      ],
      "metadata": {
        "id": "8JVo-eEzq7TO"
      }
    },
    {
      "cell_type": "markdown",
      "source": [
        "In this dataset by using .info() function we can see that there's no missing or null values are present in any column of our dataset but when we explored then the resuls became transparent.\n",
        "\n",
        "*   when we open our dataset in the excel so we found that there is a column which contains the **Not Specified** values in column of Type_of_Loan and for the same row in **number_of_Loans** column value 1 or more is there so we accepted these values as null values and added the condition in our dataset that if any row in column of Type_of_Loans contains Not Specified and for the same row in **Num_of_Loans** there's value more than 0 then it will is null value and will be replaced by **np.nan**.\n",
        "*  Now again we found that in **Payment_of_min_Amount** the value was NM(Not Mentioned) and for the same row in column of **Num_of_Loans** value was one or more than one so we consider these values are null values and will replace it by np.nan."
      ],
      "metadata": {
        "id": "goQ3FwqWq-vw"
      }
    },
    {
      "cell_type": "code",
      "source": [
        "# By using .Info() we will print the information of each column in the dataset.\n",
        "data.info()"
      ],
      "metadata": {
        "colab": {
          "base_uri": "https://localhost:8080/"
        },
        "id": "2CQGSbEPq64m",
        "outputId": "9c57f8ed-b08b-4ad0-b23f-ed336d327543"
      },
      "execution_count": 42,
      "outputs": [
        {
          "output_type": "stream",
          "name": "stdout",
          "text": [
            "<class 'pandas.core.frame.DataFrame'>\n",
            "RangeIndex: 100000 entries, 0 to 99999\n",
            "Data columns (total 28 columns):\n",
            " #   Column                    Non-Null Count   Dtype  \n",
            "---  ------                    --------------   -----  \n",
            " 0   ID                        100000 non-null  int64  \n",
            " 1   Customer_ID               100000 non-null  int64  \n",
            " 2   Month                     100000 non-null  int64  \n",
            " 3   Name                      100000 non-null  object \n",
            " 4   Age                       100000 non-null  float64\n",
            " 5   SSN                       100000 non-null  float64\n",
            " 6   Occupation                100000 non-null  object \n",
            " 7   Annual_Income             100000 non-null  float64\n",
            " 8   Monthly_Inhand_Salary     100000 non-null  float64\n",
            " 9   Num_Bank_Accounts         100000 non-null  float64\n",
            " 10  Num_Credit_Card           100000 non-null  float64\n",
            " 11  Interest_Rate             100000 non-null  float64\n",
            " 12  Num_of_Loan               100000 non-null  float64\n",
            " 13  Type_of_Loan              100000 non-null  object \n",
            " 14  Delay_from_due_date       100000 non-null  float64\n",
            " 15  Num_of_Delayed_Payment    100000 non-null  float64\n",
            " 16  Changed_Credit_Limit      100000 non-null  float64\n",
            " 17  Num_Credit_Inquiries      100000 non-null  float64\n",
            " 18  Credit_Mix                100000 non-null  object \n",
            " 19  Outstanding_Debt          100000 non-null  float64\n",
            " 20  Credit_Utilization_Ratio  100000 non-null  float64\n",
            " 21  Credit_History_Age        100000 non-null  float64\n",
            " 22  Payment_of_Min_Amount     100000 non-null  object \n",
            " 23  Total_EMI_per_month       100000 non-null  float64\n",
            " 24  Amount_invested_monthly   100000 non-null  float64\n",
            " 25  Payment_Behaviour         100000 non-null  object \n",
            " 26  Monthly_Balance           100000 non-null  float64\n",
            " 27  Credit_Score              100000 non-null  object \n",
            "dtypes: float64(18), int64(3), object(7)\n",
            "memory usage: 21.4+ MB\n"
          ]
        }
      ]
    },
    {
      "cell_type": "code",
      "source": [
        "# by using .loc() function we will remove all the Not Mentioned values from the Types_of_Loan column.\n",
        "data.loc[(data['Num_of_Loan'] >= 1) & (data['Type_of_Loan']=='Not Specified'),'Type_of_Loan']=np.nan"
      ],
      "metadata": {
        "id": "g7GOAogorM7G"
      },
      "execution_count": 43,
      "outputs": []
    },
    {
      "cell_type": "code",
      "source": [
        "# Now replacing the NM with np.nan values from Payment_of_Min_Amount column from database\n",
        "data.loc[(data['Payment_of_Min_Amount']=='NM') & (data['Num_of_Loan']>0),'Payment_of_Min_Amount']=np.nan"
      ],
      "metadata": {
        "id": "woDBigiorUnV"
      },
      "execution_count": 44,
      "outputs": []
    },
    {
      "cell_type": "code",
      "source": [
        "data.info()"
      ],
      "metadata": {
        "colab": {
          "base_uri": "https://localhost:8080/"
        },
        "id": "nmShbRzjrZKz",
        "outputId": "3e16568b-ee7a-419a-8833-28a396a6510c"
      },
      "execution_count": 45,
      "outputs": [
        {
          "output_type": "stream",
          "name": "stdout",
          "text": [
            "<class 'pandas.core.frame.DataFrame'>\n",
            "RangeIndex: 100000 entries, 0 to 99999\n",
            "Data columns (total 28 columns):\n",
            " #   Column                    Non-Null Count   Dtype  \n",
            "---  ------                    --------------   -----  \n",
            " 0   ID                        100000 non-null  int64  \n",
            " 1   Customer_ID               100000 non-null  int64  \n",
            " 2   Month                     100000 non-null  int64  \n",
            " 3   Name                      100000 non-null  object \n",
            " 4   Age                       100000 non-null  float64\n",
            " 5   SSN                       100000 non-null  float64\n",
            " 6   Occupation                100000 non-null  object \n",
            " 7   Annual_Income             100000 non-null  float64\n",
            " 8   Monthly_Inhand_Salary     100000 non-null  float64\n",
            " 9   Num_Bank_Accounts         100000 non-null  float64\n",
            " 10  Num_Credit_Card           100000 non-null  float64\n",
            " 11  Interest_Rate             100000 non-null  float64\n",
            " 12  Num_of_Loan               100000 non-null  float64\n",
            " 13  Type_of_Loan              98592 non-null   object \n",
            " 14  Delay_from_due_date       100000 non-null  float64\n",
            " 15  Num_of_Delayed_Payment    100000 non-null  float64\n",
            " 16  Changed_Credit_Limit      100000 non-null  float64\n",
            " 17  Num_Credit_Inquiries      100000 non-null  float64\n",
            " 18  Credit_Mix                100000 non-null  object \n",
            " 19  Outstanding_Debt          100000 non-null  float64\n",
            " 20  Credit_Utilization_Ratio  100000 non-null  float64\n",
            " 21  Credit_History_Age        100000 non-null  float64\n",
            " 22  Payment_of_Min_Amount     89295 non-null   object \n",
            " 23  Total_EMI_per_month       100000 non-null  float64\n",
            " 24  Amount_invested_monthly   100000 non-null  float64\n",
            " 25  Payment_Behaviour         100000 non-null  object \n",
            " 26  Monthly_Balance           100000 non-null  float64\n",
            " 27  Credit_Score              100000 non-null  object \n",
            "dtypes: float64(18), int64(3), object(7)\n",
            "memory usage: 21.4+ MB\n"
          ]
        }
      ]
    },
    {
      "cell_type": "markdown",
      "source": [
        "Now as we can see the nul values in two columns of the dataset."
      ],
      "metadata": {
        "id": "QnhiEdphrcEe"
      }
    },
    {
      "cell_type": "markdown",
      "source": [
        "#### Missing Values/Null Values :\n",
        "if we want to see the count of null/missing values in each column\n",
        " of the dataset then we use the isnull().sum() function."
      ],
      "metadata": {
        "id": "Fvj2rWlIrin8"
      }
    },
    {
      "cell_type": "code",
      "source": [
        "# Count of null or missing values in each attributes.\n",
        "data.isnull().sum()"
      ],
      "metadata": {
        "colab": {
          "base_uri": "https://localhost:8080/",
          "height": 962
        },
        "id": "kAnP6B_Grc0D",
        "outputId": "b7c630f2-d741-4d3e-8743-d07124d3806b"
      },
      "execution_count": 46,
      "outputs": [
        {
          "output_type": "execute_result",
          "data": {
            "text/plain": [
              "ID                              0\n",
              "Customer_ID                     0\n",
              "Month                           0\n",
              "Name                            0\n",
              "Age                             0\n",
              "SSN                             0\n",
              "Occupation                      0\n",
              "Annual_Income                   0\n",
              "Monthly_Inhand_Salary           0\n",
              "Num_Bank_Accounts               0\n",
              "Num_Credit_Card                 0\n",
              "Interest_Rate                   0\n",
              "Num_of_Loan                     0\n",
              "Type_of_Loan                 1408\n",
              "Delay_from_due_date             0\n",
              "Num_of_Delayed_Payment          0\n",
              "Changed_Credit_Limit            0\n",
              "Num_Credit_Inquiries            0\n",
              "Credit_Mix                      0\n",
              "Outstanding_Debt                0\n",
              "Credit_Utilization_Ratio        0\n",
              "Credit_History_Age              0\n",
              "Payment_of_Min_Amount       10705\n",
              "Total_EMI_per_month             0\n",
              "Amount_invested_monthly         0\n",
              "Payment_Behaviour               0\n",
              "Monthly_Balance                 0\n",
              "Credit_Score                    0\n",
              "dtype: int64"
            ],
            "text/html": [
              "<div>\n",
              "<style scoped>\n",
              "    .dataframe tbody tr th:only-of-type {\n",
              "        vertical-align: middle;\n",
              "    }\n",
              "\n",
              "    .dataframe tbody tr th {\n",
              "        vertical-align: top;\n",
              "    }\n",
              "\n",
              "    .dataframe thead th {\n",
              "        text-align: right;\n",
              "    }\n",
              "</style>\n",
              "<table border=\"1\" class=\"dataframe\">\n",
              "  <thead>\n",
              "    <tr style=\"text-align: right;\">\n",
              "      <th></th>\n",
              "      <th>0</th>\n",
              "    </tr>\n",
              "  </thead>\n",
              "  <tbody>\n",
              "    <tr>\n",
              "      <th>ID</th>\n",
              "      <td>0</td>\n",
              "    </tr>\n",
              "    <tr>\n",
              "      <th>Customer_ID</th>\n",
              "      <td>0</td>\n",
              "    </tr>\n",
              "    <tr>\n",
              "      <th>Month</th>\n",
              "      <td>0</td>\n",
              "    </tr>\n",
              "    <tr>\n",
              "      <th>Name</th>\n",
              "      <td>0</td>\n",
              "    </tr>\n",
              "    <tr>\n",
              "      <th>Age</th>\n",
              "      <td>0</td>\n",
              "    </tr>\n",
              "    <tr>\n",
              "      <th>SSN</th>\n",
              "      <td>0</td>\n",
              "    </tr>\n",
              "    <tr>\n",
              "      <th>Occupation</th>\n",
              "      <td>0</td>\n",
              "    </tr>\n",
              "    <tr>\n",
              "      <th>Annual_Income</th>\n",
              "      <td>0</td>\n",
              "    </tr>\n",
              "    <tr>\n",
              "      <th>Monthly_Inhand_Salary</th>\n",
              "      <td>0</td>\n",
              "    </tr>\n",
              "    <tr>\n",
              "      <th>Num_Bank_Accounts</th>\n",
              "      <td>0</td>\n",
              "    </tr>\n",
              "    <tr>\n",
              "      <th>Num_Credit_Card</th>\n",
              "      <td>0</td>\n",
              "    </tr>\n",
              "    <tr>\n",
              "      <th>Interest_Rate</th>\n",
              "      <td>0</td>\n",
              "    </tr>\n",
              "    <tr>\n",
              "      <th>Num_of_Loan</th>\n",
              "      <td>0</td>\n",
              "    </tr>\n",
              "    <tr>\n",
              "      <th>Type_of_Loan</th>\n",
              "      <td>1408</td>\n",
              "    </tr>\n",
              "    <tr>\n",
              "      <th>Delay_from_due_date</th>\n",
              "      <td>0</td>\n",
              "    </tr>\n",
              "    <tr>\n",
              "      <th>Num_of_Delayed_Payment</th>\n",
              "      <td>0</td>\n",
              "    </tr>\n",
              "    <tr>\n",
              "      <th>Changed_Credit_Limit</th>\n",
              "      <td>0</td>\n",
              "    </tr>\n",
              "    <tr>\n",
              "      <th>Num_Credit_Inquiries</th>\n",
              "      <td>0</td>\n",
              "    </tr>\n",
              "    <tr>\n",
              "      <th>Credit_Mix</th>\n",
              "      <td>0</td>\n",
              "    </tr>\n",
              "    <tr>\n",
              "      <th>Outstanding_Debt</th>\n",
              "      <td>0</td>\n",
              "    </tr>\n",
              "    <tr>\n",
              "      <th>Credit_Utilization_Ratio</th>\n",
              "      <td>0</td>\n",
              "    </tr>\n",
              "    <tr>\n",
              "      <th>Credit_History_Age</th>\n",
              "      <td>0</td>\n",
              "    </tr>\n",
              "    <tr>\n",
              "      <th>Payment_of_Min_Amount</th>\n",
              "      <td>10705</td>\n",
              "    </tr>\n",
              "    <tr>\n",
              "      <th>Total_EMI_per_month</th>\n",
              "      <td>0</td>\n",
              "    </tr>\n",
              "    <tr>\n",
              "      <th>Amount_invested_monthly</th>\n",
              "      <td>0</td>\n",
              "    </tr>\n",
              "    <tr>\n",
              "      <th>Payment_Behaviour</th>\n",
              "      <td>0</td>\n",
              "    </tr>\n",
              "    <tr>\n",
              "      <th>Monthly_Balance</th>\n",
              "      <td>0</td>\n",
              "    </tr>\n",
              "    <tr>\n",
              "      <th>Credit_Score</th>\n",
              "      <td>0</td>\n",
              "    </tr>\n",
              "  </tbody>\n",
              "</table>\n",
              "</div><br><label><b>dtype:</b> int64</label>"
            ]
          },
          "metadata": {},
          "execution_count": 46
        }
      ]
    },
    {
      "cell_type": "markdown",
      "source": [
        "#### Percentage of null/Missing values :\n",
        "Now let's see what's the percentage of null values present of each column by using (dataset.isnull().mean())*100 So by this function we will have information of that what is the total percentage of null/missing values in each columns of dataset."
      ],
      "metadata": {
        "id": "UJp13qMgrwVy"
      }
    },
    {
      "cell_type": "code",
      "source": [
        "# Percentage of missing or null values of the dataset.\n",
        "Null_values=(data.isnull().sum()/rows)*100\n",
        "Null_values"
      ],
      "metadata": {
        "colab": {
          "base_uri": "https://localhost:8080/",
          "height": 962
        },
        "id": "7hTD-gktrxWe",
        "outputId": "b4d9be19-593b-41a9-bcc7-4a769b844ae4"
      },
      "execution_count": 47,
      "outputs": [
        {
          "output_type": "execute_result",
          "data": {
            "text/plain": [
              "ID                           0.000\n",
              "Customer_ID                  0.000\n",
              "Month                        0.000\n",
              "Name                         0.000\n",
              "Age                          0.000\n",
              "SSN                          0.000\n",
              "Occupation                   0.000\n",
              "Annual_Income                0.000\n",
              "Monthly_Inhand_Salary        0.000\n",
              "Num_Bank_Accounts            0.000\n",
              "Num_Credit_Card              0.000\n",
              "Interest_Rate                0.000\n",
              "Num_of_Loan                  0.000\n",
              "Type_of_Loan                 1.408\n",
              "Delay_from_due_date          0.000\n",
              "Num_of_Delayed_Payment       0.000\n",
              "Changed_Credit_Limit         0.000\n",
              "Num_Credit_Inquiries         0.000\n",
              "Credit_Mix                   0.000\n",
              "Outstanding_Debt             0.000\n",
              "Credit_Utilization_Ratio     0.000\n",
              "Credit_History_Age           0.000\n",
              "Payment_of_Min_Amount       10.705\n",
              "Total_EMI_per_month          0.000\n",
              "Amount_invested_monthly      0.000\n",
              "Payment_Behaviour            0.000\n",
              "Monthly_Balance              0.000\n",
              "Credit_Score                 0.000\n",
              "dtype: float64"
            ],
            "text/html": [
              "<div>\n",
              "<style scoped>\n",
              "    .dataframe tbody tr th:only-of-type {\n",
              "        vertical-align: middle;\n",
              "    }\n",
              "\n",
              "    .dataframe tbody tr th {\n",
              "        vertical-align: top;\n",
              "    }\n",
              "\n",
              "    .dataframe thead th {\n",
              "        text-align: right;\n",
              "    }\n",
              "</style>\n",
              "<table border=\"1\" class=\"dataframe\">\n",
              "  <thead>\n",
              "    <tr style=\"text-align: right;\">\n",
              "      <th></th>\n",
              "      <th>0</th>\n",
              "    </tr>\n",
              "  </thead>\n",
              "  <tbody>\n",
              "    <tr>\n",
              "      <th>ID</th>\n",
              "      <td>0.000</td>\n",
              "    </tr>\n",
              "    <tr>\n",
              "      <th>Customer_ID</th>\n",
              "      <td>0.000</td>\n",
              "    </tr>\n",
              "    <tr>\n",
              "      <th>Month</th>\n",
              "      <td>0.000</td>\n",
              "    </tr>\n",
              "    <tr>\n",
              "      <th>Name</th>\n",
              "      <td>0.000</td>\n",
              "    </tr>\n",
              "    <tr>\n",
              "      <th>Age</th>\n",
              "      <td>0.000</td>\n",
              "    </tr>\n",
              "    <tr>\n",
              "      <th>SSN</th>\n",
              "      <td>0.000</td>\n",
              "    </tr>\n",
              "    <tr>\n",
              "      <th>Occupation</th>\n",
              "      <td>0.000</td>\n",
              "    </tr>\n",
              "    <tr>\n",
              "      <th>Annual_Income</th>\n",
              "      <td>0.000</td>\n",
              "    </tr>\n",
              "    <tr>\n",
              "      <th>Monthly_Inhand_Salary</th>\n",
              "      <td>0.000</td>\n",
              "    </tr>\n",
              "    <tr>\n",
              "      <th>Num_Bank_Accounts</th>\n",
              "      <td>0.000</td>\n",
              "    </tr>\n",
              "    <tr>\n",
              "      <th>Num_Credit_Card</th>\n",
              "      <td>0.000</td>\n",
              "    </tr>\n",
              "    <tr>\n",
              "      <th>Interest_Rate</th>\n",
              "      <td>0.000</td>\n",
              "    </tr>\n",
              "    <tr>\n",
              "      <th>Num_of_Loan</th>\n",
              "      <td>0.000</td>\n",
              "    </tr>\n",
              "    <tr>\n",
              "      <th>Type_of_Loan</th>\n",
              "      <td>1.408</td>\n",
              "    </tr>\n",
              "    <tr>\n",
              "      <th>Delay_from_due_date</th>\n",
              "      <td>0.000</td>\n",
              "    </tr>\n",
              "    <tr>\n",
              "      <th>Num_of_Delayed_Payment</th>\n",
              "      <td>0.000</td>\n",
              "    </tr>\n",
              "    <tr>\n",
              "      <th>Changed_Credit_Limit</th>\n",
              "      <td>0.000</td>\n",
              "    </tr>\n",
              "    <tr>\n",
              "      <th>Num_Credit_Inquiries</th>\n",
              "      <td>0.000</td>\n",
              "    </tr>\n",
              "    <tr>\n",
              "      <th>Credit_Mix</th>\n",
              "      <td>0.000</td>\n",
              "    </tr>\n",
              "    <tr>\n",
              "      <th>Outstanding_Debt</th>\n",
              "      <td>0.000</td>\n",
              "    </tr>\n",
              "    <tr>\n",
              "      <th>Credit_Utilization_Ratio</th>\n",
              "      <td>0.000</td>\n",
              "    </tr>\n",
              "    <tr>\n",
              "      <th>Credit_History_Age</th>\n",
              "      <td>0.000</td>\n",
              "    </tr>\n",
              "    <tr>\n",
              "      <th>Payment_of_Min_Amount</th>\n",
              "      <td>10.705</td>\n",
              "    </tr>\n",
              "    <tr>\n",
              "      <th>Total_EMI_per_month</th>\n",
              "      <td>0.000</td>\n",
              "    </tr>\n",
              "    <tr>\n",
              "      <th>Amount_invested_monthly</th>\n",
              "      <td>0.000</td>\n",
              "    </tr>\n",
              "    <tr>\n",
              "      <th>Payment_Behaviour</th>\n",
              "      <td>0.000</td>\n",
              "    </tr>\n",
              "    <tr>\n",
              "      <th>Monthly_Balance</th>\n",
              "      <td>0.000</td>\n",
              "    </tr>\n",
              "    <tr>\n",
              "      <th>Credit_Score</th>\n",
              "      <td>0.000</td>\n",
              "    </tr>\n",
              "  </tbody>\n",
              "</table>\n",
              "</div><br><label><b>dtype:</b> float64</label>"
            ]
          },
          "metadata": {},
          "execution_count": 47
        }
      ]
    },
    {
      "cell_type": "markdown",
      "source": [
        "#### Visualization of missing/Null values :\n",
        "\n",
        "In this visualization we will examine the percentage of null values or missing values in the columns of the given dataset.\n",
        "So that we can see there two columns which contains null or missing values.\n",
        "*  The Type_of_Loan column contains total 1.408 percent of missing values.\n",
        "*  The Payment_of_min_Amount column contains 10.705 percent of missing or null values in the column.\n",
        "\n",
        "To provide clearer understaing of null values percentage we will visualise these two column in a pie plot in which we can see the null values or missing values proportion for both columns.\n"
      ],
      "metadata": {
        "id": "I0sLKemSrz_t"
      }
    },
    {
      "cell_type": "code",
      "source": [
        "# Pie plot of Missing/Null value\n",
        "attributes_name=['Type_of_Loan','Payment_of_min_amount']\n",
        "percent_value=[Null_values['Type_of_Loan'],Null_values['Payment_of_Min_Amount']]\n",
        "colors=['green','orange']\n",
        "plt.title('Visualization of Missing/Null values')\n",
        "ex=[0.0,0.0]\n",
        "plt.pie(labels=attributes_name,x=percent_value,colors=colors,explode=ex,autopct='%.02f%%')\n",
        "plt.show()"
      ],
      "metadata": {
        "colab": {
          "base_uri": "https://localhost:8080/",
          "height": 428
        },
        "id": "9d6wnWZCr4Lb",
        "outputId": "9c415233-3aef-4f45-a995-5bcba780af45"
      },
      "execution_count": 48,
      "outputs": [
        {
          "output_type": "display_data",
          "data": {
            "text/plain": [
              "<Figure size 640x480 with 1 Axes>"
            ],
            "image/png": "[encoded data removed]"
          },
          "metadata": {}
        }
      ]
    },
    {
      "cell_type": "markdown",
      "source": [
        "### What did i know about the dataset?"
      ],
      "metadata": {
        "id": "ZVOd1w_osBVM"
      }
    },
    {
      "cell_type": "markdown",
      "source": [
        "Size: The dataset contains 1,000,000 rows and 28 columns, totaling 2,800,000 data values.\n",
        "\n",
        "Target Variable: The primary focus of the analysis is the Credit Score, which indicates the creditworthiness of individuals.\n",
        "\n",
        "Attributes/Columns:\n",
        "\n",
        "SSN: Unique identifier for each individual (Social Security Number).\n",
        "Num_of_Loans: Total number of loans taken by the individual.\n",
        "Type_of_Loan: Category of the loan (e.g., personal, home, auto).\n",
        "Outstanding Balance: Remaining amount owed on all loans.\n",
        "Total EMI per Month: Total equated monthly installment that the individual pays.\n",
        "Total Interest Rate: Interest rate applicable to the loans.\n",
        "Annual Income: Total income earned by the individual in a year.\n",
        "Monthly In-Hand Salary: Salary received after deductions.\n",
        "Credit Score: The target variable indicating the creditworthiness of the individual.\n",
        "In the given dataset such columns contain missing/Null values in the dataset.(Type_Of_loan, Payment_of_Min_amount)."
      ],
      "metadata": {
        "id": "E-m3IodFsEoH"
      }
    },
    {
      "cell_type": "markdown",
      "source": [
        "## ***2. Understanding Your Variables***"
      ],
      "metadata": {
        "id": "S7rA6dxJtYPv"
      }
    },
    {
      "cell_type": "code",
      "source": [
        "data.columns"
      ],
      "metadata": {
        "colab": {
          "base_uri": "https://localhost:8080/"
        },
        "id": "24a7tEVztY-8",
        "outputId": "376b4995-e743-4244-bbd2-99d16a5898a5"
      },
      "execution_count": 49,
      "outputs": [
        {
          "output_type": "execute_result",
          "data": {
            "text/plain": [
              "Index(['ID', 'Customer_ID', 'Month', 'Name', 'Age', 'SSN', 'Occupation',\n",
              "       'Annual_Income', 'Monthly_Inhand_Salary', 'Num_Bank_Accounts',\n",
              "       'Num_Credit_Card', 'Interest_Rate', 'Num_of_Loan', 'Type_of_Loan',\n",
              "       'Delay_from_due_date', 'Num_of_Delayed_Payment', 'Changed_Credit_Limit',\n",
              "       'Num_Credit_Inquiries', 'Credit_Mix', 'Outstanding_Debt',\n",
              "       'Credit_Utilization_Ratio', 'Credit_History_Age',\n",
              "       'Payment_of_Min_Amount', 'Total_EMI_per_month',\n",
              "       'Amount_invested_monthly', 'Payment_Behaviour', 'Monthly_Balance',\n",
              "       'Credit_Score'],\n",
              "      dtype='object')"
            ]
          },
          "metadata": {},
          "execution_count": 49
        }
      ]
    },
    {
      "cell_type": "markdown",
      "source": [
        "### Variable Description."
      ],
      "metadata": {
        "id": "ZURI40HwtcG6"
      }
    },
    {
      "cell_type": "markdown",
      "source": [
        "*  **ID** : The ID is the Unique identifier for each record.\n",
        "\n",
        "*  **Customer_ID** : It is the unique identifier for each customer.\n",
        "\n",
        "*  **Month** : The Month name in which data was recorded.\n",
        "\n",
        "*  **Name** : Name of each customer.\n",
        "\n",
        "*  **Age** : The current age of customer.\n",
        "\n",
        "*  **SSN** : The SSN is known as social service security number.\n",
        "\n",
        "*  **Occupation** : The occupation of each customer.\n",
        "\n",
        "*  **Annual_income**. : The annual income of each customer.\n",
        "\n",
        "* **Monthly_inhand_salary**:The monthly inhand salary of each customer after all tax deduction.\n",
        "\n",
        "*  **Num_of_BankAccounts**: The total number of bank accounts held by the customer.\n",
        "\n",
        "*  **Num_of_Credit_cards** : The total number of credit cards held by the customer.\n",
        "\n",
        "* **Interest_Rate**: The total interest rate applicable to the customer's loans or credit products.\n",
        "\n",
        "*  **Num_of_Loan**: The total number of loans taken by the customer, which can impact their financial obligations.\n",
        "\n",
        "*  **Type_of_Loan**: The category of loans taken by the customer from the bank (e.g., personal, home, Credit builder loan), which can vary in terms of risk and repayment terms.\n",
        "\n",
        "* **Delay_from_due_date**: The total number of days when the customer made payment delayed from the due date, indicating payment behavior.\n",
        "\n",
        "* **Num_of_Delayed_Payment**: The total number of payments that have been delayed by the customer from the Date of payment, which can affect credit score.\n",
        "\n",
        "* **Changed_Credit_Limit**: Indicates whether the customer's credit limit has been changed (increased or decreased) and by how much.\n",
        "\n",
        "* **Num_Credit_Inquiries**: The total number of times the customer inquiries about credit card, which can impact credit score.\n",
        "\n",
        "* **Credit_Mix**: The variety of credit types (e.g., revolving credit, installment loans) that the customer has, which can influence credit score.\n",
        "\n",
        "* **Outstanding_Debt**: The total amount of debt that the customer currently owes, which is a critical factor in assessing financial health.\n",
        "\n",
        "* **Credit_Utilization_Ratio**: The ratio of credit card utilization by the customer to their total credit limits, indicating how much credit is being used.\n",
        "\n",
        "* **Credit_History_Age**: The length of time that customer has had credit accounts, which can impact credit score positively if longer.\n",
        "\n",
        "* **Payment_of_Min_Amount**: Indicates whether the customer has made the minimum payment of their credit amount loans/card payment Yes or No, reflecting payment behavior.\n",
        "\n",
        "* **Total_EMI_per_month**: The total amount of money for monthly installment that the customer pays across all loans, indicating financial obligations.\n",
        "\n",
        "* **Amount_invested_monthly**: The total amount of money the customer invests each month, reflecting financial planning and investment behavior.\n",
        "\n",
        "* **Payment_Behaviour**: A categorical variable indicating the customer's payment habits (e.g., High spent,Low spent), which can influence creditworthiness.\n",
        "\n",
        "* **Monthly_Balance**: The amount of balance left in the customer's account after payment of all expences and deductions.\n",
        "\n",
        "* **Credit_Score**: The type of credit score of individual(Good, Poor, Standard), It is our target variable on which we will do analysis."
      ],
      "metadata": {
        "id": "yFGj1UY3tfGc"
      }
    },
    {
      "cell_type": "markdown",
      "source": [
        "### Dataset Attributes information i.e(mean(), median(), mode())."
      ],
      "metadata": {
        "id": "cFcBT9eFtlkJ"
      }
    },
    {
      "cell_type": "code",
      "source": [
        "data.describe()"
      ],
      "metadata": {
        "colab": {
          "base_uri": "https://localhost:8080/",
          "height": 350
        },
        "id": "JB-ditGiuHkp",
        "outputId": "f5ac7ed8-d396-4da7-d4a8-145692a36ef4"
      },
      "execution_count": 50,
      "outputs": [
        {
          "output_type": "execute_result",
          "data": {
            "text/plain": [
              "                  ID    Customer_ID          Month            Age  \\\n",
              "count  100000.000000  100000.000000  100000.000000  100000.000000   \n",
              "mean    80631.500000   25982.666640       4.500000      33.316340   \n",
              "std     43301.486619   14340.543051       2.291299      10.764812   \n",
              "min      5634.000000    1006.000000       1.000000      14.000000   \n",
              "25%     43132.750000   13664.500000       2.750000      24.000000   \n",
              "50%     80631.500000   25777.000000       4.500000      33.000000   \n",
              "75%    118130.250000   38385.000000       6.250000      42.000000   \n",
              "max    155629.000000   50999.000000       8.000000      56.000000   \n",
              "\n",
              "                SSN  Annual_Income  Monthly_Inhand_Salary  Num_Bank_Accounts  \\\n",
              "count  1.000000e+05  100000.000000          100000.000000      100000.000000   \n",
              "mean   5.004617e+08   50505.123449            4197.270835           5.368820   \n",
              "std    2.908267e+08   38299.422093            3186.432497           2.593314   \n",
              "min    8.134900e+04    7005.930000             303.645417           0.000000   \n",
              "25%    2.451686e+08   19342.972500            1626.594167           3.000000   \n",
              "50%    5.006886e+08   36999.705000            3095.905000           5.000000   \n",
              "75%    7.560027e+08   71683.470000            5957.715000           7.000000   \n",
              "max    9.999934e+08  179987.280000           15204.633333          11.000000   \n",
              "\n",
              "       Num_Credit_Card  Interest_Rate  ...  Delay_from_due_date  \\\n",
              "count    100000.000000   100000.00000  ...         100000.00000   \n",
              "mean          5.533570       14.53208  ...             21.08141   \n",
              "std           2.067098        8.74133  ...             14.80456   \n",
              "min           0.000000        1.00000  ...              0.00000   \n",
              "25%           4.000000        7.00000  ...             10.00000   \n",
              "50%           5.000000       13.00000  ...             18.00000   \n",
              "75%           7.000000       20.00000  ...             28.00000   \n",
              "max          11.000000       34.00000  ...             62.00000   \n",
              "\n",
              "       Num_of_Delayed_Payment  Changed_Credit_Limit  Num_Credit_Inquiries  \\\n",
              "count           100000.000000         100000.000000         100000.000000   \n",
              "mean                13.313120             10.470323              5.798250   \n",
              "std                  6.237166              6.609481              3.867826   \n",
              "min                  0.000000              0.500000              0.000000   \n",
              "25%                  9.000000              5.380000              3.000000   \n",
              "50%                 14.000000              9.400000              5.000000   \n",
              "75%                 18.000000             14.850000              8.000000   \n",
              "max                 25.000000             29.980000             17.000000   \n",
              "\n",
              "       Outstanding_Debt  Credit_Utilization_Ratio  Credit_History_Age  \\\n",
              "count     100000.000000             100000.000000       100000.000000   \n",
              "mean        1426.220376                 32.285173          221.220460   \n",
              "std         1155.129026                  5.116875           99.680716   \n",
              "min            0.230000                 20.000000            1.000000   \n",
              "25%          566.072500                 28.052567          144.000000   \n",
              "50%         1166.155000                 32.305784          219.000000   \n",
              "75%         1945.962500                 36.496663          302.000000   \n",
              "max         4998.070000                 50.000000          404.000000   \n",
              "\n",
              "       Total_EMI_per_month  Amount_invested_monthly  Monthly_Balance  \n",
              "count        100000.000000            100000.000000    100000.000000  \n",
              "mean            107.699208                55.101315       392.697586  \n",
              "std             132.267056                39.006932       201.652719  \n",
              "min               0.000000                 0.000000         0.007760  \n",
              "25%              29.268886                27.959111       267.615983  \n",
              "50%              66.462304                45.156550       333.865366  \n",
              "75%             147.392573                71.295797       463.215683  \n",
              "max            1779.103254               434.191089      1183.930696  \n",
              "\n",
              "[8 rows x 21 columns]"
            ],
            "text/html": [
              "\n",
              "  <div id=\"df-bee27df3-f6f9-4aa3-a2fc-64e0083697ad\" class=\"colab-df-container\">\n",
              "    <div>\n",
              "<style scoped>\n",
              "    .dataframe tbody tr th:only-of-type {\n",
              "        vertical-align: middle;\n",
              "    }\n",
              "\n",
              "    .dataframe tbody tr th {\n",
              "        vertical-align: top;\n",
              "    }\n",
              "\n",
              "    .dataframe thead th {\n",
              "        text-align: right;\n",
              "    }\n",
              "</style>\n",
              "<table border=\"1\" class=\"dataframe\">\n",
              "  <thead>\n",
              "    <tr style=\"text-align: right;\">\n",
              "      <th></th>\n",
              "      <th>ID</th>\n",
              "      <th>Customer_ID</th>\n",
              "      <th>Month</th>\n",
              "      <th>Age</th>\n",
              "      <th>SSN</th>\n",
              "      <th>Annual_Income</th>\n",
              "      <th>Monthly_Inhand_Salary</th>\n",
              "      <th>Num_Bank_Accounts</th>\n",
              "      <th>Num_Credit_Card</th>\n",
              "      <th>Interest_Rate</th>\n",
              "      <th>...</th>\n",
              "      <th>Delay_from_due_date</th>\n",
              "      <th>Num_of_Delayed_Payment</th>\n",
              "      <th>Changed_Credit_Limit</th>\n",
              "      <th>Num_Credit_Inquiries</th>\n",
              "      <th>Outstanding_Debt</th>\n",
              "      <th>Credit_Utilization_Ratio</th>\n",
              "      <th>Credit_History_Age</th>\n",
              "      <th>Total_EMI_per_month</th>\n",
              "      <th>Amount_invested_monthly</th>\n",
              "      <th>Monthly_Balance</th>\n",
              "    </tr>\n",
              "  </thead>\n",
              "  <tbody>\n",
              "    <tr>\n",
              "      <th>count</th>\n",
              "      <td>100000.000000</td>\n",
              "      <td>100000.000000</td>\n",
              "      <td>100000.000000</td>\n",
              "      <td>100000.000000</td>\n",
              "      <td>1.000000e+05</td>\n",
              "      <td>100000.000000</td>\n",
              "      <td>100000.000000</td>\n",
              "      <td>100000.000000</td>\n",
              "      <td>100000.000000</td>\n",
              "      <td>100000.00000</td>\n",
              "      <td>...</td>\n",
              "      <td>100000.00000</td>\n",
              "      <td>100000.000000</td>\n",
              "      <td>100000.000000</td>\n",
              "      <td>100000.000000</td>\n",
              "      <td>100000.000000</td>\n",
              "      <td>100000.000000</td>\n",
              "      <td>100000.000000</td>\n",
              "      <td>100000.000000</td>\n",
              "      <td>100000.000000</td>\n",
              "      <td>100000.000000</td>\n",
              "    </tr>\n",
              "    <tr>\n",
              "      <th>mean</th>\n",
              "      <td>80631.500000</td>\n",
              "      <td>25982.666640</td>\n",
              "      <td>4.500000</td>\n",
              "      <td>33.316340</td>\n",
              "      <td>5.004617e+08</td>\n",
              "      <td>50505.123449</td>\n",
              "      <td>4197.270835</td>\n",
              "      <td>5.368820</td>\n",
              "      <td>5.533570</td>\n",
              "      <td>14.53208</td>\n",
              "      <td>...</td>\n",
              "      <td>21.08141</td>\n",
              "      <td>13.313120</td>\n",
              "      <td>10.470323</td>\n",
              "      <td>5.798250</td>\n",
              "      <td>1426.220376</td>\n",
              "      <td>32.285173</td>\n",
              "      <td>221.220460</td>\n",
              "      <td>107.699208</td>\n",
              "      <td>55.101315</td>\n",
              "      <td>392.697586</td>\n",
              "    </tr>\n",
              "    <tr>\n",
              "      <th>std</th>\n",
              "      <td>43301.486619</td>\n",
              "      <td>14340.543051</td>\n",
              "      <td>2.291299</td>\n",
              "      <td>10.764812</td>\n",
              "      <td>2.908267e+08</td>\n",
              "      <td>38299.422093</td>\n",
              "      <td>3186.432497</td>\n",
              "      <td>2.593314</td>\n",
              "      <td>2.067098</td>\n",
              "      <td>8.74133</td>\n",
              "      <td>...</td>\n",
              "      <td>14.80456</td>\n",
              "      <td>6.237166</td>\n",
              "      <td>6.609481</td>\n",
              "      <td>3.867826</td>\n",
              "      <td>1155.129026</td>\n",
              "      <td>5.116875</td>\n",
              "      <td>99.680716</td>\n",
              "      <td>132.267056</td>\n",
              "      <td>39.006932</td>\n",
              "      <td>201.652719</td>\n",
              "    </tr>\n",
              "    <tr>\n",
              "      <th>min</th>\n",
              "      <td>5634.000000</td>\n",
              "      <td>1006.000000</td>\n",
              "      <td>1.000000</td>\n",
              "      <td>14.000000</td>\n",
              "      <td>8.134900e+04</td>\n",
              "      <td>7005.930000</td>\n",
              "      <td>303.645417</td>\n",
              "      <td>0.000000</td>\n",
              "      <td>0.000000</td>\n",
              "      <td>1.00000</td>\n",
              "      <td>...</td>\n",
              "      <td>0.00000</td>\n",
              "      <td>0.000000</td>\n",
              "      <td>0.500000</td>\n",
              "      <td>0.000000</td>\n",
              "      <td>0.230000</td>\n",
              "      <td>20.000000</td>\n",
              "      <td>1.000000</td>\n",
              "      <td>0.000000</td>\n",
              "      <td>0.000000</td>\n",
              "      <td>0.007760</td>\n",
              "    </tr>\n",
              "    <tr>\n",
              "      <th>25%</th>\n",
              "      <td>43132.750000</td>\n",
              "      <td>13664.500000</td>\n",
              "      <td>2.750000</td>\n",
              "      <td>24.000000</td>\n",
              "      <td>2.451686e+08</td>\n",
              "      <td>19342.972500</td>\n",
              "      <td>1626.594167</td>\n",
              "      <td>3.000000</td>\n",
              "      <td>4.000000</td>\n",
              "      <td>7.00000</td>\n",
              "      <td>...</td>\n",
              "      <td>10.00000</td>\n",
              "      <td>9.000000</td>\n",
              "      <td>5.380000</td>\n",
              "      <td>3.000000</td>\n",
              "      <td>566.072500</td>\n",
              "      <td>28.052567</td>\n",
              "      <td>144.000000</td>\n",
              "      <td>29.268886</td>\n",
              "      <td>27.959111</td>\n",
              "      <td>267.615983</td>\n",
              "    </tr>\n",
              "    <tr>\n",
              "      <th>50%</th>\n",
              "      <td>80631.500000</td>\n",
              "      <td>25777.000000</td>\n",
              "      <td>4.500000</td>\n",
              "      <td>33.000000</td>\n",
              "      <td>5.006886e+08</td>\n",
              "      <td>36999.705000</td>\n",
              "      <td>3095.905000</td>\n",
              "      <td>5.000000</td>\n",
              "      <td>5.000000</td>\n",
              "      <td>13.00000</td>\n",
              "      <td>...</td>\n",
              "      <td>18.00000</td>\n",
              "      <td>14.000000</td>\n",
              "      <td>9.400000</td>\n",
              "      <td>5.000000</td>\n",
              "      <td>1166.155000</td>\n",
              "      <td>32.305784</td>\n",
              "      <td>219.000000</td>\n",
              "      <td>66.462304</td>\n",
              "      <td>45.156550</td>\n",
              "      <td>333.865366</td>\n",
              "    </tr>\n",
              "    <tr>\n",
              "      <th>75%</th>\n",
              "      <td>118130.250000</td>\n",
              "      <td>38385.000000</td>\n",
              "      <td>6.250000</td>\n",
              "      <td>42.000000</td>\n",
              "      <td>7.560027e+08</td>\n",
              "      <td>71683.470000</td>\n",
              "      <td>5957.715000</td>\n",
              "      <td>7.000000</td>\n",
              "      <td>7.000000</td>\n",
              "      <td>20.00000</td>\n",
              "      <td>...</td>\n",
              "      <td>28.00000</td>\n",
              "      <td>18.000000</td>\n",
              "      <td>14.850000</td>\n",
              "      <td>8.000000</td>\n",
              "      <td>1945.962500</td>\n",
              "      <td>36.496663</td>\n",
              "      <td>302.000000</td>\n",
              "      <td>147.392573</td>\n",
              "      <td>71.295797</td>\n",
              "      <td>463.215683</td>\n",
              "    </tr>\n",
              "    <tr>\n",
              "      <th>max</th>\n",
              "      <td>155629.000000</td>\n",
              "      <td>50999.000000</td>\n",
              "      <td>8.000000</td>\n",
              "      <td>56.000000</td>\n",
              "      <td>9.999934e+08</td>\n",
              "      <td>179987.280000</td>\n",
              "      <td>15204.633333</td>\n",
              "      <td>11.000000</td>\n",
              "      <td>11.000000</td>\n",
              "      <td>34.00000</td>\n",
              "      <td>...</td>\n",
              "      <td>62.00000</td>\n",
              "      <td>25.000000</td>\n",
              "      <td>29.980000</td>\n",
              "      <td>17.000000</td>\n",
              "      <td>4998.070000</td>\n",
              "      <td>50.000000</td>\n",
              "      <td>404.000000</td>\n",
              "      <td>1779.103254</td>\n",
              "      <td>434.191089</td>\n",
              "      <td>1183.930696</td>\n",
              "    </tr>\n",
              "  </tbody>\n",
              "</table>\n",
              "<p>8 rows × 21 columns</p>\n",
              "</div>\n",
              "    <div class=\"colab-df-buttons\">\n",
              "\n",
              "  <div class=\"colab-df-container\">\n",
              "    <button class=\"colab-df-convert\" onclick=\"convertToInteractive('df-bee27df3-f6f9-4aa3-a2fc-64e0083697ad')\"\n",
              "            title=\"Convert this dataframe to an interactive table.\"\n",
              "            style=\"display:none;\">\n",
              "\n",
              "  <svg xmlns=\"http://www.w3.org/2000/svg\" height=\"24px\" viewBox=\"0 -960 960 960\">\n",
              "    <path d=\"M120-120v-720h720v720H120Zm60-500h600v-160H180v160Zm220 220h160v-160H400v160Zm0 220h160v-160H400v160ZM180-400h160v-160H180v160Zm440 0h160v-160H620v160ZM180-180h160v-160H180v160Zm440 0h160v-160H620v160Z\"/>\n",
              "  </svg>\n",
              "    </button>\n",
              "\n",
              "  <style>\n",
              "    .colab-df-container {\n",
              "      display:flex;\n",
              "      gap: 12px;\n",
              "    }\n",
              "\n",
              "    .colab-df-convert {\n",
              "      background-color: #E8F0FE;\n",
              "      border: none;\n",
              "      border-radius: 50%;\n",
              "      cursor: pointer;\n",
              "      display: none;\n",
              "      fill: #1967D2;\n",
              "      height: 32px;\n",
              "      padding: 0 0 0 0;\n",
              "      width: 32px;\n",
              "    }\n",
              "\n",
              "    .colab-df-convert:hover {\n",
              "      background-color: #E2EBFA;\n",
              "      box-shadow: 0px 1px 2px rgba(60, 64, 67, 0.3), 0px 1px 3px 1px rgba(60, 64, 67, 0.15);\n",
              "      fill: #174EA6;\n",
              "    }\n",
              "\n",
              "    .colab-df-buttons div {\n",
              "      margin-bottom: 4px;\n",
              "    }\n",
              "\n",
              "    [theme=dark] .colab-df-convert {\n",
              "      background-color: #3B4455;\n",
              "      fill: #D2E3FC;\n",
              "    }\n",
              "\n",
              "    [theme=dark] .colab-df-convert:hover {\n",
              "      background-color: #434B5C;\n",
              "      box-shadow: 0px 1px 3px 1px rgba(0, 0, 0, 0.15);\n",
              "      filter: drop-shadow(0px 1px 2px rgba(0, 0, 0, 0.3));\n",
              "      fill: #FFFFFF;\n",
              "    }\n",
              "  </style>\n",
              "\n",
              "    <script>\n",
              "      const buttonEl =\n",
              "        document.querySelector('#df-bee27df3-f6f9-4aa3-a2fc-64e0083697ad button.colab-df-convert');\n",
              "      buttonEl.style.display =\n",
              "        google.colab.kernel.accessAllowed ? 'block' : 'none';\n",
              "\n",
              "      async function convertToInteractive(key) {\n",
              "        const element = document.querySelector('#df-bee27df3-f6f9-4aa3-a2fc-64e0083697ad');\n",
              "        const dataTable =\n",
              "          await google.colab.kernel.invokeFunction('convertToInteractive',\n",
              "                                                    [key], {});\n",
              "        if (!dataTable) return;\n",
              "\n",
              "        const docLinkHtml = 'Like what you see? Visit the ' +\n",
              "          '<a target=\"_blank\" href=https://colab.research.google.com/notebooks/data_table.ipynb>data table notebook</a>'\n",
              "          + ' to learn more about interactive tables.';\n",
              "        element.innerHTML = '';\n",
              "        dataTable['output_type'] = 'display_data';\n",
              "        await google.colab.output.renderOutput(dataTable, element);\n",
              "        const docLink = document.createElement('div');\n",
              "        docLink.innerHTML = docLinkHtml;\n",
              "        element.appendChild(docLink);\n",
              "      }\n",
              "    </script>\n",
              "  </div>\n",
              "\n",
              "\n",
              "<div id=\"df-6b25a5f1-0ac2-4601-a0e9-ea026310f729\">\n",
              "  <button class=\"colab-df-quickchart\" onclick=\"quickchart('df-6b25a5f1-0ac2-4601-a0e9-ea026310f729')\"\n",
              "            title=\"Suggest charts\"\n",
              "            style=\"display:none;\">\n",
              "\n",
              "<svg xmlns=\"http://www.w3.org/2000/svg\" height=\"24px\"viewBox=\"0 0 24 24\"\n",
              "     width=\"24px\">\n",
              "    <g>\n",
              "        <path d=\"M19 3H5c-1.1 0-2 .9-2 2v14c0 1.1.9 2 2 2h14c1.1 0 2-.9 2-2V5c0-1.1-.9-2-2-2zM9 17H7v-7h2v7zm4 0h-2V7h2v10zm4 0h-2v-4h2v4z\"/>\n",
              "    </g>\n",
              "</svg>\n",
              "  </button>\n",
              "\n",
              "<style>\n",
              "  .colab-df-quickchart {\n",
              "      --bg-color: #E8F0FE;\n",
              "      --fill-color: #1967D2;\n",
              "      --hover-bg-color: #E2EBFA;\n",
              "      --hover-fill-color: #174EA6;\n",
              "      --disabled-fill-color: #AAA;\n",
              "      --disabled-bg-color: #DDD;\n",
              "  }\n",
              "\n",
              "  [theme=dark] .colab-df-quickchart {\n",
              "      --bg-color: #3B4455;\n",
              "      --fill-color: #D2E3FC;\n",
              "      --hover-bg-color: #434B5C;\n",
              "      --hover-fill-color: #FFFFFF;\n",
              "      --disabled-bg-color: #3B4455;\n",
              "      --disabled-fill-color: #666;\n",
              "  }\n",
              "\n",
              "  .colab-df-quickchart {\n",
              "    background-color: var(--bg-color);\n",
              "    border: none;\n",
              "    border-radius: 50%;\n",
              "    cursor: pointer;\n",
              "    display: none;\n",
              "    fill: var(--fill-color);\n",
              "    height: 32px;\n",
              "    padding: 0;\n",
              "    width: 32px;\n",
              "  }\n",
              "\n",
              "  .colab-df-quickchart:hover {\n",
              "    background-color: var(--hover-bg-color);\n",
              "    box-shadow: 0 1px 2px rgba(60, 64, 67, 0.3), 0 1px 3px 1px rgba(60, 64, 67, 0.15);\n",
              "    fill: var(--button-hover-fill-color);\n",
              "  }\n",
              "\n",
              "  .colab-df-quickchart-complete:disabled,\n",
              "  .colab-df-quickchart-complete:disabled:hover {\n",
              "    background-color: var(--disabled-bg-color);\n",
              "    fill: var(--disabled-fill-color);\n",
              "    box-shadow: none;\n",
              "  }\n",
              "\n",
              "  .colab-df-spinner {\n",
              "    border: 2px solid var(--fill-color);\n",
              "    border-color: transparent;\n",
              "    border-bottom-color: var(--fill-color);\n",
              "    animation:\n",
              "      spin 1s steps(1) infinite;\n",
              "  }\n",
              "\n",
              "  @keyframes spin {\n",
              "    0% {\n",
              "      border-color: transparent;\n",
              "      border-bottom-color: var(--fill-color);\n",
              "      border-left-color: var(--fill-color);\n",
              "    }\n",
              "    20% {\n",
              "      border-color: transparent;\n",
              "      border-left-color: var(--fill-color);\n",
              "      border-top-color: var(--fill-color);\n",
              "    }\n",
              "    30% {\n",
              "      border-color: transparent;\n",
              "      border-left-color: var(--fill-color);\n",
              "      border-top-color: var(--fill-color);\n",
              "      border-right-color: var(--fill-color);\n",
              "    }\n",
              "    40% {\n",
              "      border-color: transparent;\n",
              "      border-right-color: var(--fill-color);\n",
              "      border-top-color: var(--fill-color);\n",
              "    }\n",
              "    60% {\n",
              "      border-color: transparent;\n",
              "      border-right-color: var(--fill-color);\n",
              "    }\n",
              "    80% {\n",
              "      border-color: transparent;\n",
              "      border-right-color: var(--fill-color);\n",
              "      border-bottom-color: var(--fill-color);\n",
              "    }\n",
              "    90% {\n",
              "      border-color: transparent;\n",
              "      border-bottom-color: var(--fill-color);\n",
              "    }\n",
              "  }\n",
              "</style>\n",
              "\n",
              "  <script>\n",
              "    async function quickchart(key) {\n",
              "      const quickchartButtonEl =\n",
              "        document.querySelector('#' + key + ' button');\n",
              "      quickchartButtonEl.disabled = true;  // To prevent multiple clicks.\n",
              "      quickchartButtonEl.classList.add('colab-df-spinner');\n",
              "      try {\n",
              "        const charts = await google.colab.kernel.invokeFunction(\n",
              "            'suggestCharts', [key], {});\n",
              "      } catch (error) {\n",
              "        console.error('Error during call to suggestCharts:', error);\n",
              "      }\n",
              "      quickchartButtonEl.classList.remove('colab-df-spinner');\n",
              "      quickchartButtonEl.classList.add('colab-df-quickchart-complete');\n",
              "    }\n",
              "    (() => {\n",
              "      let quickchartButtonEl =\n",
              "        document.querySelector('#df-6b25a5f1-0ac2-4601-a0e9-ea026310f729 button');\n",
              "      quickchartButtonEl.style.display =\n",
              "        google.colab.kernel.accessAllowed ? 'block' : 'none';\n",
              "    })();\n",
              "  </script>\n",
              "</div>\n",
              "\n",
              "    </div>\n",
              "  </div>\n"
            ],
            "application/vnd.google.colaboratory.intrinsic+json": {
              "type": "dataframe"
            }
          },
          "metadata": {},
          "execution_count": 50
        }
      ]
    },
    {
      "cell_type": "markdown",
      "source": [
        "### Check Unique Values for each variable."
      ],
      "metadata": {
        "id": "WYnJAKqptqrf"
      }
    },
    {
      "cell_type": "code",
      "source": [
        "# .nunique() function in the loop is used to find total number of unique values in the each column.\n",
        "for column in data.columns:\n",
        "  print(f\" There are total number of {data[column].nunique()} unique values in the {column} column. \")"
      ],
      "metadata": {
        "colab": {
          "base_uri": "https://localhost:8080/"
        },
        "id": "jJEd5yVJtrdb",
        "outputId": "f4980ee6-d629-4966-a90a-90d90ffe2e76"
      },
      "execution_count": 51,
      "outputs": [
        {
          "output_type": "stream",
          "name": "stdout",
          "text": [
            " There are total number of 100000 unique values in the ID column. \n",
            " There are total number of 12500 unique values in the Customer_ID column. \n",
            " There are total number of 8 unique values in the Month column. \n",
            " There are total number of 10128 unique values in the Name column. \n",
            " There are total number of 43 unique values in the Age column. \n",
            " There are total number of 12500 unique values in the SSN column. \n",
            " There are total number of 15 unique values in the Occupation column. \n",
            " There are total number of 12488 unique values in the Annual_Income column. \n",
            " There are total number of 13241 unique values in the Monthly_Inhand_Salary column. \n",
            " There are total number of 12 unique values in the Num_Bank_Accounts column. \n",
            " There are total number of 12 unique values in the Num_Credit_Card column. \n",
            " There are total number of 34 unique values in the Interest_Rate column. \n",
            " There are total number of 10 unique values in the Num_of_Loan column. \n",
            " There are total number of 6260 unique values in the Type_of_Loan column. \n",
            " There are total number of 63 unique values in the Delay_from_due_date column. \n",
            " There are total number of 26 unique values in the Num_of_Delayed_Payment column. \n",
            " There are total number of 3452 unique values in the Changed_Credit_Limit column. \n",
            " There are total number of 18 unique values in the Num_Credit_Inquiries column. \n",
            " There are total number of 3 unique values in the Credit_Mix column. \n",
            " There are total number of 12203 unique values in the Outstanding_Debt column. \n",
            " There are total number of 100000 unique values in the Credit_Utilization_Ratio column. \n",
            " There are total number of 404 unique values in the Credit_History_Age column. \n",
            " There are total number of 3 unique values in the Payment_of_Min_Amount column. \n",
            " There are total number of 11890 unique values in the Total_EMI_per_month column. \n",
            " There are total number of 12261 unique values in the Amount_invested_monthly column. \n",
            " There are total number of 6 unique values in the Payment_Behaviour column. \n",
            " There are total number of 98494 unique values in the Monthly_Balance column. \n",
            " There are total number of 3 unique values in the Credit_Score column. \n"
          ]
        }
      ]
    },
    {
      "cell_type": "markdown",
      "source": [
        "## 3. ***Data Wrangling***"
      ],
      "metadata": {
        "id": "42BG68Ptw5F_"
      }
    },
    {
      "cell_type": "markdown",
      "source": [
        "Data Wrangling, also known as Data Munging, is a crucial process in data analysis that involves several key steps to prepare raw data for analysis. The main steps include:\n",
        "\n",
        "  * Data Collection.\n",
        "  * Data Cleaning.\n",
        "  * Data Restructuring.\n",
        "\n",
        "In the given PaisaBazaar dataset there are a total of 100000 rows and 28 columns which makes a total of 28,00000 lacks of data values.\n",
        "\n",
        "#### Data Analysis Findings:\n",
        "* Duplicate Rows : There are no duplicate rows present in the dataset.\n",
        "\n",
        "* Null/Missing values :There are Several columns contain null values or missing values. These need to be addressed by either replacing or removing them as needed.\n",
        "\n",
        "* Inappropriate DataType of Attributes: Some columns contain inappropriate data types. These need to be corrected to ensure that the data is in the right format for analysis."
      ],
      "metadata": {
        "id": "UdbHaFTGw-Zv"
      }
    },
    {
      "cell_type": "markdown",
      "source": [
        "### There are Total Four main steps in Data Wrangling.\n",
        "* 1. Removing the Duplicate rows from the dataset.\n",
        "* 2. Removing or Replacing of Null values/Missing values.\n",
        "* 3. Correction of inappropriate attritubes data type.\n",
        "* 4. If needed then addition of columns by using existing columns."
      ],
      "metadata": {
        "id": "NECdasIyxAMH"
      }
    },
    {
      "cell_type": "markdown",
      "source": [
        "**Step 1. Removal of Duplicate rows:**"
      ],
      "metadata": {
        "id": "Zq1QL2HqxD9p"
      }
    },
    {
      "cell_type": "code",
      "source": [
        "print(f\" There are {data.duplicated().sum()} duplicate value found in the given dataset\")"
      ],
      "metadata": {
        "colab": {
          "base_uri": "https://localhost:8080/"
        },
        "id": "VnABXXYYxMhY",
        "outputId": "42383c43-b824-4a96-e74b-f70b987644b5"
      },
      "execution_count": 52,
      "outputs": [
        {
          "output_type": "stream",
          "name": "stdout",
          "text": [
            " There are 0 duplicate value found in the given dataset\n"
          ]
        }
      ]
    },
    {
      "cell_type": "markdown",
      "source": [
        "As we can see by using .duplicated().sum() function, there's no duplicate rows are present in the Given dataset so we don't need to perform any action on the dataset."
      ],
      "metadata": {
        "id": "5K2fKZztxH-0"
      }
    },
    {
      "cell_type": "markdown",
      "source": [
        "**Step 2: Removal/replacement of Null values :**"
      ],
      "metadata": {
        "id": "9w-fShyvxTG7"
      }
    },
    {
      "cell_type": "code",
      "source": [
        "data.isnull().sum()"
      ],
      "metadata": {
        "colab": {
          "base_uri": "https://localhost:8080/",
          "height": 962
        },
        "id": "YopOxfJ6xdL4",
        "outputId": "f036be75-9666-43b8-8dac-57090ebed24b"
      },
      "execution_count": 53,
      "outputs": [
        {
          "output_type": "execute_result",
          "data": {
            "text/plain": [
              "ID                              0\n",
              "Customer_ID                     0\n",
              "Month                           0\n",
              "Name                            0\n",
              "Age                             0\n",
              "SSN                             0\n",
              "Occupation                      0\n",
              "Annual_Income                   0\n",
              "Monthly_Inhand_Salary           0\n",
              "Num_Bank_Accounts               0\n",
              "Num_Credit_Card                 0\n",
              "Interest_Rate                   0\n",
              "Num_of_Loan                     0\n",
              "Type_of_Loan                 1408\n",
              "Delay_from_due_date             0\n",
              "Num_of_Delayed_Payment          0\n",
              "Changed_Credit_Limit            0\n",
              "Num_Credit_Inquiries            0\n",
              "Credit_Mix                      0\n",
              "Outstanding_Debt                0\n",
              "Credit_Utilization_Ratio        0\n",
              "Credit_History_Age              0\n",
              "Payment_of_Min_Amount       10705\n",
              "Total_EMI_per_month             0\n",
              "Amount_invested_monthly         0\n",
              "Payment_Behaviour               0\n",
              "Monthly_Balance                 0\n",
              "Credit_Score                    0\n",
              "dtype: int64"
            ],
            "text/html": [
              "<div>\n",
              "<style scoped>\n",
              "    .dataframe tbody tr th:only-of-type {\n",
              "        vertical-align: middle;\n",
              "    }\n",
              "\n",
              "    .dataframe tbody tr th {\n",
              "        vertical-align: top;\n",
              "    }\n",
              "\n",
              "    .dataframe thead th {\n",
              "        text-align: right;\n",
              "    }\n",
              "</style>\n",
              "<table border=\"1\" class=\"dataframe\">\n",
              "  <thead>\n",
              "    <tr style=\"text-align: right;\">\n",
              "      <th></th>\n",
              "      <th>0</th>\n",
              "    </tr>\n",
              "  </thead>\n",
              "  <tbody>\n",
              "    <tr>\n",
              "      <th>ID</th>\n",
              "      <td>0</td>\n",
              "    </tr>\n",
              "    <tr>\n",
              "      <th>Customer_ID</th>\n",
              "      <td>0</td>\n",
              "    </tr>\n",
              "    <tr>\n",
              "      <th>Month</th>\n",
              "      <td>0</td>\n",
              "    </tr>\n",
              "    <tr>\n",
              "      <th>Name</th>\n",
              "      <td>0</td>\n",
              "    </tr>\n",
              "    <tr>\n",
              "      <th>Age</th>\n",
              "      <td>0</td>\n",
              "    </tr>\n",
              "    <tr>\n",
              "      <th>SSN</th>\n",
              "      <td>0</td>\n",
              "    </tr>\n",
              "    <tr>\n",
              "      <th>Occupation</th>\n",
              "      <td>0</td>\n",
              "    </tr>\n",
              "    <tr>\n",
              "      <th>Annual_Income</th>\n",
              "      <td>0</td>\n",
              "    </tr>\n",
              "    <tr>\n",
              "      <th>Monthly_Inhand_Salary</th>\n",
              "      <td>0</td>\n",
              "    </tr>\n",
              "    <tr>\n",
              "      <th>Num_Bank_Accounts</th>\n",
              "      <td>0</td>\n",
              "    </tr>\n",
              "    <tr>\n",
              "      <th>Num_Credit_Card</th>\n",
              "      <td>0</td>\n",
              "    </tr>\n",
              "    <tr>\n",
              "      <th>Interest_Rate</th>\n",
              "      <td>0</td>\n",
              "    </tr>\n",
              "    <tr>\n",
              "      <th>Num_of_Loan</th>\n",
              "      <td>0</td>\n",
              "    </tr>\n",
              "    <tr>\n",
              "      <th>Type_of_Loan</th>\n",
              "      <td>1408</td>\n",
              "    </tr>\n",
              "    <tr>\n",
              "      <th>Delay_from_due_date</th>\n",
              "      <td>0</td>\n",
              "    </tr>\n",
              "    <tr>\n",
              "      <th>Num_of_Delayed_Payment</th>\n",
              "      <td>0</td>\n",
              "    </tr>\n",
              "    <tr>\n",
              "      <th>Changed_Credit_Limit</th>\n",
              "      <td>0</td>\n",
              "    </tr>\n",
              "    <tr>\n",
              "      <th>Num_Credit_Inquiries</th>\n",
              "      <td>0</td>\n",
              "    </tr>\n",
              "    <tr>\n",
              "      <th>Credit_Mix</th>\n",
              "      <td>0</td>\n",
              "    </tr>\n",
              "    <tr>\n",
              "      <th>Outstanding_Debt</th>\n",
              "      <td>0</td>\n",
              "    </tr>\n",
              "    <tr>\n",
              "      <th>Credit_Utilization_Ratio</th>\n",
              "      <td>0</td>\n",
              "    </tr>\n",
              "    <tr>\n",
              "      <th>Credit_History_Age</th>\n",
              "      <td>0</td>\n",
              "    </tr>\n",
              "    <tr>\n",
              "      <th>Payment_of_Min_Amount</th>\n",
              "      <td>10705</td>\n",
              "    </tr>\n",
              "    <tr>\n",
              "      <th>Total_EMI_per_month</th>\n",
              "      <td>0</td>\n",
              "    </tr>\n",
              "    <tr>\n",
              "      <th>Amount_invested_monthly</th>\n",
              "      <td>0</td>\n",
              "    </tr>\n",
              "    <tr>\n",
              "      <th>Payment_Behaviour</th>\n",
              "      <td>0</td>\n",
              "    </tr>\n",
              "    <tr>\n",
              "      <th>Monthly_Balance</th>\n",
              "      <td>0</td>\n",
              "    </tr>\n",
              "    <tr>\n",
              "      <th>Credit_Score</th>\n",
              "      <td>0</td>\n",
              "    </tr>\n",
              "  </tbody>\n",
              "</table>\n",
              "</div><br><label><b>dtype:</b> int64</label>"
            ]
          },
          "metadata": {},
          "execution_count": 53
        }
      ]
    },
    {
      "cell_type": "markdown",
      "source": [
        "As we can see that there are two columns which conntains null or missing values in the dataset.\n",
        "* Removal of Null values : Condition:-\n",
        "  * If the percentage of total null value are very less or less the 5% of total count of rows then it's good to remove those rows from the database.\n",
        "  * If the data type of that column is boolean in nature then remove those rows from the database.\n",
        "\n",
        "* Replacement of null values :\n",
        "  * If the percentage of null values are more then 10 % of total count and data type of that column is not boolean.\n",
        "  * if the column is categorical in nature (if the distinct value in the column also can be counted in fingers then that is categorical.  "
      ],
      "metadata": {
        "id": "5qO2Jh-wxndo"
      }
    },
    {
      "cell_type": "markdown",
      "source": [
        "Here in the given dataset we can easily see that there are two columns which contains null values.\n",
        "Type_of_Loan : As we can see that in the type of loan column it is a varchar type data so it hard or very difficult to replace and in the Payment_of_min_Amount column two Unique values are avaliable and it is boolean value (Yes/No) so here we will remove those rows as well from Payment_of_min_Amount."
      ],
      "metadata": {
        "id": "Y1SpPsKXxqvi"
      }
    },
    {
      "cell_type": "code",
      "source": [
        "data.dropna(subset=['Type_of_Loan','Payment_of_Min_Amount'],inplace=True)\n",
        "#data.dropna(subset='Payment_of_Min_Amount', inplace=True)"
      ],
      "metadata": {
        "id": "aYuumglExtuc"
      },
      "execution_count": 54,
      "outputs": []
    },
    {
      "cell_type": "code",
      "source": [
        "rows,columns=data.shape\n",
        "print(f\" There are total {rows} and {columns} are present in the dataset after removal of null values\")"
      ],
      "metadata": {
        "colab": {
          "base_uri": "https://localhost:8080/"
        },
        "id": "SnP3hkxqxvor",
        "outputId": "d6719ecd-1f5a-43d9-b004-20aca199c47e"
      },
      "execution_count": 55,
      "outputs": [
        {
          "output_type": "stream",
          "name": "stdout",
          "text": [
            " There are total 88060 and 28 are present in the dataset after removal of null values\n"
          ]
        }
      ]
    },
    {
      "cell_type": "markdown",
      "source": [
        "After removal of Null/Missing values the length of our Dataset is"
      ],
      "metadata": {
        "id": "tFs8BIUIxxvi"
      }
    },
    {
      "cell_type": "code",
      "source": [
        "data.isnull().sum()"
      ],
      "metadata": {
        "colab": {
          "base_uri": "https://localhost:8080/",
          "height": 962
        },
        "id": "SqiXaRf2xyto",
        "outputId": "652fa991-3186-4aa1-93e8-a5512f7724dd"
      },
      "execution_count": 56,
      "outputs": [
        {
          "output_type": "execute_result",
          "data": {
            "text/plain": [
              "ID                          0\n",
              "Customer_ID                 0\n",
              "Month                       0\n",
              "Name                        0\n",
              "Age                         0\n",
              "SSN                         0\n",
              "Occupation                  0\n",
              "Annual_Income               0\n",
              "Monthly_Inhand_Salary       0\n",
              "Num_Bank_Accounts           0\n",
              "Num_Credit_Card             0\n",
              "Interest_Rate               0\n",
              "Num_of_Loan                 0\n",
              "Type_of_Loan                0\n",
              "Delay_from_due_date         0\n",
              "Num_of_Delayed_Payment      0\n",
              "Changed_Credit_Limit        0\n",
              "Num_Credit_Inquiries        0\n",
              "Credit_Mix                  0\n",
              "Outstanding_Debt            0\n",
              "Credit_Utilization_Ratio    0\n",
              "Credit_History_Age          0\n",
              "Payment_of_Min_Amount       0\n",
              "Total_EMI_per_month         0\n",
              "Amount_invested_monthly     0\n",
              "Payment_Behaviour           0\n",
              "Monthly_Balance             0\n",
              "Credit_Score                0\n",
              "dtype: int64"
            ],
            "text/html": [
              "<div>\n",
              "<style scoped>\n",
              "    .dataframe tbody tr th:only-of-type {\n",
              "        vertical-align: middle;\n",
              "    }\n",
              "\n",
              "    .dataframe tbody tr th {\n",
              "        vertical-align: top;\n",
              "    }\n",
              "\n",
              "    .dataframe thead th {\n",
              "        text-align: right;\n",
              "    }\n",
              "</style>\n",
              "<table border=\"1\" class=\"dataframe\">\n",
              "  <thead>\n",
              "    <tr style=\"text-align: right;\">\n",
              "      <th></th>\n",
              "      <th>0</th>\n",
              "    </tr>\n",
              "  </thead>\n",
              "  <tbody>\n",
              "    <tr>\n",
              "      <th>ID</th>\n",
              "      <td>0</td>\n",
              "    </tr>\n",
              "    <tr>\n",
              "      <th>Customer_ID</th>\n",
              "      <td>0</td>\n",
              "    </tr>\n",
              "    <tr>\n",
              "      <th>Month</th>\n",
              "      <td>0</td>\n",
              "    </tr>\n",
              "    <tr>\n",
              "      <th>Name</th>\n",
              "      <td>0</td>\n",
              "    </tr>\n",
              "    <tr>\n",
              "      <th>Age</th>\n",
              "      <td>0</td>\n",
              "    </tr>\n",
              "    <tr>\n",
              "      <th>SSN</th>\n",
              "      <td>0</td>\n",
              "    </tr>\n",
              "    <tr>\n",
              "      <th>Occupation</th>\n",
              "      <td>0</td>\n",
              "    </tr>\n",
              "    <tr>\n",
              "      <th>Annual_Income</th>\n",
              "      <td>0</td>\n",
              "    </tr>\n",
              "    <tr>\n",
              "      <th>Monthly_Inhand_Salary</th>\n",
              "      <td>0</td>\n",
              "    </tr>\n",
              "    <tr>\n",
              "      <th>Num_Bank_Accounts</th>\n",
              "      <td>0</td>\n",
              "    </tr>\n",
              "    <tr>\n",
              "      <th>Num_Credit_Card</th>\n",
              "      <td>0</td>\n",
              "    </tr>\n",
              "    <tr>\n",
              "      <th>Interest_Rate</th>\n",
              "      <td>0</td>\n",
              "    </tr>\n",
              "    <tr>\n",
              "      <th>Num_of_Loan</th>\n",
              "      <td>0</td>\n",
              "    </tr>\n",
              "    <tr>\n",
              "      <th>Type_of_Loan</th>\n",
              "      <td>0</td>\n",
              "    </tr>\n",
              "    <tr>\n",
              "      <th>Delay_from_due_date</th>\n",
              "      <td>0</td>\n",
              "    </tr>\n",
              "    <tr>\n",
              "      <th>Num_of_Delayed_Payment</th>\n",
              "      <td>0</td>\n",
              "    </tr>\n",
              "    <tr>\n",
              "      <th>Changed_Credit_Limit</th>\n",
              "      <td>0</td>\n",
              "    </tr>\n",
              "    <tr>\n",
              "      <th>Num_Credit_Inquiries</th>\n",
              "      <td>0</td>\n",
              "    </tr>\n",
              "    <tr>\n",
              "      <th>Credit_Mix</th>\n",
              "      <td>0</td>\n",
              "    </tr>\n",
              "    <tr>\n",
              "      <th>Outstanding_Debt</th>\n",
              "      <td>0</td>\n",
              "    </tr>\n",
              "    <tr>\n",
              "      <th>Credit_Utilization_Ratio</th>\n",
              "      <td>0</td>\n",
              "    </tr>\n",
              "    <tr>\n",
              "      <th>Credit_History_Age</th>\n",
              "      <td>0</td>\n",
              "    </tr>\n",
              "    <tr>\n",
              "      <th>Payment_of_Min_Amount</th>\n",
              "      <td>0</td>\n",
              "    </tr>\n",
              "    <tr>\n",
              "      <th>Total_EMI_per_month</th>\n",
              "      <td>0</td>\n",
              "    </tr>\n",
              "    <tr>\n",
              "      <th>Amount_invested_monthly</th>\n",
              "      <td>0</td>\n",
              "    </tr>\n",
              "    <tr>\n",
              "      <th>Payment_Behaviour</th>\n",
              "      <td>0</td>\n",
              "    </tr>\n",
              "    <tr>\n",
              "      <th>Monthly_Balance</th>\n",
              "      <td>0</td>\n",
              "    </tr>\n",
              "    <tr>\n",
              "      <th>Credit_Score</th>\n",
              "      <td>0</td>\n",
              "    </tr>\n",
              "  </tbody>\n",
              "</table>\n",
              "</div><br><label><b>dtype:</b> int64</label>"
            ]
          },
          "metadata": {},
          "execution_count": 56
        }
      ]
    },
    {
      "cell_type": "markdown",
      "source": [
        "**Step 3 : Correction of Data types of attributes :**"
      ],
      "metadata": {
        "id": "JZcXt7Bjx6AN"
      }
    },
    {
      "cell_type": "markdown",
      "source": [
        "In this process we correct all the column's inapproprite data type into approprite data type. for example as we can see the Age column is float data type and values are filled as integer so we will change it. And Number_of_loan is also showing float type of column so we will change the data type, Similarly we will check for all attributes one by one. In this dataset we will change following attributes data type (age, SSN, Num_bank_account, Num_Credit_card,Number_of_Loan, Delay_from_due_date, Number_of_Delayed_payment, Num_Credit_Inquiries, Credit_History_Age)."
      ],
      "metadata": {
        "id": "xnf2fq0Nx8Ip"
      }
    },
    {
      "cell_type": "code",
      "source": [
        "# correction of attribute's datatype\n",
        "data[['Age','SSN','Num_Bank_Accounts','Num_Credit_Card','Num_of_Loan','Delay_from_due_date','Num_of_Delayed_Payment','Num_Credit_Inquiries','Credit_History_Age']]= data[['Age','SSN','Num_Bank_Accounts','Num_Credit_Card','Num_of_Loan','Delay_from_due_date','Num_of_Delayed_Payment','Num_Credit_Inquiries','Credit_History_Age']].astype(int)"
      ],
      "metadata": {
        "id": "jfpN2YyPyBro"
      },
      "execution_count": 57,
      "outputs": []
    },
    {
      "cell_type": "code",
      "source": [
        "data.info()"
      ],
      "metadata": {
        "colab": {
          "base_uri": "https://localhost:8080/"
        },
        "id": "-_MLB7GYyE1H",
        "outputId": "aef2a282-9e91-445a-bff3-6465fa0a47b8"
      },
      "execution_count": 58,
      "outputs": [
        {
          "output_type": "stream",
          "name": "stdout",
          "text": [
            "<class 'pandas.core.frame.DataFrame'>\n",
            "Index: 88060 entries, 0 to 99999\n",
            "Data columns (total 28 columns):\n",
            " #   Column                    Non-Null Count  Dtype  \n",
            "---  ------                    --------------  -----  \n",
            " 0   ID                        88060 non-null  int64  \n",
            " 1   Customer_ID               88060 non-null  int64  \n",
            " 2   Month                     88060 non-null  int64  \n",
            " 3   Name                      88060 non-null  object \n",
            " 4   Age                       88060 non-null  int64  \n",
            " 5   SSN                       88060 non-null  int64  \n",
            " 6   Occupation                88060 non-null  object \n",
            " 7   Annual_Income             88060 non-null  float64\n",
            " 8   Monthly_Inhand_Salary     88060 non-null  float64\n",
            " 9   Num_Bank_Accounts         88060 non-null  int64  \n",
            " 10  Num_Credit_Card           88060 non-null  int64  \n",
            " 11  Interest_Rate             88060 non-null  float64\n",
            " 12  Num_of_Loan               88060 non-null  int64  \n",
            " 13  Type_of_Loan              88060 non-null  object \n",
            " 14  Delay_from_due_date       88060 non-null  int64  \n",
            " 15  Num_of_Delayed_Payment    88060 non-null  int64  \n",
            " 16  Changed_Credit_Limit      88060 non-null  float64\n",
            " 17  Num_Credit_Inquiries      88060 non-null  int64  \n",
            " 18  Credit_Mix                88060 non-null  object \n",
            " 19  Outstanding_Debt          88060 non-null  float64\n",
            " 20  Credit_Utilization_Ratio  88060 non-null  float64\n",
            " 21  Credit_History_Age        88060 non-null  int64  \n",
            " 22  Payment_of_Min_Amount     88060 non-null  object \n",
            " 23  Total_EMI_per_month       88060 non-null  float64\n",
            " 24  Amount_invested_monthly   88060 non-null  float64\n",
            " 25  Payment_Behaviour         88060 non-null  object \n",
            " 26  Monthly_Balance           88060 non-null  float64\n",
            " 27  Credit_Score              88060 non-null  object \n",
            "dtypes: float64(9), int64(12), object(7)\n",
            "memory usage: 19.5+ MB\n"
          ]
        }
      ]
    },
    {
      "cell_type": "markdown",
      "source": [
        "As we can see that we have changed the data type of multiple columns as per the need.Now let's see our changes. now all updated data type of attributes are showing int."
      ],
      "metadata": {
        "id": "gYi4HxXTx_UE"
      }
    },
    {
      "cell_type": "markdown",
      "source": [
        "**Step 4 : Addition of columns by using existing columns.**"
      ],
      "metadata": {
        "id": "Fp5JFW1MyI_6"
      }
    },
    {
      "cell_type": "markdown",
      "source": [
        "As we have conducted an initial analysis of our dataset, we identified opportunities to enrich our data by adding new columns derived from existing ones. This enhancement will facilitate better data visualization and provide deeper insights into customer behavior and financial health.The following new attributes will be added to our dataset:\n",
        "\n"
      ],
      "metadata": {
        "id": "su1FgC69yLt_"
      }
    },
    {
      "cell_type": "markdown",
      "source": [
        "**CreditScore_numeric:** In our dataset, we categorize individuals' credit scores into three text values: \"Good,\" \"Standard,\" and \"Poor.\" To facilitate better analysis and visualization, we aim to convert these categorical values into numerical ranges.\n",
        "\n",
        "*  A \"Good\" credit score corresponds to a numerical value greater than 700.\n",
        "*  A \"Standard\" (or Fair) credit score falls within the range of 650 to 700.\n",
        "*  A \"Poor\" credit score is represented by a numerical value less than 650.\n",
        "\n",
        "By assigning these numerical ranges, we can enhance our understanding of the dataset and improve our ability to analyze how various attributes influence individuals' credit scores. This transformation will allow for more effective data visualization and predictive modeling, ultimately leading to deeper insights into creditworthiness and financial behavior."
      ],
      "metadata": {
        "id": "h43eqr9iySzP"
      }
    },
    {
      "cell_type": "code",
      "source": [
        "# Step 1: Map the categorical values to numeric values\n",
        "score_mapping = {'Poor': 600, 'Standard': 675, 'Good': 720}\n",
        "data['Credit_Score_type'] = data['Credit_Score'].map(score_mapping)\n",
        "# Step 2: Define the bins and labels for ranges\n",
        "bins = [0, 650, 700, float('inf')]  # Define the bins\n",
        "range_labels = ['0-650', '650-700', '700-1000']  # Define the range labels\n",
        "# Step 3: Create the CreditScore_numeric column using pd.cut\n",
        "data['CreditScore_numeric'] = pd.cut(data['Credit_Score_type'], bins=bins, labels=range_labels, right=False)\n",
        "# Step 4: Check the results.\n",
        "#print(data['CreditScore_numeric'].head())"
      ],
      "metadata": {
        "id": "z7lThlztyVPl"
      },
      "execution_count": 59,
      "outputs": []
    },
    {
      "cell_type": "markdown",
      "source": [
        "**Age_Group** : The Age_Group is a categorical variable which range basically defines the range of age i.e(18-30 ,31-45, 46-60, 61-75). By categorizing the age we can analyze the insights and trends that how different-different age groups people influences the financial decisions and creditworthiness.\n",
        "*  Bins: It is the value or identifier of age ranges\n",
        "*  labels: It the range of age I.e(0-18 years old will be fall in 18 bins value, 19-30 years old will fall in 30 bins value, 31-45 years old will fall in 45 bins value, 46 to 60 years old will fall in 60 bins value and for above than 60 they will fall in"
      ],
      "metadata": {
        "id": "5Oxdq8suyWFh"
      }
    },
    {
      "cell_type": "code",
      "source": [
        "# adding Age_Groups column.\n",
        "bins=[0,18,40,60]\n",
        "range=['0-18','19-40','41-60']\n",
        "data['Age_Group']=pd.cut(data['Age'],bins=bins,labels=range,right=False)"
      ],
      "metadata": {
        "id": "0uY-USJ1ybG1"
      },
      "execution_count": 60,
      "outputs": []
    },
    {
      "cell_type": "markdown",
      "source": [
        "**Income_Range**: The Income_Brackets attribute categorizes individuals based on their annual income into distinct ranges: 0-50,000.00 dollars , 50,000-1,00,000 dollars, and 1,00,000+. This categorical column provides valuable insights into the relationship between income levels and credit scores. By analyzing these ranges, we can better understand the factors contributing to variations in credit scores, allowing for more effective explanations and visualizations of financial health across different income segments."
      ],
      "metadata": {
        "id": "8X-5EiJhyeDv"
      }
    },
    {
      "cell_type": "code",
      "source": [
        "bins=[0,50000.00,100000.00,float('inf')]\n",
        "range=['0-50,000$','50,000-1,00,000$','1,00,000$+']\n",
        "data['Income_Range']=pd.cut(data['Annual_Income'],bins=bins,labels=range,right=False)\n",
        "#print(data['Income_Range'])"
      ],
      "metadata": {
        "id": "9_jNaT__yiYq"
      },
      "execution_count": 61,
      "outputs": []
    },
    {
      "cell_type": "markdown",
      "source": [
        "**Income_Brakets:** The Income_Brackets attribute categorizes individuals based on their annual income into distinct groups: High, Medium, and Low. This categorical column provides valuable insights into the relationship between income levels and credit scores. By analyzing these brackets, we can better understand the factors contributing to variations in credit scores, allowing for more effective explanations and visualizations of financial health across different income segments."
      ],
      "metadata": {
        "id": "y_aLfZfHyk9o"
      }
    },
    {
      "cell_type": "code",
      "source": [
        "bins=[0,50000.00,100000.00,float('inf')]# float('inf') is user for more than 100000 annual salaries\n",
        "range=['Low','Medium','High']\n",
        "data['Income_Brackets']=pd.cut(data['Annual_Income'],bins=bins,labels=range,right=False)\n",
        "#print(data['Income_Brackets'])"
      ],
      "metadata": {
        "id": "HIbuuVpmynlf"
      },
      "execution_count": 62,
      "outputs": []
    },
    {
      "cell_type": "markdown",
      "source": [
        "**Total_credit_products** The Total Credit products value is calculated as the sum of the number of credit cards and the number of loans held by an individual. This metric provides valuable insights into the overall engagement of customers with credit products. By analyzing the Total Credit products, we can better understand the relationship between credit utilization and individual financial behavior. This information can be visualized to illustrate the distribution of credit accounts among customers."
      ],
      "metadata": {
        "id": "1c7sRdikysfB"
      }
    },
    {
      "cell_type": "code",
      "source": [
        "data['Total_credit_products']=data['Num_of_Loan']+ data['Num_Credit_Card']\n",
        "bins=[0,5,10,20]\n",
        "range=['0-5','5-10','10+']\n",
        "data['Total_Credit_Products_Range']=pd.cut(data['Total_credit_products'],bins=bins,labels=range,right=False)\n",
        "#print(data['Total_Credit_Products_Range'].head())"
      ],
      "metadata": {
        "id": "3sIJdBthyuJy"
      },
      "execution_count": 63,
      "outputs": []
    },
    {
      "cell_type": "markdown",
      "source": [
        "**Num_Accounts_range:** The Num_Accounts_range column is created to simplify the visualization of the relationship between an individual's credit score and the number of bank accounts they have.\n",
        "\n",
        "Instead of plotting 11 unique values (ranging from 0 to 11 bank accounts), we categorize these into three meaningful ranges:\n",
        "\n",
        "* 0-3: Represents individuals with up to 3 bank accounts.\n",
        "* 3-7: Represents individuals with at least 3 but fewer than 7 bank accounts.\n",
        "* 7+: Represents individuals with 7 or more bank accounts.\n",
        "By grouping the number of bank accounts into these ranges, we reduce the complexity of our visualization, making it easier to interpret trends and patterns in the data. We now only need to visualize three categories instead of eleven, enhancing clarity and focus."
      ],
      "metadata": {
        "id": "o3UXWGuZywyq"
      }
    },
    {
      "cell_type": "code",
      "source": [
        "bins=[0,3,7,11]\n",
        "range=['0-3','3-7','7+']\n",
        "data['Num_Accounts_range']=pd.cut(data['Num_Bank_Accounts'],bins=bins,labels=range,right=False)\n",
        "#print(data['Num_Accounts_range'])"
      ],
      "metadata": {
        "id": "quoNVPcHy7eI"
      },
      "execution_count": 64,
      "outputs": []
    },
    {
      "cell_type": "markdown",
      "source": [
        "**EMI_range:**  \n",
        "In the given dataset, the total EMI per month for each individual is provided as a numerical value. However, for visualization purposes, plotting individual EMI values would be impractical due to the wide range of values.  \n",
        "\n",
        "To make the visualization clearer and more interpretable, we have categorized the Total EMI per month into predefined ranges['0-400', '400-700', '700+']\n",
        ". This approach helps in better understanding patterns and trends in the data while ensuring a more structured and meaningful representation."
      ],
      "metadata": {
        "id": "wY1i_T3Ay6p3"
      }
    },
    {
      "cell_type": "code",
      "source": [
        "bins=[0,400,800,2000]\n",
        "range=['0-400','400-700','700+']\n",
        "data['EMI_Range']=pd.cut(data['Total_EMI_per_month'],bins=bins,labels=range,right=False)\n",
        "#print(data['EMI_Range'])"
      ],
      "metadata": {
        "id": "6UvDEinMy-EE"
      },
      "execution_count": 65,
      "outputs": []
    },
    {
      "cell_type": "markdown",
      "source": [
        "**Monthly_inhand_salary_range:**  In the given dataset, the monthly in-hand salary is provided as a numerical value for each individual. However, visualizing these values directly is impractical due to the wide range of salaries.  To address this, we have categorized the monthly in-hand salary into three distinct ranges. This classification allows for clearer visualization and helps in identifying trends and patterns more effectively. By grouping the salary values, we can analyze salary distributions more efficiently and gain better insights into financial behavior."
      ],
      "metadata": {
        "id": "URr4mvW2zDlV"
      }
    },
    {
      "cell_type": "code",
      "source": [
        "bins=[0,5000,10000,20000]\n",
        "range=['0-5000$','5000-10000$','10000$+']\n",
        "data['Monthly_inhand_salary_range']=pd.cut(data['Monthly_Inhand_Salary'],bins=bins,labels=range,right=False)\n",
        "#print(data['Monthly_inhand_salary_range'].unique())"
      ],
      "metadata": {
        "id": "BXx2C_2UzHBl"
      },
      "execution_count": 66,
      "outputs": []
    },
    {
      "cell_type": "markdown",
      "source": [
        "**Outstanding_Debit_Range:** In the given dataset, the Outstanding_debt  is provided as a numerical value for each individual. However, visualizing these values directly is impractical due to the wide range of Outstanding balances.  To address this, we have categorized the Outstanding balance into three distinct ranges. This classification allows for clearer visualization and helps in identifying trends and patterns more effectively. By grouping the Outstanding Debit values, we can analyze distributions more efficiently and gain better insights into financial behavior."
      ],
      "metadata": {
        "id": "NCF73Ih7zJlJ"
      }
    },
    {
      "cell_type": "code",
      "source": [
        "bins=[0,1500,3000,6000]\n",
        "range=['0-1500$','1500-3000$','3000$+']\n",
        "data['Oustanding_Debit_Range']=pd.cut(data['Outstanding_Debt'],bins=bins,labels=range,right=False)\n",
        "#print(data['oustanding_debit_range'])"
      ],
      "metadata": {
        "id": "wcxN11HwzMN-"
      },
      "execution_count": 67,
      "outputs": []
    },
    {
      "cell_type": "markdown",
      "source": [
        "**Num_of_Loans_Range:** The **Num_of_Loan** column in the dataset contains numerical values representing the number of loans each individual has. Since there are **10 unique values**, visualizing them directly would not be practical. To improve clarity and enhance visualization, we categorized these values into three meaningful ranges: **0-3, 3-6, and 6+**. This grouping makes the data easier to interpret and provides better insights."
      ],
      "metadata": {
        "id": "fjWxUk0KzPDM"
      }
    },
    {
      "cell_type": "code",
      "source": [
        "bins=[0,3,6,10]\n",
        "range=['0-3','3-6','6+']\n",
        "data['Num_Of_Loans_Range']=pd.cut(data['Num_of_Loan'],bins=bins,labels=range,right=False)\n",
        "#print(data['Num_of_loans_range'].head(10))"
      ],
      "metadata": {
        "id": "Gj6QktWmzR1G"
      },
      "execution_count": 68,
      "outputs": []
    },
    {
      "cell_type": "markdown",
      "source": [
        "### What all manipulations have you done and insights you found?"
      ],
      "metadata": {
        "id": "hNtEXFaozWoW"
      }
    },
    {
      "cell_type": "markdown",
      "source": [
        "In this data wrangling process, we primarily focused on the data cleaning step, which involved four main actions:\n",
        "\n",
        "*  **Step 1: Removal of Duplicate Values :**\n",
        "During the exploration of the dataset, I utilized the data.duplicated().sum() function to check for duplicate rows. The analysis revealed that there were no duplicate rows in the dataset. Therefore, no action was required to remove duplicates. The removal of duplicate rows is crucial in data analysis, as duplicates can significantly impact the accuracy of the results.\n",
        "\n",
        "* **Step 2: Handling Null/Missing Values :**\n",
        "The second step involved addressing null or missing values in the dataset. Upon exploration, I identified two columns—Type_of_Loan and Payment_of_min_amount—that contained missing values. The Type_of_Loan column had 1,407 null values, which accounted for approximately 1.4% of the total rows. The Payment_of_min_amount column contained 10.7% missing values, represented in Boolean format, making it challenging to replace them without affecting data accuracy. Consequently, we decided to remove the rows with missing values, as the dataset still retained 88,060 rows.\n",
        "\n",
        "* **Step 3: Correction of Data Types :**\n",
        "In any data analysis project, it is essential to ensure that the data types of attributes are appropriate. In this dataset, I found several columns with incorrect data types, including age, SSN, Num_bank_account, Num_Credit_card, Number_of_Loan, Delay_from_due_date, Number_of_Delayed_payment, Num_Credit_Inquiries, and Credit_History_Age. These columns were incorrectly formatted as float types and needed to be converted to integer types. I corrected the data types of these attributes to ensure accurate analysis.\n",
        "\n",
        "* **Step 4: Addition of New Attributes :**\n",
        "To enhance data analysis and visualization, I added three new attributes: Age_Group, Income_Brackets, and Total_Credit_Products.\n",
        "\n",
        "  * **CreditScore_numeric**: In our dataset, we categorize individuals' credit scores into three text values: \"Good,\" \"Standard,\" and \"Poor.\" To facilitate better analysis and visualization, we aim to convert these categorical values into numerical ranges.\n",
        "\n",
        "  * **Age_Group**: The Age column was categorized into groups: 18-30, 31-45, 46-60, and 60+. This new column provides insights into how age influences credit scores.\n",
        "\n",
        "  * **Income_Range**: The Income_Range attribute categorizes individuals by their    annual income into three groups: $0 - $50,000, $50,000 - $100,000, and $100,000+. This classification helps us understand how income levels relate to credit scores, revealing trends that can inform financial decision-making and service offerings across different income segments.\n",
        "\n",
        "  * **Income_Brackets**: The Annual_Income column was classified into three categories: Poor(annual salary < 50,000 Dollars),Medium (50,000 - 100,000 Dollars), and Rich (annual salary > $100,000 Dollars). This categorization allows for analysis of how different income levels affect credit scores.\n",
        "\n",
        "  * **Total_Credit_Products**: This attribute represents the sum of the number of credit cards and loans held by an individual. It helps in understanding the relationship between a person and their credit products, enhancing the visualization of factors that influence credit scores.\n",
        "\n",
        "  * **Num_Accounts_range:** The Num_Accounts_range column is created to simplify the visualization of the relationship between an individual's credit score and the number of bank accounts they have.Instead of plotting 11 unique values (ranging from 0 to 11 bank accounts), we categorize these into three meaningful ranges:\n",
        "\n",
        "  * **EMI_range:** In the given dataset, the total EMI per month for each individual is provided as a numerical value. However, for visualization purposes, plotting individual EMI values would be impractical due to the wide range of values.\n",
        "\n",
        "  * **Monthly_inhand_salary_range:**  In the given dataset, the monthly in-hand salary is provided as a numerical value for each individual. However, visualizing these values directly is impractical due to the wide range of salaries.  To address this, we have categorized the monthly in-hand salary into three distinct ranges.\n",
        "\n",
        "  * **Outstanding_Debit_Range:** In the given dataset, the Outstanding_debt  is provided as a numerical value for each individual. However, visualizing these values directly is impractical due to the wide range of Outstanding balances.  To address this, we have categorized the Outstanding balance into three distinct ranges.  \n",
        "\n",
        "  * **Num_of_Loans_Range:** The **Num_of_Loan** column in the dataset contains numerical values representing the number of loans each individual has. Since there are **10 unique values**, visualizing them directly would not be practical. To improve clarity and enhance visualization, we categorized these values into three meaningful ranges: **0-3, 3-6, and 6+**. This grouping makes the data easier to interpret and provides better insights."
      ],
      "metadata": {
        "id": "N6cwkXiAzXTE"
      }
    },
    {
      "cell_type": "markdown",
      "source": [
        "## ***4. Data Vizualization, Storytelling & Experimenting with charts : Understand the relationships between variables***"
      ],
      "metadata": {
        "id": "O6-uOwEbsJwX"
      }
    },
    {
      "cell_type": "markdown",
      "source": [
        "In the given dataset, each transaction corresponds to a credit product, meaning that a single customer can have multiple transactions. To ensure accurate visualization and meaningful insights, we need to focus on unique customer IDs rather than individual transactions.\n",
        "\n",
        "By grouping the data based on unique customer IDs, we can generate more accurate visualizations and uncover valuable patterns in credit product usage. For example, if we want to analyze the relationship between credit score categories and the number of individuals, considering all transactions without grouping would lead to duplicate counts for customers with multiple transactions. This could distort the insights and misrepresent the actual distribution.\n",
        "\n",
        "Therefore, aggregating data at the customer level will allow us to create precise and reliable visualizations, ensuring that each individual is counted only once in analyses such as credit score distribution, product preferences, and behavioral trends."
      ],
      "metadata": {
        "id": "FhPaUbFZsMpc"
      }
    },
    {
      "cell_type": "code",
      "source": [
        "# Grouping the dataset based on unique customerID.\n",
        "df=data.groupby(\"Customer_ID\")[[\n",
        "    \"Age\", \"Occupation\", \"Annual_Income\", \"Monthly_Inhand_Salary\", \"Num_Bank_Accounts\",\n",
        "    \"Num_Credit_Card\", \"Interest_Rate\", \"Num_of_Loan\", \"Delay_from_due_date\", \"Num_of_Delayed_Payment\",\n",
        "    \"Changed_Credit_Limit\", \"Num_Credit_Inquiries\", \"Credit_Mix\", \"Outstanding_Debt\",\n",
        "    \"Credit_Utilization_Ratio\", \"Credit_History_Age\", \"Payment_of_Min_Amount\", \"Total_EMI_per_month\",\n",
        "    \"Amount_invested_monthly\", \"Payment_Behaviour\", \"Monthly_Balance\", \"Credit_Score\", \"Credit_Score_type\",\n",
        "    \"CreditScore_numeric\", \"Age_Group\", \"Income_Range\", \"Income_Brackets\", \"Total_credit_products\",'Num_Accounts_range'\n",
        "    ,'Monthly_inhand_salary_range','EMI_Range','Num_Of_Loans_Range','Oustanding_Debit_Range','Total_Credit_Products_Range'\n",
        "]].first().reset_index()\n",
        "print(len(df))"
      ],
      "metadata": {
        "colab": {
          "base_uri": "https://localhost:8080/"
        },
        "id": "tXPvf7B0sRN9",
        "outputId": "4ca88782-6e3a-4233-b0a2-8584fb4aee29"
      },
      "execution_count": 69,
      "outputs": [
        {
          "output_type": "stream",
          "name": "stdout",
          "text": [
            "12324\n"
          ]
        }
      ]
    },
    {
      "cell_type": "markdown",
      "source": [
        "### **Plot 1 : Distribution of CreditScore of individuals.**"
      ],
      "metadata": {
        "id": "VfJ-uhC4sqWz"
      }
    },
    {
      "cell_type": "code",
      "source": [
        "# Group by 'Name' and find the most frequent credit score for each unique customer\n",
        "plt.figure(figsize=(12,6))\n",
        "plt.subplot(1,2,1)\n",
        "value = df[\"Credit_Score\"].value_counts()\n",
        "credit_score_type = df[\"Credit_Score\"].value_counts().index\n",
        "# Plot the distribution of credit scores for unique customers\n",
        "plt.pie(x=value,labels=credit_score_type,autopct='%.2f%%',colors=['yellow','green','blue'])\n",
        "plt.title('Credit Score Distribution')\n",
        "# Now let's see the count of credit product users for each type of credit score by using column chart.\n",
        "plt.subplot(1,2,2)\n",
        "range_value=df['CreditScore_numeric'].value_counts()\n",
        "range_type=df['CreditScore_numeric'].value_counts().index\n",
        "plt.bar(range_type,range_value,color=['yellow','green','blue'])\n",
        "plt.title('Credit Score range Distribution')\n",
        "plt.xlabel('Type of Credit Score Range')\n",
        "plt.ylabel('Count of Unique Customers')\n",
        "plt.show()"
      ],
      "metadata": {
        "colab": {
          "base_uri": "https://localhost:8080/",
          "height": 564
        },
        "id": "m0v2Le7assAE",
        "outputId": "177e9764-1215-40a3-c939-c81f9bff8457"
      },
      "execution_count": 70,
      "outputs": [
        {
          "output_type": "display_data",
          "data": {
            "text/plain": [
              "<Figure size 1200x600 with 2 Axes>"
            ],
            "image/png": "[encoded data removed]"
          },
          "metadata": {}
        }
      ]
    },
    {
      "cell_type": "markdown",
      "source": [
        "##### 1. Why did you pick the specific chart?"
      ],
      "metadata": {
        "id": "ESCNF2XJsyTH"
      }
    },
    {
      "cell_type": "markdown",
      "source": [
        "We present one pie plot and another column plots to illustrate the distribution of credit scores among individuals: one for the proportion of credit score types (\"Good,\" \"Standard,\" \"Poor\") and another for their corresponding ranges (e.g., \"0-650,\" \"650-700,\" \"700+\"). Column plots effectively visualize the relationship between categorical and continuous variables, allowing for easy comparison of frequencies. The first plot highlights the overall credit health of the population, while the second provides a view of creditworthiness across defined ranges. Together, these visualizations facilitate better understanding of visualization."
      ],
      "metadata": {
        "id": "PB4LuF2fs0Ng"
      }
    },
    {
      "cell_type": "markdown",
      "source": [
        "##### 2. What are the insight(s) found from the chart?"
      ],
      "metadata": {
        "id": "_8iOz6xjs3dx"
      }
    },
    {
      "cell_type": "markdown",
      "source": [
        "The bar plots reveal significant insights into the credit score distribution among individuals. A substantial number of individuals, totaling 6838, fall within the \"Standard\" credit score range of 650 to 700, indicating a moderate level of creditworthiness—neither particularly strong nor weak. This represents a notable portion of the population, suggesting that many individuals may be in a transitional phase regarding their credit health.\n",
        "\n",
        "In contrast, the number of individuals with a \"Good\" credit score (ranging from 700 to 1000) is relatively low, with only 1928 individuals achieving this status. Additionally, there are 3558 individuals classified as having a \"Poor\" credit score (ranging from 0 to 600), highlighting a significant segment of the population facing potential financial challenges.\n",
        "\n",
        "Overall, these insights underscore the need for targeted financial education and support for individuals in the \"Standard\" and \"Poor\" categories to help improve their credit scores and financial stability."
      ],
      "metadata": {
        "id": "ODPB-3scs32P"
      }
    },
    {
      "cell_type": "markdown",
      "source": [
        "##### 3. Will the gained insights help creating a positive business impact?\n",
        "Are there any insights that lead to negative growth? Justify with specific reason."
      ],
      "metadata": {
        "id": "lDg7cbmPs9Mf"
      }
    },
    {
      "cell_type": "markdown",
      "source": [
        "* The insights we gain will help Paisabazaar understand the patterns in credit score ranges and values. We visualized the data using two bar plots: one shows the credit score categories (Good, Standard, Poor), and the other displays the distribution of these categories within specific score ranges.\n",
        "\n",
        "* Through this analysis, we can predict the types of credit products and loans to offer based on an individual's credit score. For example, if a person's credit score is low, we can recommend products that are more suitable for them, such as secured loans or credit cards with lower limits. On the other hand, if someone has a good credit score, we can offer them better options, like higher-limit loans or premium credit cards.\n",
        "\n",
        "* Additionally, this analysis helps us to evaluate whether someone requesting a large loan then will he be able to repay it or not. By understanding their credit score range, we can determine the maximum loan amount we can responsibly offer them based on their creditworthiness. This approach ensures that we provide personalized and appropriate lending options, helping our customers make informed financial decisions. It also helps the organization reduce the risks associated with loan approvals and credit products."
      ],
      "metadata": {
        "id": "Vap2x4iWtAdD"
      }
    },
    {
      "cell_type": "markdown",
      "source": [
        "### **Plot 2. Distribution of Credit Scores based on different-different age groups.**"
      ],
      "metadata": {
        "id": "U3QXlIjdtG99"
      }
    },
    {
      "cell_type": "code",
      "source": [
        "# Step 1: Group the data\n",
        "summary = df.groupby(['Age_Group', 'Credit_Score']).size().reset_index(name='Count')\n",
        "# Step 2: Create the bar plot\n",
        "plt.figure(figsize=(10, 6))\n",
        "sns.barplot(x='Count',y='Age_Group',hue='Credit_Score',data=summary)\n",
        "# Step 3: Customize the plot\n",
        "plt.title('Distribution of age groups and type of credit scores.')\n",
        "plt.xlabel('Count of individuals who uses credit products')\n",
        "plt.ylabel('Different- Different age groups')\n",
        "# Now show the plot\n",
        "plt.show()"
      ],
      "metadata": {
        "colab": {
          "base_uri": "https://localhost:8080/",
          "height": 564
        },
        "id": "4YDkT1_7s_rw",
        "outputId": "bb95fdb2-72f3-4085-e7b1-5e0c67f741c8"
      },
      "execution_count": 71,
      "outputs": [
        {
          "output_type": "display_data",
          "data": {
            "text/plain": [
              "<Figure size 1000x600 with 1 Axes>"
            ],
            "image/png": "[encoded data removed]"
          },
          "metadata": {}
        }
      ]
    },
    {
      "cell_type": "markdown",
      "source": [
        "##### 1. Why did you pick the specific chart?"
      ],
      "metadata": {
        "id": "khUidUa_tLX6"
      }
    },
    {
      "cell_type": "markdown",
      "source": [
        "I chose this Bar plot to show how many people use credit products based on their age groups. In this plot we have ploted category of age groups on the y axis  and the count of individuals on x axis,This visualization allows us to gain insights into how different age groups of people engage with credit products and the corresponding types of credit scores.By analyzing this data, we can better understand the relationship between age and credit product usage, as well as the implications for creditworthiness within each age group."
      ],
      "metadata": {
        "id": "moFogTUrtMNY"
      }
    },
    {
      "cell_type": "markdown",
      "source": [
        "##### 2. What are the insight(s) found from the chart?"
      ],
      "metadata": {
        "id": "XMDNh9vYtQEQ"
      }
    },
    {
      "cell_type": "markdown",
      "source": [
        "* The data reveals that the largest group of credit product users falls within the 19 to 40 age range, with a total of 7815 individuals. Among them, only 1102 have a good credit score, while the majority possess standard credit scores.\n",
        "\n",
        "* The second largest group consists of individuals aged 41 to 60, totaling 3726 users. In this group, only 826 individuals have good credit scores, indicating that most also have standard credit scores.\n",
        "\n",
        "* Overall, the analysis highlights that younger individuals (19 to 40 years old) are the most active users of credit products, but a significant portion of both age groups primarily holds standard credit scores. This information can help financial institutions tailor their services and products to better meet the needs of these age demographics."
      ],
      "metadata": {
        "id": "I13flJ2utQi1"
      }
    },
    {
      "cell_type": "markdown",
      "source": [
        "##### 3. Will the gained insights help creating a positive business impact?Are there any insights that lead to negative growth? Justify with specific reason."
      ],
      "metadata": {
        "id": "lZkuqCjItVzZ"
      }
    },
    {
      "cell_type": "markdown",
      "source": [
        "**Engaging the 19-40 Age Group** The visualization shows that individuals who aged 19-40 are the primary users of credit products, with many having a Standard credit score.\n",
        "* **Strategy**: We should focus on offering secured credit loans and credit cards with normal interest rates and lower limits to this group. For those with a Good credit score, we can provide premium credit cards with higher limits and additional benefits to encourage loyalty.\n",
        "\n",
        "**Engaging the 0-18 Age Group:**There are individuals aged 0-18 with a Good credit score, presenting a unique opportunity.\n",
        "\n",
        "* **Strategy**: We should reach out to understand their financial needs and offer tailored products, such as youth-oriented credit cards or small personal loans. However, for those with a Poor or Standard credit score, we should avoid targeting them for credit products and instead provide educational resources on credit management.\n",
        "\n",
        "**For the 41-60 Age Group**: Providing credit products to individuals aged 41 to 60 can be challenging due to various factors that may affect their creditworthiness. We should make our efforts on those within this age range who have a good credit score. If they express interest in credit products, such as credit cards, we can confidently offer them these options. However, for larger credit products, such as loans, it is essential to conduct a more thorough assessment. We should evaluate other critical factors, including income, employment background, and occupation.\n",
        "\n",
        "**Conclusion** :By implementing these strategies, we can effectively meet customer needs while minimizing risk and fostering long-term relationships. Engaging responsible young borrowers can lead to mutual growth for both customers and our organization."
      ],
      "metadata": {
        "id": "dqdQhiUatcHp"
      }
    },
    {
      "cell_type": "markdown",
      "source": [
        "### **Plot 3.  Distribution of Credit Scores vs. Annual income.**"
      ],
      "metadata": {
        "id": "0aUOgbWgtgby"
      }
    },
    {
      "cell_type": "code",
      "source": [
        "# we will plot stack bar plot for visualising the relationship between Income range and credit Score type.\n",
        "summary1=df.groupby(['Income_Range','Credit_Score']).size().reset_index(name='Count')\n",
        "#print(summary1)\n",
        "# we will plot stack bar plot for visualising the relationship between Income range and credit Score type.\n",
        "sns.barplot(x='Income_Range',y='Count',hue='Credit_Score',data=summary1)\n",
        "plt.title(\"Credit Scores vs Annual Income\")\n",
        "plt.xlabel(\"Annual Income Ranges\")\n",
        "plt.ylabel('Count of individuals')\n",
        "plt.show()"
      ],
      "metadata": {
        "colab": {
          "base_uri": "https://localhost:8080/",
          "height": 472
        },
        "id": "nZTJqtLttVbF",
        "outputId": "361dabbd-62cd-4956-e833-2516c6e525f2"
      },
      "execution_count": 72,
      "outputs": [
        {
          "output_type": "display_data",
          "data": {
            "text/plain": [
              "<Figure size 640x480 with 1 Axes>"
            ],
            "image/png": "[encoded data removed]"
          },
          "metadata": {}
        }
      ]
    },
    {
      "cell_type": "markdown",
      "source": [
        "##### 1. Why did you pick the specific chart?"
      ],
      "metadata": {
        "id": "dKKMy7pltjxz"
      }
    },
    {
      "cell_type": "markdown",
      "source": [
        "I chose a Column Chart to visualize the relationship between annual income and credit scores. In this chart, the annual income salary ranges are presented on the X-axis, while the count of individuals using credit products is shown on the Y-axis. This visualization helps us understand how credit scores are distributed across different income brackets and how income influences creditworthiness."
      ],
      "metadata": {
        "id": "Ozl38e2Wtjlj"
      }
    },
    {
      "cell_type": "markdown",
      "source": [
        "##### 2. What are the insight(s) found from the chart?"
      ],
      "metadata": {
        "id": "Sogqp5o8tjZI"
      }
    },
    {
      "cell_type": "markdown",
      "source": [
        "From this bar plot, we gained several insights and identified important trends.\n",
        "* The largest group of credit product users is in the $0 - $50,000 annual income range, with 4057 out of 7504 users having standard credit scores. Only 958 users in this group have good credit scores, while 2489 have poor credit scores.\n",
        "\n",
        "* The second largest group falls within the $50,000 - $100,000 income range. Here, most users also have standard credit scores, with only 472 out of 3273 users having good credit scores.\n",
        "\n",
        "* The smallest group consists of individuals earning over $100,000 annually. Interestingly, 30% of users in this range have good credit scores, which is a positive sign.\n",
        "\n",
        "* Overall, the trend shows that as annual income increases, the demand for credit products tends to decrease. This could be a concern for businesses, as it suggests that higher-income individuals may rely less on credit products."
      ],
      "metadata": {
        "id": "vg1RsnX7ti_f"
      }
    },
    {
      "cell_type": "markdown",
      "source": [
        "##### 3. Will the gained insights help creating a positive business impact?. Are there any insights that lead to negative growth? Justify with specific reason."
      ],
      "metadata": {
        "id": "XHTzzXjxt09L"
      }
    },
    {
      "cell_type": "markdown",
      "source": [
        "Absolutely, the insights gained from this analysis can lead to a positive business impact.\n",
        "\n",
        "**0 - $50,000 dollars annual salary**: As we can see that 7504 credit product users are belongling from this range. Notably, around 50% of these users have standard credit scores,It means they are struggling to enhance their financial needs.so For this group, if they need then we should consider offering secured credit loans with reasonable interest rates,which will help him to improve his financial needs.\n",
        "For those users whose having good credit scores in this income range so it is not easy to maintain so we can say those guys know how to manage their expences with credit products, so we can reach to them and provide them if they want any better amount loan because we know they will definitely repay it but always the amount of credit loans shouln't more than the total of 3years annual salary of the individuals.\n",
        "\n",
        "**50,000-1,00,000 Dollars**: There are total 3273 credit products user are belonging from this annual salary range in which there are only 958 users are having Good Credit scores. so for this salary range of people having good credit scores is marvellous because they are known as middle class and as we know the middle class individuals always go for that which is needful and he can manage. so if they want any credit products which falls under the same rule of 3years annual salary then we should definitely offer him for more than it then we can check other factors also like occupation,background and outstanding debit and etc.\n",
        "\n",
        "**Annual salary More than 1,00,000USD**: Our analysis shows that only 1547 individuals earn over $1,000,000 annually. Typically, higher salaries reduce the demand for credit products. However, this presents an opportunity to offer premium credit cards with attractive limits to high-income earners because the fear of repayment is very less for this group of individuals.\n",
        "We should also focus on those with poor or standard credit scores, as they may already have multiple credit products and struggle with repayment. Instead of offering loans, we can prioritize premium credit cards for these individuals.\n",
        "\n",
        "This strategy not only meets their financial needs but also encourages customer loyalty and fosters long-term relationships. Ultimately, it enhances customer satisfaction and drives business growth."
      ],
      "metadata": {
        "id": "Y-TmN0WCt3PN"
      }
    },
    {
      "cell_type": "markdown",
      "source": [
        "### **Plot 4. Distribution of credit score vs Occupation.**"
      ],
      "metadata": {
        "id": "gEooBR_uuCQU"
      }
    },
    {
      "cell_type": "code",
      "source": [
        "occupation_count=df['Occupation'].value_counts()\n",
        "occupation_type=df['Occupation'].value_counts().index\n",
        "#print(occupation_type)\n",
        "#print(occupation_count)\n",
        "plt.figure(figsize=(10,6))\n",
        "ax=sns.barplot(x=occupation_count,y=occupation_type,hue=occupation_type)\n",
        "for i,v in enumerate(occupation_count):\n",
        "  ax.text(v+4,i,str(v))\n",
        "plt.title(\"Distribution of credit score vs Occupation.\")\n",
        "plt.ylabel('Name of Month')\n",
        "plt.xlabel(\"Count of Credit product user\")\n",
        "plt.show()"
      ],
      "metadata": {
        "colab": {
          "base_uri": "https://localhost:8080/",
          "height": 564
        },
        "id": "vS0EuyVbuEjp",
        "outputId": "3f2be23d-4f9c-439d-db54-1f357f7182bc"
      },
      "execution_count": 73,
      "outputs": [
        {
          "output_type": "display_data",
          "data": {
            "text/plain": [
              "<Figure size 1000x600 with 1 Axes>"
            ],
            "image/png": "[encoded data removed]"
          },
          "metadata": {}
        }
      ]
    },
    {
      "cell_type": "markdown",
      "source": [
        "##### 1. Why did you pick the specific chart?"
      ],
      "metadata": {
        "id": "P4ibGqACuGBM"
      }
    },
    {
      "cell_type": "markdown",
      "source": [
        "I chose this Bar chart to visualize the total count of credit product users based on different occupations. This visualization will help us understand which occupations have the highest number of credit product users."
      ],
      "metadata": {
        "id": "2dYx_FUYuF2K"
      }
    },
    {
      "cell_type": "markdown",
      "source": [
        "##### 2. What are the insight(s) found from the chart?"
      ],
      "metadata": {
        "id": "9HsPrvefuFqW"
      }
    },
    {
      "cell_type": "markdown",
      "source": [
        "Total Count of Credit Product Users: The visualization reveals the total count of credit product users across various occupations, highlighting the distribution of users in different professional fields.\n",
        "\n",
        "* Leading Occupation: The data indicates that the highest number of credit product users comes from the legal profession, specifically lawyers. This suggests a strong demand for credit products within this occupational group.\n",
        "\n",
        "* Second Highest Occupation: Following lawyers, the engineering profession ranks second in terms of credit product users. This insight may indicate a significant financial need or purchasing power among engineers.\n",
        "\n",
        "* Third Highest Occupation: The architecture profession ranks third, showing that architects also represent a notable segment of credit product users.\n",
        "\n",
        "* Strategic Planning: The primary goal of this analysis was to identify the total count of credit product users based on different occupations. With these insights, we can plan our marketing and outreach strategies to better target these specific professional groups, optimizing our efforts to meet their financial needs."
      ],
      "metadata": {
        "id": "VeA2OgwOuZ9a"
      }
    },
    {
      "cell_type": "markdown",
      "source": [
        "##### 3. Will the gained insights help creating a positive business impact?. Are there any insights that lead to negative growth? Justify with specific reason."
      ],
      "metadata": {
        "id": "mTIdc68RudXH"
      }
    },
    {
      "cell_type": "markdown",
      "source": [
        "**Legal Profession (Lawyers) :** The data indicates that the highest number of credit product users comes from the legal profession, particularly lawyers. By analyzing the types of credit products they most frequently inquire about, we can tailor our offerings to meet their specific needs. For instance, if we identify that lawyers are primarily interested in personal loans or lines of credit, we can provide them with customized options based on their credit scores. This targeted approach will enhance our ability to serve this segment effectively.\n",
        "Engineering Professionals:\n",
        "\n",
        "**Engineer Professionals :**The second largest group of credit product users consists of engineers. Many engineers aspire to start their own businesses and often seek financial assistance through credit loans. By leveraging inquiry data related to credit products, we can proactively reach out to these professionals and offer them credit loans with competitive interest rates, tailored to their credit profiles. Additionally, for those who express interest in credit cards, we can provide options that align with their credit scores, ensuring they receive suitable products that meet their financial needs.\n",
        "Architects:\n",
        "\n",
        "**Architect professionals :**Architects represent the third largest group of credit product users. The nature of their work often involves significant expenses, including software, materials, and project-related costs. By analyzing the types of credit products they inquire about, we can identify their specific financial needs. Based on this information, we can offer them tailored credit solutions that align with their requirements, On the basis of their credit scores and outstanding balances."
      ],
      "metadata": {
        "id": "MtTaQ1NTuFfA"
      }
    },
    {
      "cell_type": "markdown",
      "source": [
        "### **Plot 5. Visualization of credit scores based on number of bank accounts user holds.**"
      ],
      "metadata": {
        "id": "rG5W4r1mumXP"
      }
    },
    {
      "cell_type": "code",
      "source": [
        "# Groupped the data based on both columns\n",
        "summary2=df.groupby(['Num_Accounts_range','Credit_Score']).size().reset_index(name='count')\n",
        "print(summary2)\n",
        "print(df['Num_Accounts_range'].value_counts())\n",
        "# Now let's plot the data data and understand through bar plot.\n",
        "plt.figure(figsize=(10,6))\n",
        "plot=sns.barplot(x='Num_Accounts_range',y='count',hue='Credit_Score',data=summary2)\n",
        "for container in plot.containers:\n",
        "    plot.bar_label(container, fmt='%d', label_type='edge', fontsize=10, padding=3)\n",
        "plt.xlabel('Individuals total of Bank accounts')\n",
        "plt.ylabel('Count of Individuals')\n",
        "plt.title('Distribution of Number of bank accounts vs Credit score.')\n",
        "plt.show()"
      ],
      "metadata": {
        "colab": {
          "base_uri": "https://localhost:8080/",
          "height": 832
        },
        "id": "dwBFXdSEutd3",
        "outputId": "86bd6c39-2be8-472e-bd4b-3df033648cdc"
      },
      "execution_count": 74,
      "outputs": [
        {
          "output_type": "stream",
          "name": "stdout",
          "text": [
            "  Num_Accounts_range Credit_Score  count\n",
            "0                0-3         Good    802\n",
            "1                0-3         Poor    247\n",
            "2                0-3     Standard    562\n",
            "3                3-7         Good   1022\n",
            "4                3-7         Poor   1237\n",
            "5                3-7     Standard   3882\n",
            "6                 7+         Good    104\n",
            "7                 7+         Poor   2074\n",
            "8                 7+     Standard   2394\n",
            "Num_Accounts_range\n",
            "3-7    6141\n",
            "7+     4572\n",
            "0-3    1611\n",
            "Name: count, dtype: int64\n"
          ]
        },
        {
          "output_type": "display_data",
          "data": {
            "text/plain": [
              "<Figure size 1000x600 with 1 Axes>"
            ],
            "image/png": "[encoded data removed]"
          },
          "metadata": {}
        }
      ]
    },
    {
      "cell_type": "markdown",
      "source": [
        "##### 1. Why did you pick the specific chart?"
      ],
      "metadata": {
        "id": "owZUHhuUuzxI"
      }
    },
    {
      "cell_type": "markdown",
      "source": [
        "I chose this chart because I wanted to analyze how different ranges of bank account counts influence an individual's credit score. This visualization helps us identify patterns and trends, making it easier to understand the relationship between the number of bank accounts and credit score categories. By examining this plot, we can gain insights into how account count impacts creditworthiness."
      ],
      "metadata": {
        "id": "DBuoICuou2UN"
      }
    },
    {
      "cell_type": "markdown",
      "source": [
        "##### 2. What are the insights we found from the chart?"
      ],
      "metadata": {
        "id": "8xxp9GsBvCPy"
      }
    },
    {
      "cell_type": "markdown",
      "source": [
        "**Individuals with 3 to 7 bank accounts:**  \n",
        "  - A total of 6,141 individuals fall into this category.  \n",
        "  - Only 1,022 have a good credit score.  \n",
        "  - 1,237 individuals have a poor credit score.  \n",
        "  - The majority, 3,882 individuals (about 60%), have a standard credit score.  \n",
        "\n",
        "**Individuals with 0 to 3 bank accounts:**  \n",
        "  - There are 1,611 individuals in this range.  \n",
        "  - A significant 802 individuals (about 55%) have a good credit score.  \n",
        "  - Only 247 individuals have a poor credit score.  \n",
        "  - 562 individuals have a standard credit score.  \n",
        "\n",
        "**Individuals with more than 7 bank accounts:**  \n",
        "  - A total of 4,572 individuals fall into this category.  \n",
        "  - However, only 104 individuals have a good credit score, which is very low.  \n",
        "  - The majority have either a standard or poor credit score.  \n",
        "\n",
        "**Overall trend:**  The overall pattern suggests that as the **number of bank accounts increases, the proportion of individuals with good credit scores decreases**. This indicates a potential negative correlation between the number of bank accounts and maintaining a high credit score.  \n"
      ],
      "metadata": {
        "id": "QhN0bECMvDzh"
      }
    },
    {
      "cell_type": "markdown",
      "source": [
        "##### 3. Will the gained insights help creating a positive business impact?Are there any insights that lead to negative growth? Justify with specific reason."
      ],
      "metadata": {
        "id": "7wwA38P9vOmR"
      }
    },
    {
      "cell_type": "markdown",
      "source": [
        "- The majority of individuals with Standard credit scores have between 3-7 bank accounts.\n",
        "- A higher proportion of individuals with Poor credit scores have 7 or more bank accounts compared to those with Good credit scores.\n",
        "Individuals with Good credit scores are more likely to have 0-3 bank accounts than those with Poor or Standard credit scores.\n",
        "\n",
        "**Strategies:** To build stronger customer relationships and offer tailored financial products, we can implement the following approaches:\n",
        "\n",
        "* For Individuals with Good Credit Scores (0-3 Bank Accounts):\n",
        "Since they have a strong credit profile, we can offer premium credit products, such as high-limit credit cards and better loan options, to encourage further financial engagement.\n",
        "\n",
        "* Individuals with Standard Credit Scores (3-7 Bank Accounts):\n",
        "Before offering financial products, we should assess additional factors such as outstanding balances and monthly income to determine suitable offerings.\n",
        "Based on their financial health, we can provide credit card upgrades or personal loans with manageable terms.\n",
        "\n",
        "* For Individuals with Poor Credit Scores (7+ Bank Accounts): We can help them improve their credit scores by offering credit builder loans and financial education programs.\n",
        "Providing small, secured loans with responsible repayment structures can assist in rebuilding their credit while addressing their financial needs.\n",
        "\n",
        "By implementing these targeted strategies, we can enhance customer satisfaction, build long-term relationships, and create more opportunities for financial growth for both individuals and the business."
      ],
      "metadata": {
        "id": "ZyTdd64mvS3u"
      }
    }
  ]
}