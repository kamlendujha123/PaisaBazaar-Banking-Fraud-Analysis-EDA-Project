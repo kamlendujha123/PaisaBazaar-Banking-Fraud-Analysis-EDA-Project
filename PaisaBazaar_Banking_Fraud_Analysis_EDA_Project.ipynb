{
  "nbformat": 4,
  "nbformat_minor": 0,
  "metadata": {
    "colab": {
      "provenance": [],
      "authorship_tag": "ABX9TyNd75+SCIepw5JkvNcUp0D/",
      "include_colab_link": true
    },
    "kernelspec": {
      "name": "python3",
      "display_name": "Python 3"
    },
    "language_info": {
      "name": "python"
    }
  },
  "cells": [
    {
      "cell_type": "markdown",
      "metadata": {
        "id": "view-in-github",
        "colab_type": "text"
      },
      "source": [
        "<a href=\"https://colab.research.google.com/github/kamlendujha123/PaisaBazaar-Banking-Fraud-Analysis-EDA-Project/blob/main/PaisaBazaar_Banking_Fraud_Analysis_EDA_Project.ipynb\" target=\"_parent\"><img src=\"https://colab.research.google.com/assets/colab-badge.svg\" alt=\"Open In Colab\"/></a>"
      ]
    },
    {
      "cell_type": "markdown",
      "source": [
        "# **Project Name**  : PaisaBazaar Banking Fraud Analysis\n",
        "\n"
      ],
      "metadata": {
        "id": "mVihvo2AZ5QV"
      }
    },
    {
      "cell_type": "markdown",
      "source": [
        "##### **Project Type**    : EDA (Exploratory Data Analysis)\n",
        "##### **Contribution**    : Individual\n",
        "##### **Auther -**        : Kamlendu Jha"
      ],
      "metadata": {
        "id": "befdYCMcZ9b5"
      }
    },
    {
      "cell_type": "markdown",
      "source": [
        "# **Project Summary -**"
      ],
      "metadata": {
        "id": "aYCB_WZZZ-rB"
      }
    },
    {
      "cell_type": "markdown",
      "source": [
        "### The PaisaBazaar Banking Fraud Analysis is my individual initiative."
      ],
      "metadata": {
        "id": "DsDSYzxnaItb"
      }
    },
    {
      "cell_type": "markdown",
      "source": [
        "The objective of this project is to explore and analyze the PaisaBazaar dataset to uncover insights and patterns. PaisaBazaar is a leading financial services company that assists individuals in finding and applying for various banking and credit products. A crucial aspect of their service is understanding how individuals repay their loans and manage their credit balances, which is essential for loan approval and risk management.\n",
        "\n",
        "The focus of this project is to analyze the dataset and predict individuals' credit scores based on various attributes. This predictive analysis can help PaisaBazaar enhance its services and mitigate the risks associated with loan approvals.\n",
        "\n",
        "**Workflow:** The PaisaBazaar dataset consists of 100,000 rows and 28 columns, totaling 2,800,000 data values. The initial steps involve analyzing the dataset to identify and address any issues, including the presence of duplicate rows and missing values. Specifically, we will perform:\n",
        "1. Data Cleaning: Removal of duplicate rows from the dataset. And Identification of missing values and null values in the relevent columns.\n",
        "2. Data Type Correction: we will check the data types of all attributes in the dataset. Converting the incorrectly formatted data types into the appropriate types.\n",
        "\n",
        "By following these steps, we will prepare the dataset for further analysis and modeling, ultimately aiming to the factors how different different attributes influences the Credit Score and How can we Increase the revenue generation.\n"
      ],
      "metadata": {
        "id": "XQU3ZINMaB8k"
      }
    },
    {
      "cell_type": "markdown",
      "source": [
        "# **GitHub Link -**"
      ],
      "metadata": {
        "id": "nuGIQr5naPxP"
      }
    },
    {
      "cell_type": "markdown",
      "source": [
        "Link"
      ],
      "metadata": {
        "id": "uzGMB3OHacdy"
      }
    },
    {
      "cell_type": "markdown",
      "source": [
        "# **Problem Statement**\n"
      ],
      "metadata": {
        "id": "NVLADXvmaYLO"
      }
    },
    {
      "cell_type": "markdown",
      "source": [
        "The provided dataset contains all kinds of transactional information about individuals. Our goal is to explore and analyze the dataset and find insights and trends to know the relationship between individuals and their previous transaction history by this we will investigate what factors influence the credit scores. In this analysis, we will look at attributes like SSN(Social Security number), annual income, monthly salary, outstanding balance, number of loans, and many more to learn the pattern. By identifying these key factors we will create a EDA model that will identify how various attributes influence the individual's credit score as (GOOD, Poor, Standard). This model will help paisaBazaar to enhance their decision-making for loan approvals and will reduce the risk of loan defaults and will also improve customer satisfaction.\n",
        "\n",
        "#### Steps to Develop the EDA Model.\n",
        "\n",
        "* 1. Exploratory Data Analysis (EDA):\n",
        "\n",
        "  * Data Cleaning: This step involves addressing issues such as:\n",
        "Replacement or removal of null values.\n",
        "Identification and removal of duplicate records.\n",
        "\n",
        "  * Data Profiling: Understanding the distribution and characteristics of each attribute.\n",
        "\n",
        "* 2. Data Visualization: After cleaning the data, we will create visualizations to illustrate how various attributes impact individuals' credit scores. This will help in identifying patterns and relationships within the data.\n",
        "\n",
        "* 3. Feature Engineering: Based on insights from EDA and visualization, we will create new features or modify existing ones to improve the model's predictive power."
      ],
      "metadata": {
        "id": "6wSqbt57aTtW"
      }
    },
    {
      "cell_type": "markdown",
      "source": [
        "#### **Define Your Business Objective?**"
      ],
      "metadata": {
        "id": "2tkj0I7HS_Bt"
      }
    },
    {
      "cell_type": "markdown",
      "source": [
        "The objective of this project is to conduct an Exploratory Data Analysis (EDA) that will enable PaisaBazaar to enhance its loan approval decision-making process. By identifying key factors influencing credit scores, the analysis aims to reduce loan defaults and provide personalized loan recommendations, ultimately improving customer satisfaction and fostering long-term client relationships."
      ],
      "metadata": {
        "id": "09dIdemdTFRc"
      }
    },
    {
      "cell_type": "markdown",
      "source": [
        "# **General Guidelines** : -  "
      ],
      "metadata": {
        "id": "q0cXyTn7TK3b"
      }
    },
    {
      "cell_type": "markdown",
      "source": [
        "1.   Well-structured, formatted, and commented code is required.\n",
        "2.   Exception Handling, Production Grade Code & Deployment Ready Code will be a plus. Those students will be awarded some additional credits.\n",
        "     \n",
        "     The additional credits will have advantages over other students during Star Student selection.\n",
        "       \n",
        "             [ Note: - Deployment Ready Code is defined as, the whole .ipynb notebook should be executable in one go\n",
        "                       without a single error logged. ]\n",
        "\n",
        "3.   Each and every logic should have proper comments.\n",
        "4. You may add as many number of charts you want. Make Sure for each and every chart the following format should be answered.\n",
        "        \n",
        "\n",
        "```\n",
        "# Chart visualization code\n",
        "```\n",
        "            \n",
        "\n",
        "*   Why did you pick the specific chart?\n",
        "*   What is/are the insight(s) found from the chart?\n",
        "* Will the gained insights help creating a positive business impact?\n",
        "Are there any insights that lead to negative growth? Justify with specific reason.\n",
        "\n",
        "5. You have to create at least 20 logical & meaningful charts having important insights.\n",
        "\n",
        "\n",
        "[ Hints : - Do the Vizualization in  a structured way while following \"UBM\" Rule.\n",
        "\n",
        "U - Univariate Analysis,\n",
        "\n",
        "B - Bivariate Analysis (Numerical - Categorical, Numerical - Numerical, Categorical - Categorical)\n",
        "\n",
        "M - Multivariate Analysis\n",
        " ]\n"
      ],
      "metadata": {
        "id": "7AnD4gxVTMj0"
      }
    }
  ]
}